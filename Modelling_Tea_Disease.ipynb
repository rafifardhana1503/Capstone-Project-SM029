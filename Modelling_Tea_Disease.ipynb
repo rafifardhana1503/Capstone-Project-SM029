{
  "nbformat": 4,
  "nbformat_minor": 0,
  "metadata": {
    "colab": {
      "provenance": [],
      "gpuType": "T4"
    },
    "kernelspec": {
      "name": "python3",
      "display_name": "Python 3"
    },
    "language_info": {
      "name": "python"
    },
    "accelerator": "GPU"
},  
"cells": [
    {
      "cell_type": "code",
      "execution_count": null,
      "metadata": {
        "id": "-ht8uq8yyA3I"
      },
      "outputs": [],
      "source": [
        "import gdown\n",
        "import os\n",
        "import zipfile\n",
        "import shutil\n",
        "from tqdm.notebook import tqdm as tq\n",
        "\n",
        "import pandas as pd\n",
        "import numpy as np\n",
        "import matplotlib.pyplot as plt\n",
        "import seaborn as sns\n",
        "\n",
        "import keras\n",
        "from sklearn.model_selection import train_test_split\n",
        "from sklearn.metrics import confusion_matrix, classification_report\n",
        "import tensorflow as tf\n",
        "from tensorflow.keras import Model, layers, regularizers\n",
        "from tensorflow.keras.preprocessing import image\n",
        "from tensorflow.keras.preprocessing.image import ImageDataGenerator, img_to_array, load_img\n",
        "from tensorflow.keras.optimizers import Adam, RMSprop, SGD\n",
        "from tensorflow.keras.applications import MobileNetV2\n",
        "from tensorflow.keras.layers import InputLayer, Conv2D, SeparableConv2D, MaxPooling2D, MaxPool2D, Dense, Flatten, Dropout, BatchNormalization, GlobalAveragePooling2D\n",
        "from tensorflow.keras.models import Sequential, Model, load_model\n",
        "from tensorflow.keras.callbacks import ModelCheckpoint, Callback, EarlyStopping, ReduceLROnPlateau"
      ]
    },
    {
      "cell_type": "markdown",
      "source": [
        "## Data Load"
      ],
      "metadata": {
        "id": "UGCQcMEJ1XlL"
      }
    },
    {
      "cell_type": "code",
      "source": [
        "# Download file dari Google Drive\n",
        "file_id = \"1nssl01tRJJ8Uu2Y_cIkCwADAcndOQ3m3\"\n",
        "url = f\"https://drive.google.com/uc?id={file_id}\"\n",
        "\n",
        "# Simpan data zip\n",
        "gdown.download(url, \"data_zip\", quiet=False)"
      ],
      "metadata": {
        "colab": {
          "base_uri": "https://localhost:8080/",
          "height": 142
        },
        "id": "O8N9Y186zZlg",
        "outputId": "ea558e33-ddd5-4cc8-dea2-a05daa34e1d6"
      },
      "execution_count": null,
      "outputs": [
        {
          "output_type": "stream",
          "name": "stderr",
          "text": [
            "Downloading...\n",
            "From (original): https://drive.google.com/uc?id=1nssl01tRJJ8Uu2Y_cIkCwADAcndOQ3m3\n",
            "From (redirected): https://drive.google.com/uc?id=1nssl01tRJJ8Uu2Y_cIkCwADAcndOQ3m3&confirm=t&uuid=ac10fe84-5a2c-446a-8533-303617997b42\n",
            "To: /content/data_zip\n",
            "100%|██████████| 187M/187M [00:03<00:00, 49.4MB/s]\n"
          ]
        },
        {
          "output_type": "execute_result",
          "data": {
            "text/plain": [
              "'data_zip'"
            ],
            "application/vnd.google.colaboratory.intrinsic+json": {
              "type": "string"
            }
          },
          "metadata": {},
          "execution_count": 2
        }
      ]
    },
    {
      "cell_type": "code",
      "source": [
        "# Ekstrak file zip\n",
        "with zipfile.ZipFile(\"data_zip\", \"r\") as zip_ref:\n",
        "    zip_ref.extractall(\"extracted_data\")\n",
        "\n",
        "print(\"Ekstraksi berhasil.\")"
      ],
      "metadata": {
        "colab": {
          "base_uri": "https://localhost:8080/"
        },
        "id": "TpFmcv9U0GPI",
        "outputId": "89dcf90c-c391-46b7-e2df-bfc81674d976"
      },
      "execution_count": null,
      "outputs": [
        {
          "output_type": "stream",
          "name": "stdout",
          "text": [
            "Ekstraksi berhasil.\n"
          ]
        }
      ]
    },
    {
      "cell_type": "markdown",
      "source": [
        "Plot Distribution Data"
      ],
      "metadata": {
        "id": "I7eGocnh1SgS"
      }
    },
    {
      "cell_type": "code",
      "source": [
        "# Path sumber data\n",
        "source_path = \"/content/extracted_data/content/tea/dataset_augmentation\"\n",
        "\n",
        "# Daftar yang menyimpan data untuk setiap nama file, path file, dan label dalam data\n",
        "file_name = []\n",
        "labels = []\n",
        "full_path = []\n",
        "\n",
        "# Dapatkan nama file gambar, path file, dan label satu per satu dengan looping, dan simpan sebagai dataframe\n",
        "for path, subdirs, files in os.walk(source_path):\n",
        "    for name in files:\n",
        "        full_path.append(os.path.join(path, name))\n",
        "        labels.append(path.split('/')[-1])\n",
        "        file_name.append(name)\n",
        "\n",
        "df = pd.DataFrame({\"path\":full_path, 'file_name':file_name, \"labels\":labels})"
      ],
      "metadata": {
        "id": "d7ObVr7O0Ybc"
      },
      "execution_count": null,
      "outputs": []
    },
    {
      "cell_type": "code",
      "source": [
        "# Plot distribusi gambar di setiap kelas\n",
        "Label = df[\"labels\"]\n",
        "\n",
        "plt.figure(figsize=(6, 6))\n",
        "sns.set_style(\"darkgrid\")\n",
        "plot_data = sns.countplot(Label)"
      ],
      "metadata": {
        "colab": {
          "base_uri": "https://localhost:8080/",
          "height": 542
        },
        "id": "iqKuXByB00Nk",
        "outputId": "9963d559-82a4-4a6f-fb78-1e696554a083"
      },
      "execution_count": null,
      "outputs": [
        {
          "output_type": "display_data",
          "data": {
            "text/plain": [
              "<Figure size 600x600 with 1 Axes>"
            ],
            "image/png": "[encoded data removed]"
          },
          "metadata": {}
        }
      ]
    },
    {
      "cell_type": "markdown",
      "source": [
        "## Split Dataset"
      ],
      "metadata": {
        "id": "WCK3mEvs1dk6"
      }
    },
    {
      "cell_type": "code",
      "source": [
        "# Membuat variabel pemisahan, variabel X = data path dan variabel y = data labels\n",
        "X = df[\"path\"]\n",
        "y = df[\"labels\"]\n",
        "\n",
        "# Split dataset menjadi data train dan data test\n",
        "X_train, X_test, y_train, y_test = train_test_split(X, y, test_size=0.2, random_state=300, stratify = y)"
      ],
      "metadata": {
        "id": "Kt-rTFDl07Yc"
      },
      "execution_count": null,
      "outputs": []
    },
    {
      "cell_type": "code",
      "source": [
        "# Membuat data frame masing-masing untuk data train dan data test\n",
        "df_train = pd.DataFrame({\"path\":X_train, \"labels\":y_train, \"set\":\"train\"})\n",
        "df_test = pd.DataFrame({\"path\":X_test, \"labels\":y_test, \"set\":\"test\"})"
      ],
      "metadata": {
        "id": "kga_3dxc25e7"
      },
      "execution_count": null,
      "outputs": []
    },
    {
      "cell_type": "code",
      "source": [
        "# Menggabungkan DataFrame df_train dan df_test\n",
        "df_all = pd.concat([df_train, df_test], ignore_index=True)\n",
        "\n",
        "print(\"===================================================== \\n\")\n",
        "print(df_all.groupby([\"set\", \"labels\"]).size(), '\\n')\n",
        "print(\"===================================================== \\n\")"
      ],
      "metadata": {
        "colab": {
          "base_uri": "https://localhost:8080/"
        },
        "id": "SGvbVxqh2hp6",
        "outputId": "9398a206-ebb7-45fd-acb9-8221762619f5"
      },
      "execution_count": null,
      "outputs": [
        {
          "output_type": "stream",
          "name": "stdout",
          "text": [
            "===================================================== \n",
            "\n",
            "set    labels      \n",
            "test   algal_spot      1200\n",
            "       brown_blight    1200\n",
            "       gray_blight     1200\n",
            "       healthy         1200\n",
            "       helopeltis      1200\n",
            "       red_spot        1200\n",
            "train  algal_spot      4800\n",
            "       brown_blight    4800\n",
            "       gray_blight     4800\n",
            "       healthy         4800\n",
            "       helopeltis      4800\n",
            "       red_spot        4800\n",
            "dtype: int64 \n",
            "\n",
            "===================================================== \n",
            "\n"
          ]
        }
      ]
    },
    {
      "cell_type": "code",
      "source": [
        "# Membuat path final dataset\n",
        "dataset_final_path = \"/content/extracted_data/content/tea/dataset_final\"\n",
        "\n",
        "for index, row in tq(df_all.iterrows()):\n",
        "    # Deteksi filepath\n",
        "    file_path = row[\"path\"]\n",
        "    if os.path.exists(file_path) == False:\n",
        "            file_path = os.path.join(source_path,row[\"labels\"],row[\"image\"].split('.')[0])\n",
        "\n",
        "    # Buat direktori tujuan folder\n",
        "    if os.path.exists(os.path.join(dataset_final_path,row[\"set\"],row[\"labels\"])) == False:\n",
        "        os.makedirs(os.path.join(dataset_final_path,row[\"set\"],row[\"labels\"]))\n",
        "\n",
        "    # Tentukan tujuan file\n",
        "    destination_file_name = file_path.split('/')[-1]\n",
        "    file_dest = os.path.join(dataset_final_path,row[\"set\"],row[\"labels\"],destination_file_name)\n",
        "\n",
        "    # Salin file dari sumber ke tujuan\n",
        "    if os.path.exists(file_dest) == False:\n",
        "        shutil.copy2(file_path,file_dest)"
      ],
      "metadata": {
        "colab": {
          "base_uri": "https://localhost:8080/",
          "height": 49,
          "referenced_widgets": [
            "7897d0ade0c347caae0331cd6ab48a2f",
            "8a57f0c6d8154dea937af1506fa3b9ce",
            "b5cc4f520cbc43dea44a72033be6a99f",
            "2b8f7c37dd3548c68594ba3887127247",
            "fe6bdebf95d94b7098c1d58a73e5dd7a",
            "3c3eb85fcb1742899c97669061b601d2",
            "884e59479fbc41c181d30400b6ebfaa3",
            "24f248579a0c40e4af156e92922a4821",
            "9e8aede811a5441d9cb1b0e9415353ec",
            "c063efb462b44a84a2da7c90d6ab3c38",
            "6a6b08399f9149568fde62d8c914e28a"
          ]
        },
        "id": "8mSBmZ7I2704",
        "outputId": "fb26ac18-ecc2-40c1-d113-1471681258f2"
      },
      "execution_count": null,
      "outputs": [
        {
          "output_type": "display_data",
          "data": {
            "text/plain": [
              "0it [00:00, ?it/s]"
            ],
            "application/vnd.jupyter.widget-view+json": {
              "version_major": 2,
              "version_minor": 0,
              "model_id": "7897d0ade0c347caae0331cd6ab48a2f"
            }
          },
          "metadata": {}
        }
      ]
    },
    {
      "cell_type": "code",
      "source": [
        "# Membuat variabel untuk path direktori data train dan data test\n",
        "TRAIN_DIR = \"/content/extracted_data/content/tea/dataset_final/train\"\n",
        "TEST_DIR = \"/content/extracted_data/content/tea/dataset_final/test\""
      ],
      "metadata": {
        "id": "8KRTDj8B4dRb"
      },
      "execution_count": null,
      "outputs": []
    },
    {
      "cell_type": "code",
      "source": [
        "# Membuat objek ImageDataGenerator untuk menormalkan gambar\n",
        "datagen = ImageDataGenerator(rescale=1/255., validation_split= 0.2)\n",
        "test_datagen = ImageDataGenerator(rescale=1. / 255)\n",
        "\n",
        "train_generator = datagen.flow_from_directory(TRAIN_DIR,\n",
        "                                              batch_size=32,\n",
        "                                              target_size=(224,224),\n",
        "                                              class_mode=\"categorical\",\n",
        "                                              subset=\"training\",\n",
        "                                              shuffle=True)\n",
        "\n",
        "validation_generator = datagen.flow_from_directory(TEST_DIR,\n",
        "                                                   batch_size=32,\n",
        "                                                   target_size=(224,224),\n",
        "                                                   class_mode=\"categorical\",\n",
        "                                                   subset=\"validation\",\n",
        "                                                   shuffle=False)\n",
        "\n",
        "\"\"\"test_generator = test_datagen.flow_from_directory(TEST_DIR,\n",
        "                                                  batch_size=1,\n",
        "                                                  target_size=(224,224),\n",
        "                                                  class_mode=\"categorical\",\n",
        "                                                  shuffle=False)\"\"\""
      ],
      "metadata": {
        "colab": {
          "base_uri": "https://localhost:8080/",
          "height": 104
        },
        "id": "EvRs2krP5D6W",
        "outputId": "a2d044a6-c9df-4f55-c07b-5df7d91e3483"
      },
      "execution_count": null,
      "outputs": [
        {
          "output_type": "stream",
          "name": "stdout",
          "text": [
            "Found 23040 images belonging to 6 classes.\n",
            "Found 1440 images belonging to 6 classes.\n"
          ]
        },
        {
          "output_type": "execute_result",
          "data": {
            "text/plain": [
              "'test_generator = test_datagen.flow_from_directory(TEST_DIR,\\n                                                  batch_size=1,\\n                                                  target_size=(224,224),\\n                                                  class_mode=\"categorical\",\\n                                                  shuffle=False)'"
            ],
            "application/vnd.google.colaboratory.intrinsic+json": {
              "type": "string"
            }
          },
          "metadata": {},
          "execution_count": 11
        }
      ]
    },
    {
      "cell_type": "markdown",
      "source": [
        "## Modeling"
      ],
      "metadata": {
        "id": "9LZNUrSM5JuQ"
      }
    },
    {
      "cell_type": "code",
      "source": [
        "\n",
        "class CustomCheckpoint(Callback):\n",
        "    def __init__(self, save_path=\"saved_model/1\", max_gap=0.02, loss_tolerance=0.01):\n",
        "        super(CustomCheckpoint, self).__init__()\n",
        "        self.save_path = save_path\n",
        "        self.max_gap = max_gap\n",
        "        self.loss_tolerance = loss_tolerance\n",
        "        self.best_val_acc = 0\n",
        "        self.best_val_loss = float(\"inf\")  # Inisialisasi dengan nilai sangat besar\n",
        "\n",
        "    def on_epoch_end(self, epoch, logs=None):\n",
        "        logs = logs or {}\n",
        "        val_acc = logs.get(\"val_accuracy\", 0)\n",
        "        train_acc = logs.get(\"accuracy\", 0)\n",
        "        val_loss = logs.get(\"val_loss\", float(\"inf\"))\n",
        "\n",
        "        # Simpan model jika val_acc meningkat dengan gap kecil dan val_loss membaik\n",
        "        if (val_acc > self.best_val_acc and abs(train_acc - val_acc) <= self.max_gap\n",
        "            and val_loss < self.best_val_loss):\n",
        "            self.best_val_acc = val_acc\n",
        "            self.best_val_loss = val_loss\n",
        "\n",
        "            # Simpan model dalam format SavedModel menggunakan tf.saved_model.save\n",
        "            tf.saved_model.save(self.model, self.save_path)\n",
        "            print(f\"Model disimpan di {self.save_path} dengan val_acc: {val_acc:.4f}, val_loss: {val_loss:.4f}, dan gap: {abs(train_acc - val_acc):.4f}\")\n"
      ],
      "metadata": {
        "id": "WSRa7iIbxNDq"
      },
      "execution_count": null,
      "outputs": []
    },
    {
      "cell_type": "code",
      "source": [
        "early_stopping = EarlyStopping(monitor='val_accuracy',\n",
        "                               patience=4,\n",
        "                               min_delta=0.001,\n",
        "                               restore_best_weights=True,\n",
        "                               mode='max'\n",
        "                               )\n",
        "reduce_lr = ReduceLROnPlateau(monitor='val_loss',\n",
        "                              factor=0.1,\n",
        "                              patience=3,\n",
        "                              mode='auto',\n",
        "                              )\n",
        "checkpoint = CustomCheckpoint(save_path=\"saved_model/1\")"
      ],
      "metadata": {
        "id": "G8luJmC9wl7k"
      },
      "execution_count": null,
      "outputs": []
    },
    {
      "cell_type": "code",
      "source": [
        "pre_trained_model = MobileNetV2(weights=\"imagenet\", include_top=False, input_shape=(224,224,3))\n",
        "\n",
        "for layer in pre_trained_model.layers:\n",
        "    layer.trainable = False\n",
        "\n",
        "####################### Init sequential model ##################################\n",
        "model = Sequential()\n",
        "model.add(pre_trained_model)\n",
        "\n",
        "# ######################### Input layer with Fully Connected Layer ################################\n",
        "# 1st Convolutional layer, Batch Normalization layer, and Pooling layer\n",
        "model.add(Conv2D(32, (3, 3), activation='relu', padding='same'))\n",
        "model.add(MaxPooling2D((2, 2)))\n",
        "\n",
        "# 2st Convolutional layer, Batch Normalization layer, and Pooling layer\n",
        "model.add(Conv2D(64, (3, 3), activation='relu', padding='same'))\n",
        "model.add(MaxPooling2D((2, 2)))\n",
        "\n",
        "# Flatten layer\n",
        "# model.add(Flatten(name=\"flatten\"))\n",
        "model.add(GlobalAveragePooling2D()),\n",
        "# 1nd Dense Layer\n",
        "model.add(Dropout(0.3))\n",
        "# 1nd Dropout Layer\n",
        "model.add(Dense(128, activation=\"relu\"))\n",
        "# Final Dense layer => For output prediction\n",
        "model.add(Dense(train_generator.num_classes, activation='softmax'))"
      ],
      "metadata": {
        "colab": {
          "base_uri": "https://localhost:8080/"
        },
        "id": "hdT_BWwf5LUe",
        "outputId": "8340cf7a-eafa-40ba-b3e9-114ace1ac7f2"
      },
      "execution_count": null,
      "outputs": [
        {
          "output_type": "stream",
          "name": "stdout",
          "text": [
            "Downloading data from https://storage.googleapis.com/tensorflow/keras-applications/mobilenet_v2/mobilenet_v2_weights_tf_dim_ordering_tf_kernels_1.0_224_no_top.h5\n",
            "\u001b[1m9406464/9406464\u001b[0m \u001b[32m━━━━━━━━━━━━━━━━━━━━\u001b[0m\u001b[37m\u001b[0m \u001b[1m1s\u001b[0m 0us/step\n"
          ]
        }
      ]
    },
    {
      "cell_type": "code",
      "source": [
        "# Compile model\n",
        "optimizer = tf.optimizers.Adam()\n",
        "model.compile(optimizer=optimizer,\n",
        "              loss='categorical_crossentropy',\n",
        "              metrics=['accuracy'])\n",
        "\n",
        "print(model.summary())"
      ],
      "metadata": {
        "colab": {
          "base_uri": "https://localhost:8080/",
          "height": 466
        },
        "id": "HzXTJDSB5j0B",
        "outputId": "f62cbed6-602f-43f6-bc9c-35f7a11a48fc"
      },
      "execution_count": null,
      "outputs": [
        {
          "output_type": "display_data",
          "data": {
            "text/plain": [
              "\u001b[1mModel: \"sequential\"\u001b[0m\n"
            ],
            "text/html": [
              "<pre style=\"white-space:pre;overflow-x:auto;line-height:normal;font-family:Menlo,'DejaVu Sans Mono',consolas,'Courier New',monospace\"><span style=\"font-weight: bold\">Model: \"sequential\"</span>\n",
              "</pre>\n"
            ]
          },
          "metadata": {}
        },
        {
          "output_type": "display_data",
          "data": {
            "text/plain": [
              "┏━━━━━━━━━━━━━━━━━━━━━━━━━━━━━━━━━┳━━━━━━━━━━━━━━━━━━━━━━━━┳━━━━━━━━━━━━━━━┓\n",
              "┃\u001b[1m \u001b[0m\u001b[1mLayer (type)                   \u001b[0m\u001b[1m \u001b[0m┃\u001b[1m \u001b[0m\u001b[1mOutput Shape          \u001b[0m\u001b[1m \u001b[0m┃\u001b[1m \u001b[0m\u001b[1m      Param #\u001b[0m\u001b[1m \u001b[0m┃\n",
              "┡━━━━━━━━━━━━━━━━━━━━━━━━━━━━━━━━━╇━━━━━━━━━━━━━━━━━━━━━━━━╇━━━━━━━━━━━━━━━┩\n",
              "│ mobilenetv2_1.00_224            │ (\u001b[38;5;45mNone\u001b[0m, \u001b[38;5;34m7\u001b[0m, \u001b[38;5;34m7\u001b[0m, \u001b[38;5;34m1280\u001b[0m)     │     \u001b[38;5;34m2,257,984\u001b[0m │\n",
              "│ (\u001b[38;5;33mFunctional\u001b[0m)                    │                        │               │\n",
              "├─────────────────────────────────┼────────────────────────┼───────────────┤\n",
              "│ conv2d (\u001b[38;5;33mConv2D\u001b[0m)                 │ (\u001b[38;5;45mNone\u001b[0m, \u001b[38;5;34m7\u001b[0m, \u001b[38;5;34m7\u001b[0m, \u001b[38;5;34m32\u001b[0m)       │       \u001b[38;5;34m368,672\u001b[0m │\n",
              "├─────────────────────────────────┼────────────────────────┼───────────────┤\n",
              "│ max_pooling2d (\u001b[38;5;33mMaxPooling2D\u001b[0m)    │ (\u001b[38;5;45mNone\u001b[0m, \u001b[38;5;34m3\u001b[0m, \u001b[38;5;34m3\u001b[0m, \u001b[38;5;34m32\u001b[0m)       │             \u001b[38;5;34m0\u001b[0m │\n",
              "├─────────────────────────────────┼────────────────────────┼───────────────┤\n",
              "│ conv2d_1 (\u001b[38;5;33mConv2D\u001b[0m)               │ (\u001b[38;5;45mNone\u001b[0m, \u001b[38;5;34m3\u001b[0m, \u001b[38;5;34m3\u001b[0m, \u001b[38;5;34m64\u001b[0m)       │        \u001b[38;5;34m18,496\u001b[0m │\n",
              "├─────────────────────────────────┼────────────────────────┼───────────────┤\n",
              "│ max_pooling2d_1 (\u001b[38;5;33mMaxPooling2D\u001b[0m)  │ (\u001b[38;5;45mNone\u001b[0m, \u001b[38;5;34m1\u001b[0m, \u001b[38;5;34m1\u001b[0m, \u001b[38;5;34m64\u001b[0m)       │             \u001b[38;5;34m0\u001b[0m │\n",
              "├─────────────────────────────────┼────────────────────────┼───────────────┤\n",
              "│ global_average_pooling2d        │ (\u001b[38;5;45mNone\u001b[0m, \u001b[38;5;34m64\u001b[0m)             │             \u001b[38;5;34m0\u001b[0m │\n",
              "│ (\u001b[38;5;33mGlobalAveragePooling2D\u001b[0m)        │                        │               │\n",
              "├─────────────────────────────────┼────────────────────────┼───────────────┤\n",
              "│ dropout (\u001b[38;5;33mDropout\u001b[0m)               │ (\u001b[38;5;45mNone\u001b[0m, \u001b[38;5;34m64\u001b[0m)             │             \u001b[38;5;34m0\u001b[0m │\n",
              "├─────────────────────────────────┼────────────────────────┼───────────────┤\n",
              "│ dense (\u001b[38;5;33mDense\u001b[0m)                   │ (\u001b[38;5;45mNone\u001b[0m, \u001b[38;5;34m128\u001b[0m)            │         \u001b[38;5;34m8,320\u001b[0m │\n",
              "├─────────────────────────────────┼────────────────────────┼───────────────┤\n",
              "│ dense_1 (\u001b[38;5;33mDense\u001b[0m)                 │ (\u001b[38;5;45mNone\u001b[0m, \u001b[38;5;34m6\u001b[0m)              │           \u001b[38;5;34m774\u001b[0m │\n",
              "└─────────────────────────────────┴────────────────────────┴───────────────┘\n"
            ],
            "text/html": [
              "<pre style=\"white-space:pre;overflow-x:auto;line-height:normal;font-family:Menlo,'DejaVu Sans Mono',consolas,'Courier New',monospace\">┏━━━━━━━━━━━━━━━━━━━━━━━━━━━━━━━━━┳━━━━━━━━━━━━━━━━━━━━━━━━┳━━━━━━━━━━━━━━━┓\n",
              "┃<span style=\"font-weight: bold\"> Layer (type)                    </span>┃<span style=\"font-weight: bold\"> Output Shape           </span>┃<span style=\"font-weight: bold\">       Param # </span>┃\n",
              "┡━━━━━━━━━━━━━━━━━━━━━━━━━━━━━━━━━╇━━━━━━━━━━━━━━━━━━━━━━━━╇━━━━━━━━━━━━━━━┩\n",
              "│ mobilenetv2_1.00_224            │ (<span style=\"color: #00d7ff; text-decoration-color: #00d7ff\">None</span>, <span style=\"color: #00af00; text-decoration-color: #00af00\">7</span>, <span style=\"color: #00af00; text-decoration-color: #00af00\">7</span>, <span style=\"color: #00af00; text-decoration-color: #00af00\">1280</span>)     │     <span style=\"color: #00af00; text-decoration-color: #00af00\">2,257,984</span> │\n",
              "│ (<span style=\"color: #0087ff; text-decoration-color: #0087ff\">Functional</span>)                    │                        │               │\n",
              "├─────────────────────────────────┼────────────────────────┼───────────────┤\n",
              "│ conv2d (<span style=\"color: #0087ff; text-decoration-color: #0087ff\">Conv2D</span>)                 │ (<span style=\"color: #00d7ff; text-decoration-color: #00d7ff\">None</span>, <span style=\"color: #00af00; text-decoration-color: #00af00\">7</span>, <span style=\"color: #00af00; text-decoration-color: #00af00\">7</span>, <span style=\"color: #00af00; text-decoration-color: #00af00\">32</span>)       │       <span style=\"color: #00af00; text-decoration-color: #00af00\">368,672</span> │\n",
              "├─────────────────────────────────┼────────────────────────┼───────────────┤\n",
              "│ max_pooling2d (<span style=\"color: #0087ff; text-decoration-color: #0087ff\">MaxPooling2D</span>)    │ (<span style=\"color: #00d7ff; text-decoration-color: #00d7ff\">None</span>, <span style=\"color: #00af00; text-decoration-color: #00af00\">3</span>, <span style=\"color: #00af00; text-decoration-color: #00af00\">3</span>, <span style=\"color: #00af00; text-decoration-color: #00af00\">32</span>)       │             <span style=\"color: #00af00; text-decoration-color: #00af00\">0</span> │\n",
              "├─────────────────────────────────┼────────────────────────┼───────────────┤\n",
              "│ conv2d_1 (<span style=\"color: #0087ff; text-decoration-color: #0087ff\">Conv2D</span>)               │ (<span style=\"color: #00d7ff; text-decoration-color: #00d7ff\">None</span>, <span style=\"color: #00af00; text-decoration-color: #00af00\">3</span>, <span style=\"color: #00af00; text-decoration-color: #00af00\">3</span>, <span style=\"color: #00af00; text-decoration-color: #00af00\">64</span>)       │        <span style=\"color: #00af00; text-decoration-color: #00af00\">18,496</span> │\n",
              "├─────────────────────────────────┼────────────────────────┼───────────────┤\n",
              "│ max_pooling2d_1 (<span style=\"color: #0087ff; text-decoration-color: #0087ff\">MaxPooling2D</span>)  │ (<span style=\"color: #00d7ff; text-decoration-color: #00d7ff\">None</span>, <span style=\"color: #00af00; text-decoration-color: #00af00\">1</span>, <span style=\"color: #00af00; text-decoration-color: #00af00\">1</span>, <span style=\"color: #00af00; text-decoration-color: #00af00\">64</span>)       │             <span style=\"color: #00af00; text-decoration-color: #00af00\">0</span> │\n",
              "├─────────────────────────────────┼────────────────────────┼───────────────┤\n",
              "│ global_average_pooling2d        │ (<span style=\"color: #00d7ff; text-decoration-color: #00d7ff\">None</span>, <span style=\"color: #00af00; text-decoration-color: #00af00\">64</span>)             │             <span style=\"color: #00af00; text-decoration-color: #00af00\">0</span> │\n",
              "│ (<span style=\"color: #0087ff; text-decoration-color: #0087ff\">GlobalAveragePooling2D</span>)        │                        │               │\n",
              "├─────────────────────────────────┼────────────────────────┼───────────────┤\n",
              "│ dropout (<span style=\"color: #0087ff; text-decoration-color: #0087ff\">Dropout</span>)               │ (<span style=\"color: #00d7ff; text-decoration-color: #00d7ff\">None</span>, <span style=\"color: #00af00; text-decoration-color: #00af00\">64</span>)             │             <span style=\"color: #00af00; text-decoration-color: #00af00\">0</span> │\n",
              "├─────────────────────────────────┼────────────────────────┼───────────────┤\n",
              "│ dense (<span style=\"color: #0087ff; text-decoration-color: #0087ff\">Dense</span>)                   │ (<span style=\"color: #00d7ff; text-decoration-color: #00d7ff\">None</span>, <span style=\"color: #00af00; text-decoration-color: #00af00\">128</span>)            │         <span style=\"color: #00af00; text-decoration-color: #00af00\">8,320</span> │\n",
              "├─────────────────────────────────┼────────────────────────┼───────────────┤\n",
              "│ dense_1 (<span style=\"color: #0087ff; text-decoration-color: #0087ff\">Dense</span>)                 │ (<span style=\"color: #00d7ff; text-decoration-color: #00d7ff\">None</span>, <span style=\"color: #00af00; text-decoration-color: #00af00\">6</span>)              │           <span style=\"color: #00af00; text-decoration-color: #00af00\">774</span> │\n",
              "└─────────────────────────────────┴────────────────────────┴───────────────┘\n",
              "</pre>\n"
            ]
          },
          "metadata": {}
        },
        {
          "output_type": "display_data",
          "data": {
            "text/plain": [
              "\u001b[1m Total params: \u001b[0m\u001b[38;5;34m2,654,246\u001b[0m (10.13 MB)\n"
            ],
            "text/html": [
              "<pre style=\"white-space:pre;overflow-x:auto;line-height:normal;font-family:Menlo,'DejaVu Sans Mono',consolas,'Courier New',monospace\"><span style=\"font-weight: bold\"> Total params: </span><span style=\"color: #00af00; text-decoration-color: #00af00\">2,654,246</span> (10.13 MB)\n",
              "</pre>\n"
            ]
          },
          "metadata": {}
        },
        {
          "output_type": "display_data",
          "data": {
            "text/plain": [
              "\u001b[1m Trainable params: \u001b[0m\u001b[38;5;34m396,262\u001b[0m (1.51 MB)\n"
            ],
            "text/html": [
              "<pre style=\"white-space:pre;overflow-x:auto;line-height:normal;font-family:Menlo,'DejaVu Sans Mono',consolas,'Courier New',monospace\"><span style=\"font-weight: bold\"> Trainable params: </span><span style=\"color: #00af00; text-decoration-color: #00af00\">396,262</span> (1.51 MB)\n",
              "</pre>\n"
            ]
          },
          "metadata": {}
        },
        {
          "output_type": "display_data",
          "data": {
            "text/plain": [
              "\u001b[1m Non-trainable params: \u001b[0m\u001b[38;5;34m2,257,984\u001b[0m (8.61 MB)\n"
            ],
            "text/html": [
              "<pre style=\"white-space:pre;overflow-x:auto;line-height:normal;font-family:Menlo,'DejaVu Sans Mono',consolas,'Courier New',monospace\"><span style=\"font-weight: bold\"> Non-trainable params: </span><span style=\"color: #00af00; text-decoration-color: #00af00\">2,257,984</span> (8.61 MB)\n",
              "</pre>\n"
            ]
          },
          "metadata": {}
        },
        {
          "output_type": "stream",
          "name": "stdout",
          "text": [
            "None\n"
          ]
        }
      ]
    },
    {
      "cell_type": "code",
      "source": [
        "%%time\n",
        "num_epochs = 50\n",
        "\n",
        "history = model.fit(train_generator,\n",
        "                    epochs=num_epochs,\n",
        "                    validation_data=validation_generator,\n",
        "                    batch_size = 64,\n",
        "                    callbacks =[early_stopping,reduce_lr],\n",
        "                    verbose=2)"
      ],
      "metadata": {
        "colab": {
          "base_uri": "https://localhost:8080/"
        },
        "id": "dAHlppwzw3Ty",
        "outputId": "b23a5221-e8a8-4457-91ef-68ac5164dd2f"
      },
      "execution_count": null,
      "outputs": [
        {
          "output_type": "stream",
          "name": "stdout",
          "text": [
            "Epoch 1/50\n"
          ]
        },
        {
          "output_type": "stream",
          "name": "stderr",
          "text": [
            "/usr/local/lib/python3.11/dist-packages/keras/src/trainers/data_adapters/py_dataset_adapter.py:121: UserWarning: Your `PyDataset` class should call `super().__init__(**kwargs)` in its constructor. `**kwargs` can include `workers`, `use_multiprocessing`, `max_queue_size`. Do not pass these arguments to `fit()`, as they will be ignored.\n",
            "  self._warn_if_super_not_called()\n"
          ]
        },
        {
          "output_type": "stream",
          "name": "stdout",
          "text": [
            "720/720 - 53s - 74ms/step - accuracy: 0.7782 - loss: 0.6280 - val_accuracy: 0.8458 - val_loss: 0.4603 - learning_rate: 1.0000e-03\n",
            "Epoch 2/50\n",
            "720/720 - 36s - 50ms/step - accuracy: 0.8906 - loss: 0.3310 - val_accuracy: 0.8847 - val_loss: 0.3452 - learning_rate: 1.0000e-03\n",
            "Epoch 3/50\n",
            "720/720 - 35s - 48ms/step - accuracy: 0.9177 - loss: 0.2446 - val_accuracy: 0.8993 - val_loss: 0.2967 - learning_rate: 1.0000e-03\n",
            "Epoch 4/50\n",
            "720/720 - 36s - 50ms/step - accuracy: 0.9343 - loss: 0.1981 - val_accuracy: 0.8910 - val_loss: 0.3593 - learning_rate: 1.0000e-03\n",
            "Epoch 5/50\n",
            "720/720 - 37s - 52ms/step - accuracy: 0.9431 - loss: 0.1688 - val_accuracy: 0.8951 - val_loss: 0.3992 - learning_rate: 1.0000e-03\n",
            "Epoch 6/50\n",
            "720/720 - 35s - 49ms/step - accuracy: 0.9559 - loss: 0.1324 - val_accuracy: 0.9076 - val_loss: 0.3612 - learning_rate: 1.0000e-03\n",
            "Epoch 7/50\n",
            "720/720 - 40s - 56ms/step - accuracy: 0.9822 - loss: 0.0564 - val_accuracy: 0.9215 - val_loss: 0.3048 - learning_rate: 1.0000e-04\n",
            "Epoch 8/50\n",
            "720/720 - 34s - 47ms/step - accuracy: 0.9868 - loss: 0.0403 - val_accuracy: 0.9208 - val_loss: 0.3072 - learning_rate: 1.0000e-04\n",
            "Epoch 9/50\n",
            "720/720 - 41s - 57ms/step - accuracy: 0.9902 - loss: 0.0311 - val_accuracy: 0.9257 - val_loss: 0.3189 - learning_rate: 1.0000e-04\n",
            "Epoch 10/50\n",
            "720/720 - 36s - 49ms/step - accuracy: 0.9934 - loss: 0.0223 - val_accuracy: 0.9271 - val_loss: 0.3202 - learning_rate: 1.0000e-05\n",
            "Epoch 11/50\n",
            "720/720 - 35s - 49ms/step - accuracy: 0.9937 - loss: 0.0228 - val_accuracy: 0.9271 - val_loss: 0.3233 - learning_rate: 1.0000e-05\n",
            "Epoch 12/50\n",
            "720/720 - 34s - 47ms/step - accuracy: 0.9945 - loss: 0.0204 - val_accuracy: 0.9278 - val_loss: 0.3296 - learning_rate: 1.0000e-05\n",
            "Epoch 13/50\n",
            "720/720 - 35s - 49ms/step - accuracy: 0.9948 - loss: 0.0195 - val_accuracy: 0.9285 - val_loss: 0.3304 - learning_rate: 1.0000e-06\n",
            "Epoch 14/50\n",
            "720/720 - 34s - 48ms/step - accuracy: 0.9947 - loss: 0.0192 - val_accuracy: 0.9285 - val_loss: 0.3310 - learning_rate: 1.0000e-06\n",
            "Epoch 15/50\n",
            "720/720 - 34s - 48ms/step - accuracy: 0.9946 - loss: 0.0193 - val_accuracy: 0.9271 - val_loss: 0.3317 - learning_rate: 1.0000e-06\n",
            "Epoch 16/50\n",
            "720/720 - 33s - 46ms/step - accuracy: 0.9946 - loss: 0.0194 - val_accuracy: 0.9278 - val_loss: 0.3316 - learning_rate: 1.0000e-07\n",
            "Epoch 17/50\n",
            "720/720 - 36s - 50ms/step - accuracy: 0.9944 - loss: 0.0196 - val_accuracy: 0.9278 - val_loss: 0.3317 - learning_rate: 1.0000e-07\n",
            "CPU times: user 12min 34s, sys: 36.9 s, total: 13min 11s\n",
            "Wall time: 10min 26s\n"
          ]
        }
      ]
    },
    {
      "cell_type": "code",
      "source": [
        "results = model.predict(\n",
        "    source=\"/content/dataset/test/images\",\n",
        "    conf=0.5,\n",
        "    save=True\n",
        ")"
      ],
      "metadata": {
        "id": "a5TCo2Emg0lD"
      },
      "execution_count": null,
      "outputs": []
    },
    {
      "cell_type": "code",
      "source": [
        "# Evaluasi model menggunakan data pengujian\n",
        "evaluation = model.evaluate(\n",
        "    validation_generator,\n",
        "    steps=validation_generator.samples,\n",
        "    callbacks =[early_stopping,reduce_lr]\n",
        ")\n",
        "\n",
        "# Menampilkan hasil evaluasi\n",
        "print(f\"Test Loss: {evaluation[0]:.4f}\")\n",
        "print(f\"Test Accuracy: {evaluation[1]:.4f}\")"
      ],
      "metadata": {
        "colab": {
          "base_uri": "https://localhost:8080/"
        },
        "id": "cqnShRYvw3X8",
        "outputId": "fe06a4d6-227e-49b3-ace7-a352681eca5f"
      },
      "execution_count": null,
      "outputs": [
        {
          "output_type": "stream",
          "name": "stdout",
          "text": [
            "\u001b[1m1440/1440\u001b[0m \u001b[32m━━━━━━━━━━━━━━━━━━━━\u001b[0m\u001b[37m\u001b[0m \u001b[1m2s\u001b[0m 1ms/step - accuracy: 0.9290 - loss: 0.3283   \n"
          ]
        },
        {
          "output_type": "stream",
          "name": "stderr",
          "text": [
            "/usr/local/lib/python3.11/dist-packages/keras/src/trainers/epoch_iterator.py:107: UserWarning: Your input ran out of data; interrupting training. Make sure that your dataset or generator can generate at least `steps_per_epoch * epochs` batches. You may need to use the `.repeat()` function when building your dataset.\n",
            "  self._interrupted_warning()\n"
          ]
        },
        {
          "output_type": "stream",
          "name": "stdout",
          "text": [
            "Test Loss: 0.3304\n",
            "Test Accuracy: 0.9285\n"
          ]
        }
      ]
    },
    {
      "cell_type": "code",
      "source": [
        "acc = history.history[\"accuracy\"]\n",
        "val_acc = history.history[\"val_accuracy\"]\n",
        "loss = history.history[\"loss\"]\n",
        "val_loss = history.history[\"val_loss\"]\n",
        "\n",
        "epochs = range(len(acc))\n",
        "\n",
        "plt.plot(epochs, acc, 'r')\n",
        "plt.plot(epochs, val_acc, 'b')\n",
        "plt.title('Training and Validation Accuracy')\n",
        "plt.ylabel('accuracy')\n",
        "plt.xlabel('epoch')\n",
        "plt.legend(['train', 'val'], loc='upper left')\n",
        "plt.show()\n",
        "\n",
        "plt.plot(epochs, loss, 'r')\n",
        "plt.plot(epochs, val_loss, 'b')\n",
        "plt.ylabel('loss')\n",
        "plt.xlabel('epoch')\n",
        "plt.legend(['train', 'val'], loc='upper left')\n",
        "plt.title('Training and Validation Loss')\n",
        "plt.show()"
      ],
      "metadata": {
        "id": "IRlaSoIS7djo",
        "colab": {
          "base_uri": "https://localhost:8080/",
          "height": 927
        },
        "outputId": "9f292922-7aac-4e73-a486-0494f820c50c"
      },
      "execution_count": null,
      "outputs": [
        {
          "output_type": "display_data",
          "data": {
            "text/plain": [
              "<Figure size 640x480 with 1 Axes>"
            ],
            "image/png": "[encoded data removed]"
          },
          "metadata": {}
        },
        {
          "output_type": "display_data",
          "data": {
            "text/plain": [
              "<Figure size 640x480 with 1 Axes>"
            ],
            "image/png": "[encoded data removed]"
          },
          "metadata": {}
        }
      ]
    },
    {
      "cell_type": "markdown",
      "source": [
        "## Evaluation"
      ],
      "metadata": {
        "id": "BGq-600S7k8H"
      }
    },
    {
      "cell_type": "code",
      "source": [
        "validation_generator.reset()\n",
        "\n",
        "# Prediksi probabilitas kelas\n",
        "pred_probs = model.predict(validation_generator, verbose=1)\n",
        "\n",
        "# Mengambil prediksi label (kelas dengan probabilitas tertinggi)\n",
        "pred_classes = np.argmax(pred_probs, axis=1)\n",
        "\n",
        "# Label aktual dari generator\n",
        "true_classes = validation_generator.classes\n",
        "\n",
        "# Nama kelas dari generator\n",
        "class_labels = list(validation_generator.class_indices.keys())\n",
        "\n",
        "# Confusion Matrix\n",
        "cm = confusion_matrix(true_classes, pred_classes)\n",
        "\n",
        "# Visualisasi Confusion Matrix\n",
        "plt.figure(figsize=(8,6))\n",
        "sns.heatmap(cm, annot=True, fmt=\"d\", cmap=\"Blues\",\n",
        "            xticklabels=class_labels,\n",
        "            yticklabels=class_labels)\n",
        "plt.xlabel(\"Predicted Label\")\n",
        "plt.ylabel(\"True Label\")\n",
        "plt.title(\"Confusion Matrix\")\n",
        "plt.show()\n",
        "\n",
        "# Classification Report\n",
        "print(\"\\nClassification Report:\")\n",
        "print(classification_report(true_classes, pred_classes, target_names=class_labels, digits=4))"
      ],
      "metadata": {
        "id": "ZBbdrKFB7mO_",
        "colab": {
          "base_uri": "https://localhost:8080/",
          "height": 918
        },
        "outputId": "0e4b77e7-2c6c-4f0a-ee36-b20b5c3f871f"
      },
      "execution_count": null,
      "outputs": [
        {
          "output_type": "stream",
          "name": "stdout",
          "text": [
            "\u001b[1m45/45\u001b[0m \u001b[32m━━━━━━━━━━━━━━━━━━━━\u001b[0m\u001b[37m\u001b[0m \u001b[1m5s\u001b[0m 42ms/step\n"
          ]
        },
        {
          "output_type": "display_data",
          "data": {
            "text/plain": [
              "<Figure size 800x600 with 2 Axes>"
            ],
            "image/png": "[encoded data removed]"
          },
          "metadata": {}
        },
        {
          "output_type": "stream",
          "name": "stdout",
          "text": [
            "\n",
            "Classification Report:\n",
            "              precision    recall  f1-score   support\n",
            "\n",
            "  algal_spot     0.9792    0.9792    0.9792       240\n",
            "brown_blight     0.9394    0.9042    0.9214       240\n",
            " gray_blight     0.9046    0.9083    0.9064       240\n",
            "     healthy     0.8996    0.8958    0.8977       240\n",
            "  helopeltis     0.9419    0.9458    0.9439       240\n",
            "    red_spot     0.9073    0.9375    0.9221       240\n",
            "\n",
            "    accuracy                         0.9285      1440\n",
            "   macro avg     0.9286    0.9285    0.9285      1440\n",
            "weighted avg     0.9286    0.9285    0.9285      1440\n",
            "\n"
          ]
        }
      ]
    },
    {
      "cell_type": "code",
      "source": [
        "model.save('model_terlatih.keras')"
      ],
      "metadata": {
        "id": "7o1RdtpXxel4"
      },
      "execution_count": null,
      "outputs": []
    },
    {
      "cell_type": "code",
      "source": [
        "model.save('model_terlatih.h5')"
      ],
      "metadata": {
        "colab": {
          "base_uri": "https://localhost:8080/"
        },
        "id": "Td8Of8Oai-Ni",
        "outputId": "ea935c07-c54b-4791-ced1-4d34b1b7b00a"
      },
      "execution_count": null,
      "outputs": [
        {
          "output_type": "stream",
          "name": "stderr",
          "text": [
            "WARNING:absl:You are saving your model as an HDF5 file via `model.save()` or `keras.saving.save_model(model)`. This file format is considered legacy. We recommend using instead the native Keras format, e.g. `model.save('my_model.keras')` or `keras.saving.save_model(model, 'my_model.keras')`. \n"
          ]
        }
      ]
    },
    {
      "cell_type": "code",
      "source": [
        "import tensorflow as tf\n",
        "\n",
        "# Muat model\n",
        "model = tf.keras.models.load_model('model_terlatih.h5')\n",
        "\n",
        "# Konversi ke TFLite\n",
        "converter = tf.lite.TFLiteConverter.from_keras_model(model)\n",
        "tflite_model = converter.convert()\n",
        "\n",
        "class_names = train_generator.class_indices  # atau class_names kamu\n",
        "with open(\"labels.txt\", \"w\") as f:\n",
        "    for label in class_names:\n",
        "        f.write(label + \"\\n\")\n"
      ],
      "metadata": {
        "colab": {
          "base_uri": "https://localhost:8080/"
        },
        "id": "eUp805_tjKYD",
        "outputId": "bbfab70b-6d05-4782-d08c-422fd145ae97"
      },
      "execution_count": null,
      "outputs": [
        {
          "output_type": "stream",
          "name": "stderr",
          "text": [
            "WARNING:absl:Compiled the loaded model, but the compiled metrics have yet to be built. `model.compile_metrics` will be empty until you train or evaluate the model.\n"
          ]
        },
        {
          "output_type": "stream",
          "name": "stdout",
          "text": [
            "Saved artifact at '/tmp/tmpvfebr93e'. The following endpoints are available:\n",
            "\n",
            "* Endpoint 'serve'\n",
            "  args_0 (POSITIONAL_ONLY): TensorSpec(shape=(None, 224, 224, 3), dtype=tf.float32, name='input_layer_1')\n",
            "Output Type:\n",
            "  TensorSpec(shape=(None, 6), dtype=tf.float32, name=None)\n",
            "Captures:\n",
            "  135049416227728: TensorSpec(shape=(), dtype=tf.resource, name=None)\n",
            "  135049416221008: TensorSpec(shape=(), dtype=tf.resource, name=None)\n",
            "  135049416228688: TensorSpec(shape=(), dtype=tf.resource, name=None)\n",
            "  135049416228496: TensorSpec(shape=(), dtype=tf.resource, name=None)\n",
            "  135049416227536: TensorSpec(shape=(), dtype=tf.resource, name=None)\n",
            "  135049416225232: TensorSpec(shape=(), dtype=tf.resource, name=None)\n",
            "  135049416228112: TensorSpec(shape=(), dtype=tf.resource, name=None)\n",
            "  135049416224656: TensorSpec(shape=(), dtype=tf.resource, name=None)\n",
            "  135049416224848: TensorSpec(shape=(), dtype=tf.resource, name=None)\n",
            "  135049416226960: TensorSpec(shape=(), dtype=tf.resource, name=None)\n",
            "  135049416223504: TensorSpec(shape=(), dtype=tf.resource, name=None)\n",
            "  135049416223120: TensorSpec(shape=(), dtype=tf.resource, name=None)\n",
            "  135049416222736: TensorSpec(shape=(), dtype=tf.resource, name=None)\n",
            "  135049416222928: TensorSpec(shape=(), dtype=tf.resource, name=None)\n",
            "  135049416226768: TensorSpec(shape=(), dtype=tf.resource, name=None)\n",
            "  135049416221584: TensorSpec(shape=(), dtype=tf.resource, name=None)\n",
            "  135049416220816: TensorSpec(shape=(), dtype=tf.resource, name=None)\n",
            "  135049416222352: TensorSpec(shape=(), dtype=tf.resource, name=None)\n",
            "  135049416221200: TensorSpec(shape=(), dtype=tf.resource, name=None)\n",
            "  135049416223888: TensorSpec(shape=(), dtype=tf.resource, name=None)\n",
            "  135049560752400: TensorSpec(shape=(), dtype=tf.resource, name=None)\n",
            "  135049560753744: TensorSpec(shape=(), dtype=tf.resource, name=None)\n",
            "  135049560754128: TensorSpec(shape=(), dtype=tf.resource, name=None)\n",
            "  135049560753936: TensorSpec(shape=(), dtype=tf.resource, name=None)\n",
            "  135049560752592: TensorSpec(shape=(), dtype=tf.resource, name=None)\n",
            "  135049560755280: TensorSpec(shape=(), dtype=tf.resource, name=None)\n",
            "  135049560755664: TensorSpec(shape=(), dtype=tf.resource, name=None)\n",
            "  135049560756048: TensorSpec(shape=(), dtype=tf.resource, name=None)\n",
            "  135049560755856: TensorSpec(shape=(), dtype=tf.resource, name=None)\n",
            "  135049560753168: TensorSpec(shape=(), dtype=tf.resource, name=None)\n",
            "  135049560757200: TensorSpec(shape=(), dtype=tf.resource, name=None)\n",
            "  135049560757584: TensorSpec(shape=(), dtype=tf.resource, name=None)\n",
            "  135049560757968: TensorSpec(shape=(), dtype=tf.resource, name=None)\n",
            "  135049560757776: TensorSpec(shape=(), dtype=tf.resource, name=None)\n",
            "  135049560753360: TensorSpec(shape=(), dtype=tf.resource, name=None)\n",
            "  135049560759120: TensorSpec(shape=(), dtype=tf.resource, name=None)\n",
            "  135049560759504: TensorSpec(shape=(), dtype=tf.resource, name=None)\n",
            "  135049560759888: TensorSpec(shape=(), dtype=tf.resource, name=None)\n",
            "  135049560759696: TensorSpec(shape=(), dtype=tf.resource, name=None)\n",
            "  135049560754896: TensorSpec(shape=(), dtype=tf.resource, name=None)\n",
            "  135049560761040: TensorSpec(shape=(), dtype=tf.resource, name=None)\n",
            "  135049560761424: TensorSpec(shape=(), dtype=tf.resource, name=None)\n",
            "  135049560761808: TensorSpec(shape=(), dtype=tf.resource, name=None)\n",
            "  135049560761616: TensorSpec(shape=(), dtype=tf.resource, name=None)\n",
            "  135049560756816: TensorSpec(shape=(), dtype=tf.resource, name=None)\n",
            "  135049560762960: TensorSpec(shape=(), dtype=tf.resource, name=None)\n",
            "  135049560763344: TensorSpec(shape=(), dtype=tf.resource, name=None)\n",
            "  135049560763728: TensorSpec(shape=(), dtype=tf.resource, name=None)\n",
            "  135049560763536: TensorSpec(shape=(), dtype=tf.resource, name=None)\n",
            "  135049560758736: TensorSpec(shape=(), dtype=tf.resource, name=None)\n",
            "  135049560764880: TensorSpec(shape=(), dtype=tf.resource, name=None)\n",
            "  135049560765264: TensorSpec(shape=(), dtype=tf.resource, name=None)\n",
            "  135049560765648: TensorSpec(shape=(), dtype=tf.resource, name=None)\n",
            "  135049560765456: TensorSpec(shape=(), dtype=tf.resource, name=None)\n",
            "  135049560760656: TensorSpec(shape=(), dtype=tf.resource, name=None)\n",
            "  135049560766800: TensorSpec(shape=(), dtype=tf.resource, name=None)\n",
            "  135049560767184: TensorSpec(shape=(), dtype=tf.resource, name=None)\n",
            "  135049560767568: TensorSpec(shape=(), dtype=tf.resource, name=None)\n",
            "  135049560767376: TensorSpec(shape=(), dtype=tf.resource, name=None)\n",
            "  135049560762576: TensorSpec(shape=(), dtype=tf.resource, name=None)\n",
            "  135049560766032: TensorSpec(shape=(), dtype=tf.resource, name=None)\n",
            "  135050441425552: TensorSpec(shape=(), dtype=tf.resource, name=None)\n",
            "  135050441425936: TensorSpec(shape=(), dtype=tf.resource, name=None)\n",
            "  135049560768336: TensorSpec(shape=(), dtype=tf.resource, name=None)\n",
            "  135049560764496: TensorSpec(shape=(), dtype=tf.resource, name=None)\n",
            "  135050441427088: TensorSpec(shape=(), dtype=tf.resource, name=None)\n",
            "  135050441427472: TensorSpec(shape=(), dtype=tf.resource, name=None)\n",
            "  135050441427856: TensorSpec(shape=(), dtype=tf.resource, name=None)\n",
            "  135050441427664: TensorSpec(shape=(), dtype=tf.resource, name=None)\n",
            "  135050441424976: TensorSpec(shape=(), dtype=tf.resource, name=None)\n",
            "  135050441429008: TensorSpec(shape=(), dtype=tf.resource, name=None)\n",
            "  135050441429392: TensorSpec(shape=(), dtype=tf.resource, name=None)\n",
            "  135050441429776: TensorSpec(shape=(), dtype=tf.resource, name=None)\n",
            "  135050441429584: TensorSpec(shape=(), dtype=tf.resource, name=None)\n",
            "  135050441425360: TensorSpec(shape=(), dtype=tf.resource, name=None)\n",
            "  135050441430928: TensorSpec(shape=(), dtype=tf.resource, name=None)\n",
            "  135050441431312: TensorSpec(shape=(), dtype=tf.resource, name=None)\n",
            "  135050441431696: TensorSpec(shape=(), dtype=tf.resource, name=None)\n",
            "  135050441431504: TensorSpec(shape=(), dtype=tf.resource, name=None)\n",
            "  135050441426704: TensorSpec(shape=(), dtype=tf.resource, name=None)\n",
            "  135050441432848: TensorSpec(shape=(), dtype=tf.resource, name=None)\n",
            "  135050441433232: TensorSpec(shape=(), dtype=tf.resource, name=None)\n",
            "  135050441433616: TensorSpec(shape=(), dtype=tf.resource, name=None)\n",
            "  135050441433424: TensorSpec(shape=(), dtype=tf.resource, name=None)\n",
            "  135050441428624: TensorSpec(shape=(), dtype=tf.resource, name=None)\n",
            "  135050441434768: TensorSpec(shape=(), dtype=tf.resource, name=None)\n",
            "  135050441435152: TensorSpec(shape=(), dtype=tf.resource, name=None)\n",
            "  135050441435536: TensorSpec(shape=(), dtype=tf.resource, name=None)\n",
            "  135050441435344: TensorSpec(shape=(), dtype=tf.resource, name=None)\n",
            "  135050441430544: TensorSpec(shape=(), dtype=tf.resource, name=None)\n",
            "  135050441436688: TensorSpec(shape=(), dtype=tf.resource, name=None)\n",
            "  135050441437072: TensorSpec(shape=(), dtype=tf.resource, name=None)\n",
            "  135050441437456: TensorSpec(shape=(), dtype=tf.resource, name=None)\n",
            "  135050441437264: TensorSpec(shape=(), dtype=tf.resource, name=None)\n",
            "  135050441432464: TensorSpec(shape=(), dtype=tf.resource, name=None)\n",
            "  135050441438608: TensorSpec(shape=(), dtype=tf.resource, name=None)\n",
            "  135050441438992: TensorSpec(shape=(), dtype=tf.resource, name=None)\n",
            "  135050441439376: TensorSpec(shape=(), dtype=tf.resource, name=None)\n",
            "  135050441439184: TensorSpec(shape=(), dtype=tf.resource, name=None)\n",
            "  135050441434384: TensorSpec(shape=(), dtype=tf.resource, name=None)\n",
            "  135050441440528: TensorSpec(shape=(), dtype=tf.resource, name=None)\n",
            "  135050441441104: TensorSpec(shape=(), dtype=tf.resource, name=None)\n",
            "  135050441439760: TensorSpec(shape=(), dtype=tf.resource, name=None)\n",
            "  135050441440912: TensorSpec(shape=(), dtype=tf.resource, name=None)\n",
            "  135050441438224: TensorSpec(shape=(), dtype=tf.resource, name=None)\n",
            "  135049563259152: TensorSpec(shape=(), dtype=tf.resource, name=None)\n",
            "  135049563260496: TensorSpec(shape=(), dtype=tf.resource, name=None)\n",
            "  135049563260880: TensorSpec(shape=(), dtype=tf.resource, name=None)\n",
            "  135049563260688: TensorSpec(shape=(), dtype=tf.resource, name=None)\n",
            "  135049563260112: TensorSpec(shape=(), dtype=tf.resource, name=None)\n",
            "  135049563262032: TensorSpec(shape=(), dtype=tf.resource, name=None)\n",
            "  135049563262416: TensorSpec(shape=(), dtype=tf.resource, name=None)\n",
            "  135049563262800: TensorSpec(shape=(), dtype=tf.resource, name=None)\n",
            "  135049563262608: TensorSpec(shape=(), dtype=tf.resource, name=None)\n",
            "  135049563259344: TensorSpec(shape=(), dtype=tf.resource, name=None)\n",
            "  135049563263952: TensorSpec(shape=(), dtype=tf.resource, name=None)\n",
            "  135049563264336: TensorSpec(shape=(), dtype=tf.resource, name=None)\n",
            "  135049563264720: TensorSpec(shape=(), dtype=tf.resource, name=None)\n",
            "  135049563264528: TensorSpec(shape=(), dtype=tf.resource, name=None)\n",
            "  135049563259536: TensorSpec(shape=(), dtype=tf.resource, name=None)\n",
            "  135049563265872: TensorSpec(shape=(), dtype=tf.resource, name=None)\n",
            "  135049563266256: TensorSpec(shape=(), dtype=tf.resource, name=None)\n",
            "  135049563266640: TensorSpec(shape=(), dtype=tf.resource, name=None)\n",
            "  135049563266448: TensorSpec(shape=(), dtype=tf.resource, name=None)\n",
            "  135049563261648: TensorSpec(shape=(), dtype=tf.resource, name=None)\n",
            "  135049563267792: TensorSpec(shape=(), dtype=tf.resource, name=None)\n",
            "  135049563268176: TensorSpec(shape=(), dtype=tf.resource, name=None)\n",
            "  135049563268560: TensorSpec(shape=(), dtype=tf.resource, name=None)\n",
            "  135049563268368: TensorSpec(shape=(), dtype=tf.resource, name=None)\n",
            "  135049563263568: TensorSpec(shape=(), dtype=tf.resource, name=None)\n",
            "  135049563269712: TensorSpec(shape=(), dtype=tf.resource, name=None)\n",
            "  135049563270096: TensorSpec(shape=(), dtype=tf.resource, name=None)\n",
            "  135049563270480: TensorSpec(shape=(), dtype=tf.resource, name=None)\n",
            "  135049563270288: TensorSpec(shape=(), dtype=tf.resource, name=None)\n",
            "  135049563265488: TensorSpec(shape=(), dtype=tf.resource, name=None)\n",
            "  135049563271632: TensorSpec(shape=(), dtype=tf.resource, name=None)\n",
            "  135049563272016: TensorSpec(shape=(), dtype=tf.resource, name=None)\n",
            "  135049563272400: TensorSpec(shape=(), dtype=tf.resource, name=None)\n",
            "  135049563272208: TensorSpec(shape=(), dtype=tf.resource, name=None)\n",
            "  135049563267408: TensorSpec(shape=(), dtype=tf.resource, name=None)\n",
            "  135049563273552: TensorSpec(shape=(), dtype=tf.resource, name=None)\n",
            "  135049563273936: TensorSpec(shape=(), dtype=tf.resource, name=None)\n",
            "  135049563274320: TensorSpec(shape=(), dtype=tf.resource, name=None)\n",
            "  135049563274128: TensorSpec(shape=(), dtype=tf.resource, name=None)\n",
            "  135049563269328: TensorSpec(shape=(), dtype=tf.resource, name=None)\n",
            "  135049563272784: TensorSpec(shape=(), dtype=tf.resource, name=None)\n",
            "  135049562702480: TensorSpec(shape=(), dtype=tf.resource, name=None)\n",
            "  135049562702864: TensorSpec(shape=(), dtype=tf.resource, name=None)\n",
            "  135049563275088: TensorSpec(shape=(), dtype=tf.resource, name=None)\n",
            "  135049563271248: TensorSpec(shape=(), dtype=tf.resource, name=None)\n",
            "  135049562704016: TensorSpec(shape=(), dtype=tf.resource, name=None)\n",
            "  135049562704400: TensorSpec(shape=(), dtype=tf.resource, name=None)\n",
            "  135049562704784: TensorSpec(shape=(), dtype=tf.resource, name=None)\n",
            "  135049562704592: TensorSpec(shape=(), dtype=tf.resource, name=None)\n",
            "  135049562701904: TensorSpec(shape=(), dtype=tf.resource, name=None)\n",
            "  135049562705936: TensorSpec(shape=(), dtype=tf.resource, name=None)\n",
            "  135049562706320: TensorSpec(shape=(), dtype=tf.resource, name=None)\n",
            "  135049562706704: TensorSpec(shape=(), dtype=tf.resource, name=None)\n",
            "  135049562706512: TensorSpec(shape=(), dtype=tf.resource, name=None)\n",
            "  135049562702288: TensorSpec(shape=(), dtype=tf.resource, name=None)\n",
            "  135049562707856: TensorSpec(shape=(), dtype=tf.resource, name=None)\n",
            "  135049562708240: TensorSpec(shape=(), dtype=tf.resource, name=None)\n",
            "  135049562708624: TensorSpec(shape=(), dtype=tf.resource, name=None)\n",
            "  135049562708432: TensorSpec(shape=(), dtype=tf.resource, name=None)\n",
            "  135049562703632: TensorSpec(shape=(), dtype=tf.resource, name=None)\n",
            "  135049562709776: TensorSpec(shape=(), dtype=tf.resource, name=None)\n",
            "  135049562710160: TensorSpec(shape=(), dtype=tf.resource, name=None)\n",
            "  135049562710544: TensorSpec(shape=(), dtype=tf.resource, name=None)\n",
            "  135049562710352: TensorSpec(shape=(), dtype=tf.resource, name=None)\n",
            "  135049562705552: TensorSpec(shape=(), dtype=tf.resource, name=None)\n",
            "  135049562711696: TensorSpec(shape=(), dtype=tf.resource, name=None)\n",
            "  135049562712080: TensorSpec(shape=(), dtype=tf.resource, name=None)\n",
            "  135049562712464: TensorSpec(shape=(), dtype=tf.resource, name=None)\n",
            "  135049562712272: TensorSpec(shape=(), dtype=tf.resource, name=None)\n",
            "  135049562707472: TensorSpec(shape=(), dtype=tf.resource, name=None)\n",
            "  135049562713616: TensorSpec(shape=(), dtype=tf.resource, name=None)\n",
            "  135049562714000: TensorSpec(shape=(), dtype=tf.resource, name=None)\n",
            "  135049562714384: TensorSpec(shape=(), dtype=tf.resource, name=None)\n",
            "  135049562714192: TensorSpec(shape=(), dtype=tf.resource, name=None)\n",
            "  135049562709392: TensorSpec(shape=(), dtype=tf.resource, name=None)\n",
            "  135049562715536: TensorSpec(shape=(), dtype=tf.resource, name=None)\n",
            "  135049562715920: TensorSpec(shape=(), dtype=tf.resource, name=None)\n",
            "  135049562716304: TensorSpec(shape=(), dtype=tf.resource, name=None)\n",
            "  135049562716112: TensorSpec(shape=(), dtype=tf.resource, name=None)\n",
            "  135049562711312: TensorSpec(shape=(), dtype=tf.resource, name=None)\n",
            "  135049562717456: TensorSpec(shape=(), dtype=tf.resource, name=None)\n",
            "  135049562718032: TensorSpec(shape=(), dtype=tf.resource, name=None)\n",
            "  135049562716688: TensorSpec(shape=(), dtype=tf.resource, name=None)\n",
            "  135049562717840: TensorSpec(shape=(), dtype=tf.resource, name=None)\n",
            "  135049562715152: TensorSpec(shape=(), dtype=tf.resource, name=None)\n",
            "  135049562390800: TensorSpec(shape=(), dtype=tf.resource, name=None)\n",
            "  135049562392144: TensorSpec(shape=(), dtype=tf.resource, name=None)\n",
            "  135049562392528: TensorSpec(shape=(), dtype=tf.resource, name=None)\n",
            "  135049562392336: TensorSpec(shape=(), dtype=tf.resource, name=None)\n",
            "  135049562391760: TensorSpec(shape=(), dtype=tf.resource, name=None)\n",
            "  135049562393680: TensorSpec(shape=(), dtype=tf.resource, name=None)\n",
            "  135049562394064: TensorSpec(shape=(), dtype=tf.resource, name=None)\n",
            "  135049562394448: TensorSpec(shape=(), dtype=tf.resource, name=None)\n",
            "  135049562394256: TensorSpec(shape=(), dtype=tf.resource, name=None)\n",
            "  135049562390992: TensorSpec(shape=(), dtype=tf.resource, name=None)\n",
            "  135049562395600: TensorSpec(shape=(), dtype=tf.resource, name=None)\n",
            "  135049562395984: TensorSpec(shape=(), dtype=tf.resource, name=None)\n",
            "  135049562396368: TensorSpec(shape=(), dtype=tf.resource, name=None)\n",
            "  135049562396176: TensorSpec(shape=(), dtype=tf.resource, name=None)\n",
            "  135049562391184: TensorSpec(shape=(), dtype=tf.resource, name=None)\n",
            "  135049562397520: TensorSpec(shape=(), dtype=tf.resource, name=None)\n",
            "  135049562397904: TensorSpec(shape=(), dtype=tf.resource, name=None)\n",
            "  135049562398288: TensorSpec(shape=(), dtype=tf.resource, name=None)\n",
            "  135049562398096: TensorSpec(shape=(), dtype=tf.resource, name=None)\n",
            "  135049562393296: TensorSpec(shape=(), dtype=tf.resource, name=None)\n",
            "  135049562399440: TensorSpec(shape=(), dtype=tf.resource, name=None)\n",
            "  135049562399824: TensorSpec(shape=(), dtype=tf.resource, name=None)\n",
            "  135049562400208: TensorSpec(shape=(), dtype=tf.resource, name=None)\n",
            "  135049562400016: TensorSpec(shape=(), dtype=tf.resource, name=None)\n",
            "  135049562395216: TensorSpec(shape=(), dtype=tf.resource, name=None)\n",
            "  135049562401360: TensorSpec(shape=(), dtype=tf.resource, name=None)\n",
            "  135049562401744: TensorSpec(shape=(), dtype=tf.resource, name=None)\n",
            "  135049562402128: TensorSpec(shape=(), dtype=tf.resource, name=None)\n",
            "  135049562401936: TensorSpec(shape=(), dtype=tf.resource, name=None)\n",
            "  135049562397136: TensorSpec(shape=(), dtype=tf.resource, name=None)\n",
            "  135049562403280: TensorSpec(shape=(), dtype=tf.resource, name=None)\n",
            "  135049562403664: TensorSpec(shape=(), dtype=tf.resource, name=None)\n",
            "  135049562404048: TensorSpec(shape=(), dtype=tf.resource, name=None)\n",
            "  135049562403856: TensorSpec(shape=(), dtype=tf.resource, name=None)\n",
            "  135049562399056: TensorSpec(shape=(), dtype=tf.resource, name=None)\n",
            "  135049562405200: TensorSpec(shape=(), dtype=tf.resource, name=None)\n",
            "  135049562405584: TensorSpec(shape=(), dtype=tf.resource, name=None)\n",
            "  135049562405968: TensorSpec(shape=(), dtype=tf.resource, name=None)\n",
            "  135049562405776: TensorSpec(shape=(), dtype=tf.resource, name=None)\n",
            "  135049562400976: TensorSpec(shape=(), dtype=tf.resource, name=None)\n",
            "  135049562404432: TensorSpec(shape=(), dtype=tf.resource, name=None)\n",
            "  135049563243152: TensorSpec(shape=(), dtype=tf.resource, name=None)\n",
            "  135049563243536: TensorSpec(shape=(), dtype=tf.resource, name=None)\n",
            "  135049562406736: TensorSpec(shape=(), dtype=tf.resource, name=None)\n",
            "  135049562402896: TensorSpec(shape=(), dtype=tf.resource, name=None)\n",
            "  135049563244688: TensorSpec(shape=(), dtype=tf.resource, name=None)\n",
            "  135049563245072: TensorSpec(shape=(), dtype=tf.resource, name=None)\n",
            "  135049563245456: TensorSpec(shape=(), dtype=tf.resource, name=None)\n",
            "  135049563245264: TensorSpec(shape=(), dtype=tf.resource, name=None)\n",
            "  135049563242576: TensorSpec(shape=(), dtype=tf.resource, name=None)\n",
            "  135049563246608: TensorSpec(shape=(), dtype=tf.resource, name=None)\n",
            "  135049563246992: TensorSpec(shape=(), dtype=tf.resource, name=None)\n",
            "  135049563247376: TensorSpec(shape=(), dtype=tf.resource, name=None)\n",
            "  135049563247184: TensorSpec(shape=(), dtype=tf.resource, name=None)\n",
            "  135049563242960: TensorSpec(shape=(), dtype=tf.resource, name=None)\n",
            "  135049563248528: TensorSpec(shape=(), dtype=tf.resource, name=None)\n",
            "  135049563248912: TensorSpec(shape=(), dtype=tf.resource, name=None)\n",
            "  135049563249296: TensorSpec(shape=(), dtype=tf.resource, name=None)\n",
            "  135049563249104: TensorSpec(shape=(), dtype=tf.resource, name=None)\n",
            "  135049563244304: TensorSpec(shape=(), dtype=tf.resource, name=None)\n",
            "  135049563250448: TensorSpec(shape=(), dtype=tf.resource, name=None)\n",
            "  135049563250832: TensorSpec(shape=(), dtype=tf.resource, name=None)\n",
            "  135049563251216: TensorSpec(shape=(), dtype=tf.resource, name=None)\n",
            "  135049563251024: TensorSpec(shape=(), dtype=tf.resource, name=None)\n",
            "  135049563246224: TensorSpec(shape=(), dtype=tf.resource, name=None)\n",
            "  135049563252368: TensorSpec(shape=(), dtype=tf.resource, name=None)\n",
            "  135049563252752: TensorSpec(shape=(), dtype=tf.resource, name=None)\n",
            "  135049563253136: TensorSpec(shape=(), dtype=tf.resource, name=None)\n",
            "  135049563252944: TensorSpec(shape=(), dtype=tf.resource, name=None)\n",
            "  135049563248144: TensorSpec(shape=(), dtype=tf.resource, name=None)\n",
            "  135049563254288: TensorSpec(shape=(), dtype=tf.resource, name=None)\n",
            "  135049563255056: TensorSpec(shape=(), dtype=tf.resource, name=None)\n",
            "  135049563254864: TensorSpec(shape=(), dtype=tf.resource, name=None)\n",
            "  135049563255824: TensorSpec(shape=(), dtype=tf.resource, name=None)\n",
            "  135049563254672: TensorSpec(shape=(), dtype=tf.resource, name=None)\n",
            "  135049563257168: TensorSpec(shape=(), dtype=tf.resource, name=None)\n",
            "  135049563256592: TensorSpec(shape=(), dtype=tf.resource, name=None)\n",
            "  135049563258128: TensorSpec(shape=(), dtype=tf.resource, name=None)\n"
          ]
        }
      ]
    }
  ]
}
