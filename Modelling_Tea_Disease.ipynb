{
  "nbformat": 4,
  "nbformat_minor": 0,
  "metadata": {
    "colab": {
      "provenance": [],
      "gpuType": "T4"
    },
    "kernelspec": {
      "name": "python3",
      "display_name": "Python 3"
    },
    "language_info": {
      "name": "python"
    },
    "accelerator": "GPU",
  },
  "cells": [
    {
      "cell_type": "code",
      "execution_count": 2,
      "metadata": {
        "id": "-ht8uq8yyA3I"
      },
      "outputs": [],
      "source": [
        "import gdown\n",
        "import os\n",
        "import zipfile\n",
        "import shutil\n",
        "from tqdm.notebook import tqdm as tq\n",
        "\n",
        "import pandas as pd\n",
        "import numpy as np\n",
        "import matplotlib.pyplot as plt\n",
        "import seaborn as sns\n",
        "\n",
        "import keras\n",
        "from sklearn.model_selection import train_test_split\n",
        "from sklearn.metrics import confusion_matrix, classification_report\n",
        "import tensorflow as tf\n",
        "from tensorflow.keras import Model, layers, regularizers\n",
        "from tensorflow.keras.preprocessing import image\n",
        "from tensorflow.keras.preprocessing.image import ImageDataGenerator, img_to_array, load_img\n",
        "from tensorflow.keras.optimizers import Adam, RMSprop, SGD\n",
        "from tensorflow.keras.applications import MobileNetV2\n",
        "from tensorflow.keras.layers import InputLayer, Conv2D, SeparableConv2D, MaxPooling2D, MaxPool2D, Dense, Flatten, Dropout, BatchNormalization, GlobalAveragePooling2D\n",
        "from tensorflow.keras.models import Sequential, Model, load_model\n",
        "from tensorflow.keras.callbacks import ModelCheckpoint, Callback, EarlyStopping, ReduceLROnPlateau"
      ]
    },
    {
      "cell_type": "markdown",
      "source": [
        "## Data Load"
      ],
      "metadata": {
        "id": "UGCQcMEJ1XlL"
      }
    },
    {
      "cell_type": "code",
      "source": [
        "# Download file dari Google Drive\n",
        "file_id = \"1nssl01tRJJ8Uu2Y_cIkCwADAcndOQ3m3\"\n",
        "url = f\"https://drive.google.com/uc?id={file_id}\"\n",
        "\n",
        "# Simpan data zip\n",
        "gdown.download(url, \"data_zip\", quiet=False)"
      ],
      "metadata": {
        "colab": {
          "base_uri": "https://localhost:8080/",
          "height": 142
        },
        "id": "O8N9Y186zZlg",
        "outputId": "08a87a96-9640-4c1d-d5fb-a2a5192a6bae"
      },
      "execution_count": 3,
      "outputs": [
        {
          "output_type": "stream",
          "name": "stderr",
          "text": [
            "Downloading...\n",
            "From (original): https://drive.google.com/uc?id=1nssl01tRJJ8Uu2Y_cIkCwADAcndOQ3m3\n",
            "From (redirected): https://drive.google.com/uc?id=1nssl01tRJJ8Uu2Y_cIkCwADAcndOQ3m3&confirm=t&uuid=8359a96e-9008-419a-8c68-d60ca0843e9f\n",
            "To: /content/data_zip\n",
            "100%|██████████| 187M/187M [00:02<00:00, 75.3MB/s]\n"
          ]
        },
        {
          "output_type": "execute_result",
          "data": {
            "text/plain": [
              "'data_zip'"
            ],
            "application/vnd.google.colaboratory.intrinsic+json": {
              "type": "string"
            }
          },
          "metadata": {},
          "execution_count": 3
        }
      ]
    },
    {
      "cell_type": "code",
      "source": [
        "# Ekstrak file zip\n",
        "with zipfile.ZipFile(\"data_zip\", \"r\") as zip_ref:\n",
        "    zip_ref.extractall(\"extracted_data\")\n",
        "\n",
        "print(\"Ekstraksi berhasil.\")"
      ],
      "metadata": {
        "colab": {
          "base_uri": "https://localhost:8080/"
        },
        "id": "TpFmcv9U0GPI",
        "outputId": "3a1ce34b-bef8-4745-e4db-57017d4e4e80"
      },
      "execution_count": 4,
      "outputs": [
        {
          "output_type": "stream",
          "name": "stdout",
          "text": [
            "Ekstraksi berhasil.\n"
          ]
        }
      ]
    },
    {
      "cell_type": "markdown",
      "source": [
        "Plot Distribution Data"
      ],
      "metadata": {
        "id": "I7eGocnh1SgS"
      }
    },
    {
      "cell_type": "code",
      "source": [
        "# Path sumber data\n",
        "source_path = \"/content/extracted_data/content/tea/dataset_augmentation\"\n",
        "\n",
        "# Daftar yang menyimpan data untuk setiap nama file, path file, dan label dalam data\n",
        "file_name = []\n",
        "labels = []\n",
        "full_path = []\n",
        "\n",
        "# Dapatkan nama file gambar, path file, dan label satu per satu dengan looping, dan simpan sebagai dataframe\n",
        "for path, subdirs, files in os.walk(source_path):\n",
        "    for name in files:\n",
        "        full_path.append(os.path.join(path, name))\n",
        "        labels.append(path.split('/')[-1])\n",
        "        file_name.append(name)\n",
        "\n",
        "df = pd.DataFrame({\"path\":full_path, 'file_name':file_name, \"labels\":labels})"
      ],
      "metadata": {
        "id": "d7ObVr7O0Ybc"
      },
      "execution_count": 5,
      "outputs": []
    },
    {
      "cell_type": "code",
      "source": [
        "# Plot distribusi gambar di setiap kelas\n",
        "Label = df[\"labels\"]\n",
        "\n",
        "plt.figure(figsize=(6, 6))\n",
        "sns.set_style(\"darkgrid\")\n",
        "plot_data = sns.countplot(Label)"
      ],
      "metadata": {
        "colab": {
          "base_uri": "https://localhost:8080/",
          "height": 542
        },
        "id": "iqKuXByB00Nk",
        "outputId": "e9490ebf-ad84-41db-f053-bf5656d638a5"
      },
      "execution_count": 6,
      "outputs": [
        {
          "output_type": "display_data",
          "data": {
            "text/plain": [
              "<Figure size 600x600 with 1 Axes>"
            ],
            "image/png": "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\n"
          },
          "metadata": {}
        }
      ]
    },
    {
      "cell_type": "markdown",
      "source": [
        "## Split Dataset"
      ],
      "metadata": {
        "id": "WCK3mEvs1dk6"
      }
    },
    {
      "cell_type": "code",
      "source": [
        "# Membuat variabel pemisahan, variabel X = data path dan variabel y = data labels\n",
        "X = df[\"path\"]\n",
        "y = df[\"labels\"]\n",
        "\n",
        "# Split dataset menjadi data train dan data test\n",
        "X_train, X_test, y_train, y_test = train_test_split(X, y, test_size=0.2, random_state=300, stratify = y)"
      ],
      "metadata": {
        "id": "Kt-rTFDl07Yc"
      },
      "execution_count": 7,
      "outputs": []
    },
    {
      "cell_type": "code",
      "source": [
        "# Membuat data frame masing-masing untuk data train dan data test\n",
        "df_train = pd.DataFrame({\"path\":X_train, \"labels\":y_train, \"set\":\"train\"})\n",
        "df_test = pd.DataFrame({\"path\":X_test, \"labels\":y_test, \"set\":\"test\"})"
      ],
      "metadata": {
        "id": "kga_3dxc25e7"
      },
      "execution_count": 8,
      "outputs": []
    },
    {
      "cell_type": "code",
      "source": [
        "# Menggabungkan DataFrame df_train dan df_test\n",
        "df_all = pd.concat([df_train, df_test], ignore_index=True)\n",
        "\n",
        "print(\"===================================================== \\n\")\n",
        "print(df_all.groupby([\"set\", \"labels\"]).size(), '\\n')\n",
        "print(\"===================================================== \\n\")"
      ],
      "metadata": {
        "colab": {
          "base_uri": "https://localhost:8080/"
        },
        "id": "SGvbVxqh2hp6",
        "outputId": "40eeb883-e30a-495d-e186-0c71dc2ddd19"
      },
      "execution_count": 9,
      "outputs": [
        {
          "output_type": "stream",
          "name": "stdout",
          "text": [
            "===================================================== \n",
            "\n",
            "set    labels      \n",
            "test   algal_spot      1200\n",
            "       brown_blight    1200\n",
            "       gray_blight     1200\n",
            "       healthy         1200\n",
            "       helopeltis      1200\n",
            "       red_spot        1200\n",
            "train  algal_spot      4800\n",
            "       brown_blight    4800\n",
            "       gray_blight     4800\n",
            "       healthy         4800\n",
            "       helopeltis      4800\n",
            "       red_spot        4800\n",
            "dtype: int64 \n",
            "\n",
            "===================================================== \n",
            "\n"
          ]
        }
      ]
    },
    {
      "cell_type": "code",
      "source": [
        "# Membuat path final dataset\n",
        "dataset_final_path = \"/content/extracted_data/content/tea/dataset_final\"\n",
        "\n",
        "for index, row in tq(df_all.iterrows()):\n",
        "    # Deteksi filepath\n",
        "    file_path = row[\"path\"]\n",
        "    if os.path.exists(file_path) == False:\n",
        "            file_path = os.path.join(source_path,row[\"labels\"],row[\"image\"].split('.')[0])\n",
        "\n",
        "    # Buat direktori tujuan folder\n",
        "    if os.path.exists(os.path.join(dataset_final_path,row[\"set\"],row[\"labels\"])) == False:\n",
        "        os.makedirs(os.path.join(dataset_final_path,row[\"set\"],row[\"labels\"]))\n",
        "\n",
        "    # Tentukan tujuan file\n",
        "    destination_file_name = file_path.split('/')[-1]\n",
        "    file_dest = os.path.join(dataset_final_path,row[\"set\"],row[\"labels\"],destination_file_name)\n",
        "\n",
        "    # Salin file dari sumber ke tujuan\n",
        "    if os.path.exists(file_dest) == False:\n",
        "        shutil.copy2(file_path,file_dest)"
      ],
      "metadata": {
        "colab": {
          "base_uri": "https://localhost:8080/",
          "height": 49,
          "referenced_widgets": [
            "aff19090f4024c8f941584fbea8f147f",
            "9fc4bc011d6445cdb86a6c493d97b596",
            "69582715935943c7a9c249a153f82747",
            "5f843bbb62994685b2b64b286c59edf4",
            "3dd832e5f04d405d96eeb536607b1da6",
            "7486571d2f5545fb8e08a92c14d51bbe",
            "3a23f9a1b1334c7ca70f7de205157ab8",
            "3f58452bd91841f087bbc05025023af1",
            "ea5b620675484340979db19abe36e57c",
            "e4d51bba59654c679f10d1bca1aa54e9",
            "719357e8fbef4e74b7fd47afc5443a57"
          ]
        },
        "id": "8mSBmZ7I2704",
        "outputId": "e3196d41-15ce-4bff-8552-7639e6cbb341"
      },
      "execution_count": 10,
      "outputs": [
        {
          "output_type": "display_data",
          "data": {
            "text/plain": [
              "0it [00:00, ?it/s]"
            ],
            "application/vnd.jupyter.widget-view+json": {
              "version_major": 2,
              "version_minor": 0,
              "model_id": "aff19090f4024c8f941584fbea8f147f"
            }
          },
          "metadata": {}
        }
      ]
    },
    {
      "cell_type": "code",
      "source": [
        "# Membuat variabel untuk path direktori data train dan data test\n",
        "TRAIN_DIR = \"/content/extracted_data/content/tea/dataset_final/train\"\n",
        "TEST_DIR = \"/content/extracted_data/content/tea/dataset_final/test\""
      ],
      "metadata": {
        "id": "8KRTDj8B4dRb"
      },
      "execution_count": 11,
      "outputs": []
    },
    {
      "cell_type": "code",
      "source": [
        "# Membuat objek ImageDataGenerator untuk menormalkan gambar\n",
        "datagen = ImageDataGenerator(rescale=1/255., validation_split= 0.2)\n",
        "test_datagen = ImageDataGenerator(rescale=1. / 255)\n",
        "\n",
        "train_generator = datagen.flow_from_directory(TRAIN_DIR,\n",
        "                                              batch_size=32,\n",
        "                                              target_size=(224,224),\n",
        "                                              class_mode=\"categorical\",\n",
        "                                              subset=\"training\",\n",
        "                                              shuffle=True)\n",
        "\n",
        "validation_generator = datagen.flow_from_directory(TEST_DIR,\n",
        "                                                   batch_size=32,\n",
        "                                                   target_size=(224,224),\n",
        "                                                   class_mode=\"categorical\",\n",
        "                                                   subset=\"validation\",\n",
        "                                                   shuffle=False)\n",
        "\n",
        "\"\"\"test_generator = test_datagen.flow_from_directory(TEST_DIR,\n",
        "                                                  batch_size=1,\n",
        "                                                  target_size=(224,224),\n",
        "                                                  class_mode=\"categorical\",\n",
        "                                                  shuffle=False)\"\"\""
      ],
      "metadata": {
        "colab": {
          "base_uri": "https://localhost:8080/",
          "height": 105
        },
        "id": "EvRs2krP5D6W",
        "outputId": "8aa80d89-3829-4b48-fd1b-03aa30016a0b"
      },
      "execution_count": 12,
      "outputs": [
        {
          "output_type": "stream",
          "name": "stdout",
          "text": [
            "Found 23040 images belonging to 6 classes.\n",
            "Found 1440 images belonging to 6 classes.\n"
          ]
        },
        {
          "output_type": "execute_result",
          "data": {
            "text/plain": [
              "'test_generator = test_datagen.flow_from_directory(TEST_DIR,\\n                                                  batch_size=1,\\n                                                  target_size=(224,224),\\n                                                  class_mode=\"categorical\",\\n                                                  shuffle=False)'"
            ],
            "application/vnd.google.colaboratory.intrinsic+json": {
              "type": "string"
            }
          },
          "metadata": {},
          "execution_count": 12
        }
      ]
    },
    {
      "cell_type": "markdown",
      "source": [
        "## Modeling"
      ],
      "metadata": {
        "id": "9LZNUrSM5JuQ"
      }
    },
    {
      "cell_type": "code",
      "source": [
        "\n",
        "class CustomCheckpoint(Callback):\n",
        "    def __init__(self, save_path=\"saved_model/1\", max_gap=0.02, loss_tolerance=0.01):\n",
        "        super(CustomCheckpoint, self).__init__()\n",
        "        self.save_path = save_path\n",
        "        self.max_gap = max_gap\n",
        "        self.loss_tolerance = loss_tolerance\n",
        "        self.best_val_acc = 0\n",
        "        self.best_val_loss = float(\"inf\")  # Inisialisasi dengan nilai sangat besar\n",
        "\n",
        "    def on_epoch_end(self, epoch, logs=None):\n",
        "        logs = logs or {}\n",
        "        val_acc = logs.get(\"val_accuracy\", 0)\n",
        "        train_acc = logs.get(\"accuracy\", 0)\n",
        "        val_loss = logs.get(\"val_loss\", float(\"inf\"))\n",
        "\n",
        "        # Simpan model jika val_acc meningkat dengan gap kecil dan val_loss membaik\n",
        "        if (val_acc > self.best_val_acc and abs(train_acc - val_acc) <= self.max_gap\n",
        "            and val_loss < self.best_val_loss):\n",
        "            self.best_val_acc = val_acc\n",
        "            self.best_val_loss = val_loss\n",
        "\n",
        "            # Simpan model dalam format SavedModel menggunakan tf.saved_model.save\n",
        "            tf.saved_model.save(self.model, self.save_path)\n",
        "            print(f\"Model disimpan di {self.save_path} dengan val_acc: {val_acc:.4f}, val_loss: {val_loss:.4f}, dan gap: {abs(train_acc - val_acc):.4f}\")\n"
      ],
      "metadata": {
        "id": "WSRa7iIbxNDq"
      },
      "execution_count": 13,
      "outputs": []
    },
    {
      "cell_type": "code",
      "source": [
        "early_stopping = EarlyStopping(monitor='val_loss',\n",
        "                               patience=3,\n",
        "                               min_delta=0.001,\n",
        "                               restore_best_weights=True,\n",
        "                               mode='max'\n",
        "                               )\n",
        "reduce_lr = ReduceLROnPlateau(monitor='val_loss',\n",
        "                              factor=0.1,\n",
        "                              patience=3,\n",
        "                              mode='auto',\n",
        "                              )\n",
        "checkpoint = CustomCheckpoint(save_path=\"saved_model/1\")"
      ],
      "metadata": {
        "id": "G8luJmC9wl7k"
      },
      "execution_count": 14,
      "outputs": []
    },
    {
      "cell_type": "code",
      "source": [
        "pre_trained_model = MobileNetV2(weights=\"imagenet\", include_top=False, input_shape=(224,224,3))\n",
        "\n",
        "for layer in pre_trained_model.layers:\n",
        "    layer.trainable = False\n",
        "\n",
        "####################### Init sequential model ##################################\n",
        "model = Sequential()\n",
        "model.add(pre_trained_model)\n",
        "\n",
        "# ######################### Input layer with Fully Connected Layer ################################\n",
        "# 1st Convolutional layer, Batch Normalization layer, and Pooling layer\n",
        "model.add(Conv2D(32, (3, 3), activation='relu', padding='same'))\n",
        "model.add(MaxPooling2D((2, 2)))\n",
        "\n",
        "# 2st Convolutional layer, Batch Normalization layer, and Pooling layer\n",
        "model.add(Conv2D(64, (3, 3), activation='relu', padding='same'))\n",
        "model.add(MaxPooling2D((2, 2)))\n",
        "\n",
        "# Flatten layer\n",
        "# model.add(Flatten(name=\"flatten\"))\n",
        "model.add(GlobalAveragePooling2D()),\n",
        "# 1nd Dense Layer\n",
        "model.add(Dropout(0.3))\n",
        "# 1nd Dropout Layer\n",
        "model.add(Dense(128, activation=\"relu\"))\n",
        "# Final Dense layer => For output prediction\n",
        "model.add(Dense(train_generator.num_classes, activation='softmax'))"
      ],
      "metadata": {
        "colab": {
          "base_uri": "https://localhost:8080/"
        },
        "id": "hdT_BWwf5LUe",
        "outputId": "87df26ee-8a4a-49bc-f423-841752961332"
      },
      "execution_count": 15,
      "outputs": [
        {
          "output_type": "stream",
          "name": "stdout",
          "text": [
            "Downloading data from https://storage.googleapis.com/tensorflow/keras-applications/mobilenet_v2/mobilenet_v2_weights_tf_dim_ordering_tf_kernels_1.0_224_no_top.h5\n",
            "\u001b[1m9406464/9406464\u001b[0m \u001b[32m━━━━━━━━━━━━━━━━━━━━\u001b[0m\u001b[37m\u001b[0m \u001b[1m2s\u001b[0m 0us/step\n"
          ]
        }
      ]
    },
    {
      "cell_type": "code",
      "source": [
        "# Compile model\n",
        "optimizer = tf.optimizers.Adam()\n",
        "model.compile(optimizer=optimizer,\n",
        "              loss='categorical_crossentropy',\n",
        "              metrics=['accuracy'])\n",
        "\n",
        "print(model.summary())"
      ],
      "metadata": {
        "colab": {
          "base_uri": "https://localhost:8080/",
          "height": 466
        },
        "id": "HzXTJDSB5j0B",
        "outputId": "e9551273-bc4f-4a06-e599-6bbd2c0d04e2"
      },
      "execution_count": 16,
      "outputs": [
        {
          "output_type": "display_data",
          "data": {
            "text/plain": [
              "\u001b[1mModel: \"sequential\"\u001b[0m\n"
            ],
            "text/html": [
              "<pre style=\"white-space:pre;overflow-x:auto;line-height:normal;font-family:Menlo,'DejaVu Sans Mono',consolas,'Courier New',monospace\"><span style=\"font-weight: bold\">Model: \"sequential\"</span>\n",
              "</pre>\n"
            ]
          },
          "metadata": {}
        },
        {
          "output_type": "display_data",
          "data": {
            "text/plain": [
              "┏━━━━━━━━━━━━━━━━━━━━━━━━━━━━━━━━━┳━━━━━━━━━━━━━━━━━━━━━━━━┳━━━━━━━━━━━━━━━┓\n",
              "┃\u001b[1m \u001b[0m\u001b[1mLayer (type)                   \u001b[0m\u001b[1m \u001b[0m┃\u001b[1m \u001b[0m\u001b[1mOutput Shape          \u001b[0m\u001b[1m \u001b[0m┃\u001b[1m \u001b[0m\u001b[1m      Param #\u001b[0m\u001b[1m \u001b[0m┃\n",
              "┡━━━━━━━━━━━━━━━━━━━━━━━━━━━━━━━━━╇━━━━━━━━━━━━━━━━━━━━━━━━╇━━━━━━━━━━━━━━━┩\n",
              "│ mobilenetv2_1.00_224            │ (\u001b[38;5;45mNone\u001b[0m, \u001b[38;5;34m7\u001b[0m, \u001b[38;5;34m7\u001b[0m, \u001b[38;5;34m1280\u001b[0m)     │     \u001b[38;5;34m2,257,984\u001b[0m │\n",
              "│ (\u001b[38;5;33mFunctional\u001b[0m)                    │                        │               │\n",
              "├─────────────────────────────────┼────────────────────────┼───────────────┤\n",
              "│ conv2d (\u001b[38;5;33mConv2D\u001b[0m)                 │ (\u001b[38;5;45mNone\u001b[0m, \u001b[38;5;34m7\u001b[0m, \u001b[38;5;34m7\u001b[0m, \u001b[38;5;34m32\u001b[0m)       │       \u001b[38;5;34m368,672\u001b[0m │\n",
              "├─────────────────────────────────┼────────────────────────┼───────────────┤\n",
              "│ max_pooling2d (\u001b[38;5;33mMaxPooling2D\u001b[0m)    │ (\u001b[38;5;45mNone\u001b[0m, \u001b[38;5;34m3\u001b[0m, \u001b[38;5;34m3\u001b[0m, \u001b[38;5;34m32\u001b[0m)       │             \u001b[38;5;34m0\u001b[0m │\n",
              "├─────────────────────────────────┼────────────────────────┼───────────────┤\n",
              "│ conv2d_1 (\u001b[38;5;33mConv2D\u001b[0m)               │ (\u001b[38;5;45mNone\u001b[0m, \u001b[38;5;34m3\u001b[0m, \u001b[38;5;34m3\u001b[0m, \u001b[38;5;34m64\u001b[0m)       │        \u001b[38;5;34m18,496\u001b[0m │\n",
              "├─────────────────────────────────┼────────────────────────┼───────────────┤\n",
              "│ max_pooling2d_1 (\u001b[38;5;33mMaxPooling2D\u001b[0m)  │ (\u001b[38;5;45mNone\u001b[0m, \u001b[38;5;34m1\u001b[0m, \u001b[38;5;34m1\u001b[0m, \u001b[38;5;34m64\u001b[0m)       │             \u001b[38;5;34m0\u001b[0m │\n",
              "├─────────────────────────────────┼────────────────────────┼───────────────┤\n",
              "│ global_average_pooling2d        │ (\u001b[38;5;45mNone\u001b[0m, \u001b[38;5;34m64\u001b[0m)             │             \u001b[38;5;34m0\u001b[0m │\n",
              "│ (\u001b[38;5;33mGlobalAveragePooling2D\u001b[0m)        │                        │               │\n",
              "├─────────────────────────────────┼────────────────────────┼───────────────┤\n",
              "│ dropout (\u001b[38;5;33mDropout\u001b[0m)               │ (\u001b[38;5;45mNone\u001b[0m, \u001b[38;5;34m64\u001b[0m)             │             \u001b[38;5;34m0\u001b[0m │\n",
              "├─────────────────────────────────┼────────────────────────┼───────────────┤\n",
              "│ dense (\u001b[38;5;33mDense\u001b[0m)                   │ (\u001b[38;5;45mNone\u001b[0m, \u001b[38;5;34m128\u001b[0m)            │         \u001b[38;5;34m8,320\u001b[0m │\n",
              "├─────────────────────────────────┼────────────────────────┼───────────────┤\n",
              "│ dense_1 (\u001b[38;5;33mDense\u001b[0m)                 │ (\u001b[38;5;45mNone\u001b[0m, \u001b[38;5;34m6\u001b[0m)              │           \u001b[38;5;34m774\u001b[0m │\n",
              "└─────────────────────────────────┴────────────────────────┴───────────────┘\n"
            ],
            "text/html": [
              "<pre style=\"white-space:pre;overflow-x:auto;line-height:normal;font-family:Menlo,'DejaVu Sans Mono',consolas,'Courier New',monospace\">┏━━━━━━━━━━━━━━━━━━━━━━━━━━━━━━━━━┳━━━━━━━━━━━━━━━━━━━━━━━━┳━━━━━━━━━━━━━━━┓\n",
              "┃<span style=\"font-weight: bold\"> Layer (type)                    </span>┃<span style=\"font-weight: bold\"> Output Shape           </span>┃<span style=\"font-weight: bold\">       Param # </span>┃\n",
              "┡━━━━━━━━━━━━━━━━━━━━━━━━━━━━━━━━━╇━━━━━━━━━━━━━━━━━━━━━━━━╇━━━━━━━━━━━━━━━┩\n",
              "│ mobilenetv2_1.00_224            │ (<span style=\"color: #00d7ff; text-decoration-color: #00d7ff\">None</span>, <span style=\"color: #00af00; text-decoration-color: #00af00\">7</span>, <span style=\"color: #00af00; text-decoration-color: #00af00\">7</span>, <span style=\"color: #00af00; text-decoration-color: #00af00\">1280</span>)     │     <span style=\"color: #00af00; text-decoration-color: #00af00\">2,257,984</span> │\n",
              "│ (<span style=\"color: #0087ff; text-decoration-color: #0087ff\">Functional</span>)                    │                        │               │\n",
              "├─────────────────────────────────┼────────────────────────┼───────────────┤\n",
              "│ conv2d (<span style=\"color: #0087ff; text-decoration-color: #0087ff\">Conv2D</span>)                 │ (<span style=\"color: #00d7ff; text-decoration-color: #00d7ff\">None</span>, <span style=\"color: #00af00; text-decoration-color: #00af00\">7</span>, <span style=\"color: #00af00; text-decoration-color: #00af00\">7</span>, <span style=\"color: #00af00; text-decoration-color: #00af00\">32</span>)       │       <span style=\"color: #00af00; text-decoration-color: #00af00\">368,672</span> │\n",
              "├─────────────────────────────────┼────────────────────────┼───────────────┤\n",
              "│ max_pooling2d (<span style=\"color: #0087ff; text-decoration-color: #0087ff\">MaxPooling2D</span>)    │ (<span style=\"color: #00d7ff; text-decoration-color: #00d7ff\">None</span>, <span style=\"color: #00af00; text-decoration-color: #00af00\">3</span>, <span style=\"color: #00af00; text-decoration-color: #00af00\">3</span>, <span style=\"color: #00af00; text-decoration-color: #00af00\">32</span>)       │             <span style=\"color: #00af00; text-decoration-color: #00af00\">0</span> │\n",
              "├─────────────────────────────────┼────────────────────────┼───────────────┤\n",
              "│ conv2d_1 (<span style=\"color: #0087ff; text-decoration-color: #0087ff\">Conv2D</span>)               │ (<span style=\"color: #00d7ff; text-decoration-color: #00d7ff\">None</span>, <span style=\"color: #00af00; text-decoration-color: #00af00\">3</span>, <span style=\"color: #00af00; text-decoration-color: #00af00\">3</span>, <span style=\"color: #00af00; text-decoration-color: #00af00\">64</span>)       │        <span style=\"color: #00af00; text-decoration-color: #00af00\">18,496</span> │\n",
              "├─────────────────────────────────┼────────────────────────┼───────────────┤\n",
              "│ max_pooling2d_1 (<span style=\"color: #0087ff; text-decoration-color: #0087ff\">MaxPooling2D</span>)  │ (<span style=\"color: #00d7ff; text-decoration-color: #00d7ff\">None</span>, <span style=\"color: #00af00; text-decoration-color: #00af00\">1</span>, <span style=\"color: #00af00; text-decoration-color: #00af00\">1</span>, <span style=\"color: #00af00; text-decoration-color: #00af00\">64</span>)       │             <span style=\"color: #00af00; text-decoration-color: #00af00\">0</span> │\n",
              "├─────────────────────────────────┼────────────────────────┼───────────────┤\n",
              "│ global_average_pooling2d        │ (<span style=\"color: #00d7ff; text-decoration-color: #00d7ff\">None</span>, <span style=\"color: #00af00; text-decoration-color: #00af00\">64</span>)             │             <span style=\"color: #00af00; text-decoration-color: #00af00\">0</span> │\n",
              "│ (<span style=\"color: #0087ff; text-decoration-color: #0087ff\">GlobalAveragePooling2D</span>)        │                        │               │\n",
              "├─────────────────────────────────┼────────────────────────┼───────────────┤\n",
              "│ dropout (<span style=\"color: #0087ff; text-decoration-color: #0087ff\">Dropout</span>)               │ (<span style=\"color: #00d7ff; text-decoration-color: #00d7ff\">None</span>, <span style=\"color: #00af00; text-decoration-color: #00af00\">64</span>)             │             <span style=\"color: #00af00; text-decoration-color: #00af00\">0</span> │\n",
              "├─────────────────────────────────┼────────────────────────┼───────────────┤\n",
              "│ dense (<span style=\"color: #0087ff; text-decoration-color: #0087ff\">Dense</span>)                   │ (<span style=\"color: #00d7ff; text-decoration-color: #00d7ff\">None</span>, <span style=\"color: #00af00; text-decoration-color: #00af00\">128</span>)            │         <span style=\"color: #00af00; text-decoration-color: #00af00\">8,320</span> │\n",
              "├─────────────────────────────────┼────────────────────────┼───────────────┤\n",
              "│ dense_1 (<span style=\"color: #0087ff; text-decoration-color: #0087ff\">Dense</span>)                 │ (<span style=\"color: #00d7ff; text-decoration-color: #00d7ff\">None</span>, <span style=\"color: #00af00; text-decoration-color: #00af00\">6</span>)              │           <span style=\"color: #00af00; text-decoration-color: #00af00\">774</span> │\n",
              "└─────────────────────────────────┴────────────────────────┴───────────────┘\n",
              "</pre>\n"
            ]
          },
          "metadata": {}
        },
        {
          "output_type": "display_data",
          "data": {
            "text/plain": [
              "\u001b[1m Total params: \u001b[0m\u001b[38;5;34m2,654,246\u001b[0m (10.13 MB)\n"
            ],
            "text/html": [
              "<pre style=\"white-space:pre;overflow-x:auto;line-height:normal;font-family:Menlo,'DejaVu Sans Mono',consolas,'Courier New',monospace\"><span style=\"font-weight: bold\"> Total params: </span><span style=\"color: #00af00; text-decoration-color: #00af00\">2,654,246</span> (10.13 MB)\n",
              "</pre>\n"
            ]
          },
          "metadata": {}
        },
        {
          "output_type": "display_data",
          "data": {
            "text/plain": [
              "\u001b[1m Trainable params: \u001b[0m\u001b[38;5;34m396,262\u001b[0m (1.51 MB)\n"
            ],
            "text/html": [
              "<pre style=\"white-space:pre;overflow-x:auto;line-height:normal;font-family:Menlo,'DejaVu Sans Mono',consolas,'Courier New',monospace\"><span style=\"font-weight: bold\"> Trainable params: </span><span style=\"color: #00af00; text-decoration-color: #00af00\">396,262</span> (1.51 MB)\n",
              "</pre>\n"
            ]
          },
          "metadata": {}
        },
        {
          "output_type": "display_data",
          "data": {
            "text/plain": [
              "\u001b[1m Non-trainable params: \u001b[0m\u001b[38;5;34m2,257,984\u001b[0m (8.61 MB)\n"
            ],
            "text/html": [
              "<pre style=\"white-space:pre;overflow-x:auto;line-height:normal;font-family:Menlo,'DejaVu Sans Mono',consolas,'Courier New',monospace\"><span style=\"font-weight: bold\"> Non-trainable params: </span><span style=\"color: #00af00; text-decoration-color: #00af00\">2,257,984</span> (8.61 MB)\n",
              "</pre>\n"
            ]
          },
          "metadata": {}
        },
        {
          "output_type": "stream",
          "name": "stdout",
          "text": [
            "None\n"
          ]
        }
      ]
    },
    {
      "cell_type": "code",
      "source": [
        "%%time\n",
        "num_epochs = 50\n",
        "\n",
        "history = model.fit(train_generator,\n",
        "                    epochs=num_epochs,\n",
        "                    validation_data=validation_generator,\n",
        "                    batch_size = 64,\n",
        "                    callbacks =[early_stopping,reduce_lr],\n",
        "                    verbose=2)"
      ],
      "metadata": {
        "colab": {
          "base_uri": "https://localhost:8080/"
        },
        "id": "dAHlppwzw3Ty",
        "outputId": "50c5ee44-5c1b-4e29-c495-83d987aa0b54"
      },
      "execution_count": 17,
      "outputs": [
        {
          "output_type": "stream",
          "name": "stdout",
          "text": [
            "Epoch 1/50\n"
          ]
        },
        {
          "output_type": "stream",
          "name": "stderr",
          "text": [
            "/usr/local/lib/python3.11/dist-packages/keras/src/trainers/data_adapters/py_dataset_adapter.py:121: UserWarning: Your `PyDataset` class should call `super().__init__(**kwargs)` in its constructor. `**kwargs` can include `workers`, `use_multiprocessing`, `max_queue_size`. Do not pass these arguments to `fit()`, as they will be ignored.\n",
            "  self._warn_if_super_not_called()\n"
          ]
        },
        {
          "output_type": "stream",
          "name": "stdout",
          "text": [
            "720/720 - 52s - 73ms/step - accuracy: 0.7691 - loss: 0.6480 - val_accuracy: 0.8111 - val_loss: 0.5450 - learning_rate: 1.0000e-03\n",
            "Epoch 2/50\n",
            "720/720 - 34s - 47ms/step - accuracy: 0.8885 - loss: 0.3364 - val_accuracy: 0.8889 - val_loss: 0.3186 - learning_rate: 1.0000e-03\n",
            "Epoch 3/50\n",
            "720/720 - 35s - 48ms/step - accuracy: 0.9142 - loss: 0.2567 - val_accuracy: 0.8896 - val_loss: 0.3424 - learning_rate: 1.0000e-03\n",
            "Epoch 4/50\n",
            "720/720 - 51s - 71ms/step - accuracy: 0.9313 - loss: 0.2058 - val_accuracy: 0.9042 - val_loss: 0.2805 - learning_rate: 1.0000e-03\n",
            "Epoch 5/50\n",
            "720/720 - 35s - 49ms/step - accuracy: 0.9429 - loss: 0.1682 - val_accuracy: 0.9153 - val_loss: 0.2562 - learning_rate: 1.0000e-03\n",
            "Epoch 6/50\n",
            "720/720 - 35s - 49ms/step - accuracy: 0.9545 - loss: 0.1377 - val_accuracy: 0.8979 - val_loss: 0.3208 - learning_rate: 1.0000e-03\n",
            "Epoch 7/50\n",
            "720/720 - 36s - 50ms/step - accuracy: 0.9568 - loss: 0.1273 - val_accuracy: 0.9146 - val_loss: 0.2844 - learning_rate: 1.0000e-03\n",
            "Epoch 8/50\n",
            "720/720 - 40s - 55ms/step - accuracy: 0.9649 - loss: 0.1064 - val_accuracy: 0.9062 - val_loss: 0.3396 - learning_rate: 1.0000e-03\n",
            "Epoch 9/50\n",
            "720/720 - 35s - 49ms/step - accuracy: 0.9875 - loss: 0.0414 - val_accuracy: 0.9326 - val_loss: 0.2502 - learning_rate: 1.0000e-04\n",
            "Epoch 10/50\n",
            "720/720 - 35s - 49ms/step - accuracy: 0.9918 - loss: 0.0267 - val_accuracy: 0.9312 - val_loss: 0.2576 - learning_rate: 1.0000e-04\n",
            "Epoch 11/50\n",
            "720/720 - 34s - 47ms/step - accuracy: 0.9939 - loss: 0.0214 - val_accuracy: 0.9326 - val_loss: 0.2604 - learning_rate: 1.0000e-04\n",
            "Epoch 12/50\n",
            "720/720 - 34s - 47ms/step - accuracy: 0.9950 - loss: 0.0167 - val_accuracy: 0.9312 - val_loss: 0.2893 - learning_rate: 1.0000e-04\n",
            "Epoch 13/50\n",
            "720/720 - 34s - 47ms/step - accuracy: 0.9972 - loss: 0.0113 - val_accuracy: 0.9354 - val_loss: 0.2859 - learning_rate: 1.0000e-05\n",
            "Epoch 14/50\n",
            "720/720 - 38s - 53ms/step - accuracy: 0.9970 - loss: 0.0113 - val_accuracy: 0.9361 - val_loss: 0.2863 - learning_rate: 1.0000e-05\n",
            "Epoch 15/50\n",
            "720/720 - 37s - 52ms/step - accuracy: 0.9970 - loss: 0.0110 - val_accuracy: 0.9347 - val_loss: 0.2893 - learning_rate: 1.0000e-05\n",
            "Epoch 16/50\n",
            "720/720 - 35s - 49ms/step - accuracy: 0.9972 - loss: 0.0101 - val_accuracy: 0.9347 - val_loss: 0.2888 - learning_rate: 1.0000e-06\n",
            "Epoch 17/50\n",
            "720/720 - 34s - 48ms/step - accuracy: 0.9968 - loss: 0.0102 - val_accuracy: 0.9361 - val_loss: 0.2892 - learning_rate: 1.0000e-06\n",
            "CPU times: user 12min 38s, sys: 33 s, total: 13min 11s\n",
            "Wall time: 10min 35s\n"
          ]
        }
      ]
    },
    {
      "cell_type": "code",
      "source": [
        "# Evaluasi model menggunakan data pengujian\n",
        "evaluation = model.evaluate(\n",
        "    validation_generator,\n",
        "    steps=validation_generator.samples,\n",
        "    callbacks =[early_stopping,reduce_lr]\n",
        ")\n",
        "\n",
        "# Menampilkan hasil evaluasi\n",
        "print(f\"Test Loss: {evaluation[0]:.4f}\")\n",
        "print(f\"Test Accuracy: {evaluation[1]:.4f}\")"
      ],
      "metadata": {
        "colab": {
          "base_uri": "https://localhost:8080/"
        },
        "id": "cqnShRYvw3X8",
        "outputId": "a82fccad-ce96-4e1f-ef3d-e84a39b3d6ec"
      },
      "execution_count": 22,
      "outputs": [
        {
          "output_type": "stream",
          "name": "stdout",
          "text": [
            "\u001b[1m1440/1440\u001b[0m \u001b[32m━━━━━━━━━━━━━━━━━━━━\u001b[0m\u001b[37m\u001b[0m \u001b[1m3s\u001b[0m 2ms/step - accuracy: 0.9356 - loss: 0.2845   \n",
            "Test Loss: 0.2859\n",
            "Test Accuracy: 0.9354\n"
          ]
        },
        {
          "output_type": "stream",
          "name": "stderr",
          "text": [
            "/usr/local/lib/python3.11/dist-packages/keras/src/trainers/epoch_iterator.py:107: UserWarning: Your input ran out of data; interrupting training. Make sure that your dataset or generator can generate at least `steps_per_epoch * epochs` batches. You may need to use the `.repeat()` function when building your dataset.\n",
            "  self._interrupted_warning()\n"
          ]
        }
      ]
    },
    {
      "cell_type": "code",
      "source": [
        "acc = history.history[\"accuracy\"]\n",
        "val_acc = history.history[\"val_accuracy\"]\n",
        "loss = history.history[\"loss\"]\n",
        "val_loss = history.history[\"val_loss\"]\n",
        "\n",
        "epochs = range(len(acc))\n",
        "\n",
        "plt.plot(epochs, acc, 'r')\n",
        "plt.plot(epochs, val_acc, 'b')\n",
        "plt.title('Training and Validation Accuracy')\n",
        "plt.ylabel('accuracy')\n",
        "plt.xlabel('epoch')\n",
        "plt.legend(['train', 'val'], loc='upper left')\n",
        "plt.show()\n",
        "\n",
        "plt.plot(epochs, loss, 'r')\n",
        "plt.plot(epochs, val_loss, 'b')\n",
        "plt.ylabel('loss')\n",
        "plt.xlabel('epoch')\n",
        "plt.legend(['train', 'val'], loc='upper left')\n",
        "plt.title('Training and Validation Loss')\n",
        "plt.show()"
      ],
      "metadata": {
        "id": "IRlaSoIS7djo",
        "colab": {
          "base_uri": "https://localhost:8080/",
          "height": 927
        },
        "outputId": "4e68c949-4d32-4130-90a5-55517fb745f7"
      },
      "execution_count": 23,
      "outputs": [
        {
          "output_type": "display_data",
          "data": {
            "text/plain": [
              "<Figure size 640x480 with 1 Axes>"
            ],
            "image/png": "iVBORw0KGgoAAAANSUhEUgAAAkAAAAHHCAYAAABXx+fLAAAAOnRFWHRTb2Z0d2FyZQBNYXRwbG90bGliIHZlcnNpb24zLjEwLjAsIGh0dHBzOi8vbWF0cGxvdGxpYi5vcmcvlHJYcgAAAAlwSFlzAAAPYQAAD2EBqD+naQAAcjhJREFUeJzt3Xd8U9X/x/HXTdJdyihDWbJsQfYeghXExXCAqAwHggwZKiigoojKdDAEFVki4kDRn4Ko6NeBSkEEBARUlD2FMkp3m9zfH7GB0gIdaW/avp+PRx9tbm5uPicJ5d1zzr3HME3TRERERKQYsVldgIiIiEhBUwASERGRYkcBSERERIodBSAREREpdhSAREREpNhRABIREZFiRwFIREREih0FIBERESl2FIBERESk2FEAEsmjMWPG0KFDh1w99tVXXyUyMtLLFfmWAwcOEBkZyccff1zgzx0ZGcmrr77quf3xxx8TGRnJgQMHLvnYDh06MGbMGK/Wk5fPioh4lwKQFFmRkZHZ+lq3bp3VpRZ7L7zwApGRkezdu/eC+0ybNo3IyEj++OOPAqws544ePcqrr77Kjh07rC4lS//88w+RkZHUr1+f2NhYq8sRsYzD6gJE8svUqVMz3P7000/5+eefM22vWbNmnp7n+eefJ7dL6g0ePJgBAwbk6fmLgq5du7J48WKWL1/O0KFDs9xnxYoVREREULt27Vw/z6233krnzp3x9/fP9TEu5d9//2XWrFlUqlSJOnXqZLgvL58Vb/nss88oV64cp0+f5quvvqJHjx6W1iNiFQUgKbJuvfXWDLc3b97Mzz//nGn7+RITEwkKCsr28/j5+eWqPgCHw4HDoX+GDRs25IorruDzzz/PMgBt2rSJAwcOMHLkyDw9j91ux2635+kYeZGXz4o3mKbJ8uXL6dKlCwcOHOCzzz7z2QCUkJBAcHCw1WVIEaYhMCnW7rnnHrp06cLvv/9O7969adiwIa+88goA33zzDQMGDKBt27bUq1ePjh07Mnv2bJxOZ4ZjnD+vI33Oy/z58/nggw/o2LEj9erVo3v37mzZsiXDY7OaAxQZGclzzz3HN998Q5cuXahXrx6dO3dm9erVmepft24d3bp1o379+nTs2JH3338/2/OKfv31V4YPH861115LvXr1iIqKYuLEiSQlJWVqX+PGjTl69CgPPfQQjRs3plWrVkyZMiXTaxEbG8uYMWNo2rQpzZo1Y/To0Zw5c+aStYC7F2jXrl1s27Yt030rVqzAMAy6dOlCSkoKM2bMoFu3bjRt2pRGjRrRq1cv1q5de8nnyGoOkGmavPbaa1xzzTU0bNiQe+65h507d2Z67KlTp5gyZQpdu3alcePGNGnShP79+2cYklu3bh133HEHAE888YRnmDV9/lNWc4ASEhKYPHkyUVFR1KtXjxtvvJH58+dn6inKyefiQjZs2MDBgwfp1KkTnTp14tdff+XIkSOZ9nO5XCxatIiuXbtSv359WrVqRb9+/di6dWuG/T799FPuuOMOGjZsSPPmzenduzc//fRThprPnYOV7vz5Venvyy+//MKzzz5L69atiYqKAuDgwYM8++yz3HjjjTRo0ICWLVsyfPjwLOdxxcbGMnHiRDp06EC9evW45pprGDVqFCdOnCA+Pp5GjRrxwgsvZHrckSNHqFOnDnPmzMn2aymFn/70lGLv1KlTPPjgg3Tu3JlbbrmF8PBwAD755BOCg4Pp27cvwcHBrF27lpkzZxIXF8fo0aMvedwVK1YQHx/PXXfdhWEYzJs3j2HDhvHNN99csidgw4YNrFq1il69ehESEsLixYsZPnw43333HaVLlwZg+/bt9O/fn3LlyjFs2DBcLhezZ8+mTJky2Wr3l19+SVJSEj179qRUqVJs2bKFd955hyNHjjBz5swM+zqdTvr160eDBg0YNWoU0dHRLFiwgCpVqtCrVy/AHSQeeughNmzYwN13303NmjX5+uuvs/VagTsAzZo1ixUrVlC3bt0Mz/3FF1/QrFkzKlasyIkTJ/jwww/p0qULPXr0ID4+no8++oj+/fvz4YcfZhp2upQZM2bw+uuvExUVRVRUFNu2beOBBx4gNTU1w3779+/nm2++4aabbqJy5cocP36cDz74gD59+vD5559ToUIFatasyfDhw5k5cyZ33XUXTZs2BaBJkyZZPrdpmgwePNgTnOrUqcOPP/7I1KlTOXr0KE8++WSG/bPzubiY5cuXU7VqVRo0aEBERASBgYGsWLGC/v37Z9jvqaee4uOPP+aaa67hjjvuwOl08uuvv7J582bq168PwKxZs3j11Vdp3Lgxw4cPx8/Pj82bN7N27Vratm2b7df/XOPHj6dMmTIMGTKEhIQEALZu3cqmTZvo3Lkzl112GQcPHuS9997j3nvv5fPPP/f01sbHx9O7d2/++ecfunfvzlVXXcXJkyf59ttvOXr0KHXq1KFjx4588cUXPPHEExl6AlesWIFpmnTt2jVXdUshZYoUE+PHjzcjIiIybOvTp48ZERFhvvfee5n2T0xMzLTt6aefNhs2bGgmJyd7to0ePdps37695/b+/fvNiIgIs0WLFuapU6c827/55hszIiLC/Pbbbz3bZs6cmammiIgIs27duubevXs923bs2GFGRESYixcv9mwbOHCg2bBhQ/PIkSOebXv27DGvuuqqTMfMSlbtmzNnjhkZGWkePHgwQ/siIiLMWbNmZdj3tttuM2+//XbP7a+//tqMiIgw586d69mWlpZm9urVy4yIiDCXLVt2yZq6d+9uXnPNNabT6fRsW716tRkREWG+//77nmOe+/qbpmmePn3abNOmjfnEE09k2B4REWHOnDnTc3vZsmVmRESEuX//ftM0TTMmJsasW7euOWDAANPlcnn2e+WVV8yIiAhz9OjRnm3JyckZ6jJN93tdr169DK/Nli1bLtje8z8r6a/Za6+9lmG/YcOGmZGRkRk+A9n9XFxISkqK2aJFC/OVV17xbBsxYoR5yy23ZNgvOjrajIiIMJ9//vlMx0h/jfbs2WPWrl3bHDJkSKbX5NzX8fzXP1379u0zvLbp70vPnj3NtLS0DPtm9TndtGmTGRERYX7yySeebTNmzDAjIiLMVatWXbDuH3/80YyIiDB/+OGHDPd37drV7NOnT6bHSdGmITAp9vz9/enWrVum7YGBgZ6f4+LiOHHiBM2aNSMxMZFdu3Zd8ridOnWiZMmSntvNmjUD3D0Jl9KmTRuqVq3quV27dm1CQ0M9j3U6nURHR3PddddRoUIFz35XXHEF7dq1u+TxIWP7EhISOHHiBI0bN8Y0TbZv355p/549e2a43bRp0wzDEKtXr8bhcGTYz26306dPn2zVA3DLLbdw5MgR1q9f79m2YsUK/Pz8uOmmmzzHTJ/E7HK5OHXqFGlpadSrVy/Lui9mzZo1pKam0qdPHwzD8Gy/7777Mu3r7++Pzeb+lel0Ojl58iTBwcFUr149x8+bbvXq1djtdu65554M2x944AFM08w0vHWpz8WlnuvUqVN06dLFs61Lly788ccfGYb8Vq1ahWEYWc7FSn+NvvnmG1wuF0OGDPG8Jufvkxt33nlnpjla535OU1NTOXnyJFWrViUsLCzD675q1Spq167N9ddff8G627RpQ/ny5Vm+fLnnvr/++os///yTW265Jdd1S+GkITAp9ipUqJDlWUE7d+5k+vTprF27lri4uAz3ZWdey+WXX57hdnoYys6px+c/Nv3x6Y+NiYkhKSmJK664ItN+WW3LyqFDh5g5cybffvstp0+fznDf+e0NCAjINLRWsmTJDI87ePAg5cqVIyQkJMN+1atXz1Y9AJ07d2by5MmsWLGCli1bkpyczNdff80111yTIUx+8sknLFiwgN27d2cYqqpcuXK2nwvcrwFAtWrVMmwvU6ZMhucDd9h6++23effddzlw4ECG+U+lSpXK0fOmO3jwIOXLlyc0NDTD9vQzEw8ePJhh+6U+Fxfz2WefUblyZfz9/T2XG6hatSpBQUEsX76cESNGALBv3z7Kly9/0Tbt27cPm82W5zMoz5fV+5eUlMScOXP4+OOPOXr0aIa5Uef+O9y3bx833HDDRY9vs9no2rUr7733nudkh+XLlxMQEOAJ2FJ8KABJsXfuX5jpYmNj6dOnD6GhoQwfPpyqVasSEBDAtm3beOmll3C5XJc87oXONjKzcRp0Xh6bHU6nk759+3L69Gn69+9PjRo1CA4O5ujRo4wZMyZT+wrqzKnw8HDatGnDqlWreOaZZ/j222+Jj4/PMDfj008/ZcyYMXTs2JF+/foRHh6O3W5nzpw52eoJya033niDGTNm0L17dx5++GFKliyJzWZj4sSJBXZqe24/F3FxcXz33XckJydnGRJWrFjBo48+mqfem5w4f/J8uoCAgEzbnn/+eT7++GPuu+8+GjVqRIkSJTAMg0cffTRXr/ttt93G/PnzPZPJV6xYwbXXXkuJEiVyfCwp3BSARLLwyy+/cOrUKWbNmkXz5s0927NzBeGCEB4eTkBAQJYXDrzYxQTT/fXXX+zZs4cpU6Zw2223ebb//PPPua6pUqVKrF27lvj4+Ay9QLt3787Rcbp27cqPP/7I6tWrWbFiBaGhoRnOnPrqq6+oUqUKs2bNyvAf9vkTt7OjYsWKAOzZs4cqVap4tp84cSJTr9hXX31Fy5YtmThxYobtsbGxGSYg5yREVKpUiejoaOLi4jL0AqUPsVaqVCn7jbmIVatWkZyczLPPPptpsvTu3buZPn06GzZsoFmzZlStWpWffvqJU6dOXbAXqGrVqrhcLv7555+LTjrPqncqJSWFY8eOZbv2r776ittuuy3DWWPJycmZemGrVq2a5dl754uIiOCqq65i+fLlXHbZZRw6dIixY8dmux4pOjQHSCQL6fMazv0LMyUlhXfffdeqkjKw2+20adOG//3vfxw9etSzfe/evfz444+XfHxW7TNNk7fffjvXNV1zzTWkpaXx3nvvebY5nU7eeeedHB2nY8eOBAUF8e6777J69WpuuOGGDD0D6b0g59a+efNmfvvttxzX3KZNG/z8/HjnnXcyHG/RokWZ9rXb7Zl6HL744osMrz/gOSspO8NS11xzDU6nkyVLlmTY/tZbb2EYBtdcc02223Ixn332GVWqVKFnz57cdNNNGb769etHcHCwZ17MDTfcgGmazJo1K9Nx0tvfsWNHbDYbs2fPztRbeO5rVKVKFX799dcM9y9duvSCPUBZyarXa/HixZmOccMNN/DHH3/w9ddfX7DudLfeeis///wzixYtolSpUl57naVwUQ+QSBYaN25MyZIlGTNmDPfccw+GYfDpp59afhXfcw0dOpSffvqJnj170rNnT1wuF++88w5XXnnlJZdhqFGjBlWrVmXKlCkcPXqU0NBQvvrqqzwtjdChQweaNGnCyy+/zMGDB6lVqxarVq3K9nWA0oWEhHDdddexYsUKgEynJl977bWsWrWKIUOGcO2113LgwAHef/99atWq5Tl1OrvKlCnDAw88wJw5cxg4cCBRUVFs376d1atXZ+opufbaa5k9ezZPPPEEjRs35q+//mL58uUZeo4AzwTd999/n5CQEIKDg2nQoEGm/cD9mrVs2ZJp06Zx8OBBIiMj+fnnn/nf//7Hfffdl2HCc24dPXqUdevWZZponc7f35927drx5ZdfMnbsWFq1asWtt97K4sWL2bt3L+3atcPlcrFhwwZatmxJnz59uOKKKxg0aBCvvfYavXr14oYbbsDf35+tW7dSvnx5zwUre/Towbhx4xg2bBht2rThjz/+4KeffsrWKfvprr32Wj799FNCQ0OpVasWv/32G2vWrMnUO9WvXz+++uorHn74Ybp3707dunU5ffo03377LePHj89wBfEuXbrw4osv8vXXX9OzZ0/LL1Ap1lAPkEgWSpcuzRtvvEG5cuWYPn068+fPp02bNjz++ONWl+ZRr1495s6dS8mSJZkxYwYfffQRw4cPp3Xr1lnOpTiXn58fb7zxhufib7NmzaJatWpMmTIl1/XYbDZef/11unbtymeffca0adOoUKFCro6ZfkZOuXLlaNWqVYb7unXrxogRI/jzzz954YUX+Omnn3jxxRepV69erup+5JFHGDZsGNu3b2fq1Kns27ePBQsWZLoK8aBBg3jggQf48ccfmTBhAtu2bWPOnDmZJib7+fkxefJk7HY7zz77LCNGjMhwVtu50l+z++67j++++45Jkybxzz//MGrUKJ544olcted8K1euxOVy0b59+wvu0759e06dOuU562zSpEmMGjWKAwcOMHXqVObMmUNSUhKNGzf2PObhhx9m4sSJJCcnM23aNGbOnMmhQ4do3bq1Z58777yTBx98kPXr1zNlyhQOHDjAwoULc3SF56eeeopbb72V5cuXM3nyZP79918WLlyYabJ9SEgIS5YsoWfPnvzwww+88MILvPvuu1SvXj3DmZIAZcuW5eqrrwYyXzFeig/D9KU/aUUkzx566CH+/vtvVq1aZXUpIj5ryJAh/PXXX1kOmUnxoB4gkULs/GUr9uzZw+rVq2nRooVFFYn4vn///ZcffvhBvT/FnOYAiRRiHTt25Pbbb6dKlSocPHiQ999/Hz8/v0xLG4iI+yKkGzdu5KOPPsLhcHDXXXdZXZJYSAFIpBBr164dn3/+OceOHcPf359GjRoxYsSITBf2ExFYv349TzzxBBUrVmTy5MmUK1fO6pLEQpoDJCIiIsWO5gCJiIhIsaMAJCIiIsWOApCIiIgUOwpAIiIiUuzoLLCLiIk5g7eniBsGhIeXyJdj+wK1r/Ar6m1U+wq/ot5GtS/vx84OBaCLME3y7cOXn8f2BWpf4VfU26j2FX5FvY1qX/7SEJiIiIgUOwpAIiIiUuwoAImIiEixozlAeeByuXA603L0GMNwL2CZmppSJMd2s9s+h8MPwzAKrjAREZFzKADlgmmaxMaeIDExLlePP3HChsvl8nJVviM77TMMG+Hhl+Fw+BVQVSIiImdZGoDWr1/P/Pnz+f333zl27BizZ8+mY8eOF33MunXrmDx5Mjt37uTyyy9n8ODBdOvWLcM+S5YsYf78+Rw7dozatWvz9NNP06BBA6/VnR5+QkNL4+8fkOOeDLvdwOksgt0//7lU+0zTxalTMZw+fYIyZcqrJ0hERAqcpQEoISGByMhIunfvztChQy+5//79+xk4cCB33303L730EtHR0YwdO5Zy5crRrl07AFauXMmkSZMYP348DRs2ZNGiRfTr148vv/yS8PDwPNfscjk94Sc0NCxXx3A4bKSlFd0eoOy0r0SJUpw+fRyXy4ndro5IEREpWJb+zxMVFUVUVFS293///fepXLkyY8aMAaBmzZps2LCBt956yxOAFi5cyJ133kn37t0BGD9+PN9//z3Lli1jwIABea7Z6XQC4O8fkOdjFWfpocflcmG3W1yMiIgUO4XqLLDffvuN1q1bZ9jWtm1bfvvtNwBSUlLYtm0bbdq08dxvs9lo06YNmzZt8motGrbJG71+IiJipUI19nD8+HHKli2bYVvZsmWJi4sjKSmJ06dP43Q6Mw11hYeHs2vXrhw/X1b/R+v/be8yjML1mqbXWphqzqmi3ka1r/Ar6m1U+/J+7OwoVAGooGW1nkhSUhInTtiw2w0cjtx3oOXlsb7gtts6c/fdvbj77t5Z3n+p9rlcBjabjdKlQwgMDMyPEvNVdteaKcyKehvVvsKvqLdR7ctfhSoAlS1bluPHj2fYdvz4cUJDQwkMDMRms2G324mJicmwT0xMTKaeo+zIaqG21NSU/67/Y+Z6IrNVk6CHDh3AlVdG8vDDI/N8rLlz3yYoKCjLdmSnfU6nicvl4uTJePz8UvNcT0Ep6osUQtFvo9pX+BX1Nqp9eT92dhSqANSoUSNWr16dYduaNWto1KgRAP7+/tStW5fo6GjP6fQul4vo6Gj69OmT4+fLaqG2ovhhTGeaJk6nE4fj0h+L0qVLe+k5C+drWljrzomi3ka1r5ByuTCOH4P4kxgn48Gwgc2G+d93DANshvvn/2577rOdu4/N58fgs/Uepu/kcp39nv5lmhjmObddZ/f1bE9/DIDDgWl3gJ8D0+EHDgf4+ZFfZ6pY/Rm1NADFx8ezb98+z+0DBw6wY8cOSpYsScWKFXn55Zc5evQoU6dOBeDuu+9myZIlTJ06le7du7N27Vq++OIL5syZ4zlG3759GT16NPXq1aNBgwYsWrSIxMTETNcKKm4mTHiW337byG+/beTDD98D4MknxzFx4nhefHEGc+e+zq5df/PKK7OoUOEyXn31FbZt+52kpESuuKI6AwcOoXnzlp7j3XFHV+68syd33tkLgLZtmzF69FjWrPmJX35ZS7ly5Rg69BHats3+WX4iUsyZJsaJE9gP7sd28CC2QwewZ/h+ENvhQxhp7ivwl/HGU6aHINt5IQkD03PbmqBUxukOKYbLBWQON+4gk/8JwjQMTxhyByP72YDk8MP0c2T82e7A9PPzhCfTzw/+29+9rx9UrIDR7yHMCpfle/0XYmkA+v3337n33ns9tydNmgTA7bffzuTJkzl27BiHDx/23F+lShXmzJnDpEmTePvtt7nssst44YUXPKfAA3Tq1IkTJ04wc+ZMjh07Rp06dZg3b16uhsByxDQhISF7+zpskNchsODgHP2DfPjhx9i/fx/Vq9ekf/+BAOze7Z4Y/sYbsxg69GEqVqxMiRIlOHr0KK1aXc2AAQ/h5+fPl19+zujRI3j33WVcdtmFP6wLF85l8OBhDB/+CB988D7jxz/NsmXLCQsrmbe2ikiRYMSexnbwIPZDB84LOAexHTyA/dBBjKSkSx7HtNkw/Pwwzw0Cuby6vnFuD8r59+XqiN6TnzNFzfN7w0wTnE6M/y71ci7DNCE1FVJTvfqaBFxWmcQH8n55mtyyNAC1bNmSP//884L3T548OcvH/N///d9Fj9unT59cDXnlmmlSqssN+K1fV2BPmdqiFaeWf5XtEBQaGorD4SAwMJDwcHcY3Lt3DwD9+w+kefNWnn3Dwkpy5ZURntsPPjiY1au/4+eff6B797su+Bw339yF66+/CYfDxsCBQ/joo/fZvn0brVq1ueBjRKSISEjA/l+QsR06iP2877aDB7HFncnWoVzlyuOsVAlXxcqe765KlXD+99287DLKXlaamOPnzSE5N8xk6ik5f4joIsNB5w8hOQt2zqZhQOnSIZw4negevjOMzMN36cN+nttGhvszDgmeN/x3sf83XC5IS4O0NIy0VEg99+dUDGeae5vn51R3j1xaWsb70/7bfu79aakYqakYTich5UqT3Om2AntNs1Ko5gD5NB8eR76U2rWvynA7ISGBBQveJDr6J2JijuN0OklOTubo0SMXPU7Nmld6fg4KCiIkJISTJ0/kS80i4kWmCYmJ2M7EYsTGYsSedn8/E4stNhbj9GmMM+5ttthYz33u26cxTp/CdupUtp7KVbr0OcGmEs5KlXFVrISrUmWcFSvhurwiBFz8QrMX/HV77nDW+U28WPOzVXnBMQygbAlc5we8gmCzgb8/+PtneF28WYZhQEjZEpjHz1j64isAeYNhuHtjsjkE5pWzwHI4BHYxgYFBGW7Pnj2d9evXMWTII1SuXIWAgADGjh1NamraRY9z/uRpwzAwi+QsTBEfZJoYZ2KxHzoISbH47zv8X5j5L9CcOSe8xJ4+G17SQ0/axf99Z4crJBTXecHGWbnK2YBzeUUICfFCY0XyTgHIWwwj+/+wvTEHKBf8/PxwuTKP755v69bNdOrUlaio9oC7R+jIkUNA03yuUESy9F+4sR08iO3wwbPzZg4ddA87HT7kvi8+zvOQ3KxUaNpsmCXCMMPCMEuE4QoLwyxZ0rPNFXb25/QvV4mSmCVL4rrsMsywkoW6N1yKFwWgYuSyyyqyffvvHD58iKCg4Av2zlSuXJUffviWq69uBxjMm/c6Lpd6ckTyxfnh5tAh9zyaw4fc82eyCDcX4ypVClulSqSGhuEqeW5gKYnr/PASVirDbTMkVAFGig0FoGKkZ88+TJjwLH369CA5OZknnxyX5X7Dhj3KpEnPMWjQA5QsWYreve8jPj6+gKsVKSKSk7Hv3uU+48kL4cZVsTLOihXdE4MrVnTPm6lYyT1J+LKKGKEhlC1bgtNWzB8RKUQMU5M0Luh4Fr9AUlNTiIk5THj45fj5+efquFZdCbqgZKd93ngdrWAYULZsiSw/G0VFUW9jfrfPdvQIjl/W4ffrL/itX4djy28YKSmXfJyrdGlcl1e6aLjJzjB7UX//oOi3Ue3L+7GzQz1AIiK5lZqKY/vvONanB55fsO/fl2k3V1hJXJWr5DnciIj3KACJiGSTERNztmfn11/w27QBIzExwz6mzYazTl1Sm7cgtVkLUpu3xFWtuubWiPgYBSARkaw4ndj/2JEh8Dh2/ZNpN1fJUqQ2a05a85akNmtBWpOmmKFFexVvkaJAAUhEBDBOn8KxYT1+691DWY6Nv2Z55eK0iEhSm7ck7b/eHWetK7O88J6I+DYFIBEpflwu7H/9iWP9L+6hrPXrcPz5R+bdQkJJa9KM1OYtSGvegtSmzTFLlbagYBHxNgUgESk+nE5Cnh4Dy5ZS+uTJTHenVa/h6dlJbdYCZ52rwG63oFARyW8KQCJSbISMe5KgeXMAMAMDSW3c9Gzgadocs1w5iysUkYKiACQixULggrkEv/m6+8bChcTceAumw8/aokTEMpq5JyJFnt+33xD61CgA4p98Bu6/H/wUfkSKMwUgybY77ujK0qXvWl2GSI7Yd2wn7MH7MZxOku7qReIjI60uSUR8gAKQiBRZxr//UrLPndjOxJLSqg1nXpqhCxKKCKAAJCJFVWIiJe/riX3/PtKq1yD2rSUQEGB1VSLiIxSAiolPP/2YW2+9CZcr4yKlY8aMYOLE8Rw8eIAxY0bQtesNXH99O/r3v5f169dZVK1IHrlclHh4MH4b1uMqWYrYJR9ilgm3uioR8SEKQF5imhAfX3BfOV1Bt337jsTGnmbjxl8922JjT7NuXTQ33HAzCQkJtGp1NTNmvMaCBUto2bI1o0eP4MiRI15+pUTyX/DUiQT+38eYDgexC99xX61ZROQcOg3eC0wTunQJZv36grtgWosWaSxfnpjt6QxhYWG0atWGr7/+kmbNWgDw3Xf/o2TJUjRp0gybzcaVV0Z49n/wwcGsXv0dP//8A92735UfTRDJFwEfvk/IK1MBiHtpBqltr7G4IhHxRQpAXmIYOeySscD119/M1KkvMHLkGPz9/fn66y+57robsNlsJCQksGDBm0RH/0RMzHGcTifJyckcPaoeICk8HGujKfHoUAAShj1KUq97LK5IRHyVApAXGAYsX55IQkL29nc4bKSluS6940UEB+f8ZJarr26HaZpER/9E7dpXsXnzJoYNGwHA7NnTWb9+HUOGPELlylUICAhg7NjRpKam5alOkYJi272Lkvf3xEhJIbnzLcQ/Nc7qkkTEhykAeYlhQEhI9vZ1OCDNglwREBBAVFQHVq36ggMH9lO16hVERtYGYOvWzXTq1JWoqPYAJCQkcOTIIaBpwRcqkkPGqZOU7N0D24kTpDZqTOzsN7VCu4hclAJQMXP99TcxevSj7N69ixtuuNmzvXLlqvzww7dcfXU7wGDevNdxuXx/WE+E1FTC+t2L4++dOCtWInbxB+4uUhGRi9CfSMVM06bNKVEijH379nL99Td5tg8b9iglSoQxaNADjB79KC1atCYiItLCSkWywTQJHT0C/x9/wBUSyul3luKqcJnVVYlIIaAeoGLGZrPx6adfZtp++eUVmTnzjQzbune/M8Ptjz5anq+1ieRU0GuvEvTOIkybjTNz5uOsV9/qkkSkkFAPkIgUSv4rVxDy3NMAxD83kZRzhnRFRC5FAUhECh3Hlt8Ie6g/hmmSeH8/Eh8cbHVJIlLIKACJSKFiO3SQsD53YSQkkHJtB+ImvqgFTkUkxxSARKTwiIsjrM9d2I8cJi2yNrHzFrmvKyEikkMKQLlk5nQxLslAr5/kmNNJ2EP98ft9C66y5Ti95EPMsJJWVyUihZQCUA7Z7e71vlJSki2upHBzOt1XgrTpYnWSTSHjnybgy5WYAQGcXvQurqpXWF2SiBRi6jvOIZvNTlBQKHFxJwHw9w/AyOH8A5fLwOksuj0gl2qfabo4c+YU/v6B2GwFt4CsFF6BixYQ/MYsAM7MfJ205i0trkhECjsFoFwICysD4AlBOWWz2XC58rYWmC/LTvsMw0ZYWJkch0cpfvy+/5bQMSMBiB/9FMm332FxRSJSFCgA5YJhGJQsGU6JEqU9QznZfyyULh3CyZPxFMVpMNltn8Php/Ajl2T/60/C+t+H4XSSdMddJIwYZXVJIlJEKADlgc1mw2bzz9FjDAMCAwPx80stsgGoKLdPCo5x/Dgle/XAFnua1JatOTNtlk53FxGv0QxUEfE9SUmUvK8n9n17cF5RjdNvvQsBAVZXJSJFiAKQiPgW06TEI0PwW78OV1hJTr/7EWZ4uNVViUgRowAkIj4l+KXJBH78IabDQeyCxTivjLC6JBEpghSARMRnBCxbSsiLkwCIm/IKqddca21BIlJkKQCJiE9w/LKOEg8/BEDCQ8NJuud+awsSkSJNAUhELGfbs5uS9/fESEkh+eYuxD893uqSRKSIUwASEUsZp09Rss+d2I4fJ7VBI2Jfmwt2XSFcRPKXApCIWMb+z07C+vbB8defOC+vSOzi9yEkxOqyRKQY0IUQRaRguVz4f/MVQfPfxP+7/wFgBgcT+84HuC6vaHFxIlJcKACJSIEwTp0k8L0lBC14E/vePQCYhkHK9TeSMHI0afUbWlugiBQrCkAikq/s27cRNP9NApd9gJGQAICrZCmSet1DYt/+uKpVt7hCESmOFIBExPvS0vD/4nOC5s/Bf81PZzfXqUti/4Ekdb8TgoMtLFBEijsFIBHxGuP4cYLeeYvAt+ZjP3QQANNuJ6VTVxL7DyS1VRstaCoiPkEBSETyzPHbRoLmzSHg/5ZhpKQA4CpblsR77ifpvn64KlayuEIRkYwUgEQkd5KTCVj+fwTNn4Pfhl89m1MbNyGx30CSb+2mFdxFxGcpAIlIjtiOHCbwrfkELX4L27F/ATD9/Um+5XYS+w8krUkziysUEbk0BSARuTTTxLFuLUHz5xDw+WcYaWkAOC+vSNJ9D5DY537M8uUtLlJEJPsUgETkwhITCfz4QwLnv4nf71s8m1NaX01ivwGk3NwF/PwsLFBEJHcUgEQksz17CH55OoFL3sZ28iQAZlAQSXfcRWLfB3HWq29xgSIieaMAJFKMGWdise3fj/3APvf3gwdw7NgG335DsGkC4Kx6BYl9HySpVx/M0mUsrlhExDsUgESKKpcL49gx7Af2YT+w/7+Asx/bgf3Y97u/22JPX/DhKdd2ILHfQFI63qDV2UWkyFEAEimsUlKwHTroDjcH9mPfvw/bwQP/hZt92A8dxEhOvuRhXKVL46xcFVflKjgrV8ZVtSqhd9xObNlK/NcJJCJS5CgAifiylBT8flqNfc9ud9A5eE7vzdEjGJdIKKbNhuuyy/8LN1XOfq9SBWflqjgrVYbQ0AyPMQwILVsCjp/Jz5aJiFhKAUjER/mt/p7QMSNx/L3zgvuYgYE4K1V2B5sqVXFVqvxfwKnq/n55RZ2lJSKSBQUgER9jO3KYkGeeIPD/PgbAFR5OavNWOKtUwVWpivt7ZXcPjlm2rNbWEhHJBQUgEV+RmkrQvDkET52ILT4O02Yj8YEHSRj9FGbJUlZXJyJSpNisLmDJkiV06NCB+vXr06NHD7Zs2XLBfVNTU5k1axYdO3akfv363HLLLaxevTrDPq+++iqRkZEZvm666ab8boZInjjWRlO64zWEjnsSW3wcqU2bcerrH4if+KLCj4hIPrC0B2jlypVMmjSJ8ePH07BhQxYtWkS/fv348ssvCQ8Pz7T/9OnT+eyzz3jhhReoUaMGP/74I0OHDuX999/nqquu8ux35ZVXsnDhQs9tu07hFR9lHDtG6HNPE/jBuwC4ypQhfux4knrdAzbL/z4RESmyLP0Nu3DhQu688066d+9OrVq1GD9+PIGBgSxbtizL/T/99FMGDRpEVFQUVapUoVevXkRFRbFgwYIM+9ntdsqVK+f5KlNGF28TH+N0ErhgLmXaNPWEn8R77ufEmg0k9blP4UdEJJ9Z1gOUkpLCtm3bGDhwoGebzWajTZs2bNq0KcvHpKam4u/vn2FbQEAAGzduzLBt7969tG3bloCAABo1asTIkSOpWLFijmvMj7ml6ccsqvNW1b5Lc2z8lZBRI/Hb7P6cp9VvSNyLr5DWtLn72HktMo/0HhZuRb19UPTbqPbl/djZYVkAOnnyJE6nM9NQV3h4OLt27cryMW3btuWtt96iefPmVK1alejoaL7++mucTqdnnwYNGjBp0iSqV6/OsWPHmD17Nr1792b58uWEnne9k0sJDy+R84b5wLF9gdqXhZgYePJJmDsXTBNKloQJE3AMGkQpHxym1XtYuBX19kHRb6Pal78K1VlgTz31FGPHjuXmm2/GMAyqVKlCt27dMgyZRUVFeX6uXbs2DRs2pH379nzxxRf06NEjR88XE3PG61fCNQz3m54fx/YFal8WXC4C3n2HkOefwXbiBABJd/YkftzzmOXLw8mE/Cs4F/QeFm5FvX1Q9Nuo9uX92NlhWQAqXbo0drudmJiYDNtjYmIoW7Zslo8pU6YMr732GsnJyZw6dYry5cvz0ksvUaVKlQs+T1hYGNWqVWPfvn05rtE0ybcPX34e2xeofW72rVsoMXoEfr/+AkBanauIm/wyqa2v/u9A+VhkHuk9LNyKevug6LdR7ctfls209Pf3p27dukRHR3u2uVwuoqOjady48UUfGxAQQIUKFUhLS2PVqlVcd911F9w3Pj6e/fv3U65cOa/VLnIpRuxpQp58nNLXX4Pfr7/gCgklbvxETn7z49nwIyIilrF0CKxv376MHj2aevXq0aBBAxYtWkRiYiLdunUDYNSoUVSoUIGRI0cCsHnzZo4ePUqdOnU4evQor776Ki6Xi/79+3uOOWXKFNq3b0/FihX5999/efXVV7HZbHTp0sWSNkoxY5oELFtK6LinsB37F4Ck27oRP36ie1kKERHxCZYGoE6dOnHixAlmzpzJsWPHqFOnDvPmzfMMgR0+fBjbOacDJycnM336dPbv309wcDBRUVFMnTqVsLAwzz5HjhxhxIgRnDp1ijJlytC0aVOWLl2qU+El39n//IPQMSPx//lHANJq1nIPd0W1t7gyERE5n2GaRXmEMW+OH8+fCVply5bIl2P7gmLZvrg4Ql6eQtCc2RhpaZhBQSQ8+jgJg4dBQICl9eZGsXwPi5Ci3j4o+m1U+/J+7OwoVGeBifgU08R/xaeEPv0E9kMHAUi+qTNxL0zGVfUKi4sTEZGLUQASyQXbP38TOuYx/L//FgBn1WrETZpKyvVad05EpDBQABLJicREeHoqpadOxUhJwfT3J2HYoyQMHwFBQVZXJyIi2aQAJJJN/qu+IPSp0bB3DwaQ0qEjZya+iKtGTatLExGRHFIAErkE2/59hD41moAvP3dvqFyZ2Ocnk9ypa9FdrEdEpIhTABK5kJQUgl5/lZBXpmIkJmI6HCQOHkrwxOdJSTJ9+irOIiJycQpAIlnw+/EHQseMxLHzLwBS2rQlbvLLuOrUITg0FJLOWFyhiIjkhQKQyDlsR48QMu5JAj/+CABXufLEPfsCyXfcBYaBBrxERIoGBSARgLQ0gha8SfDkCdjizmDabCT17U/8mLGYJUtZXZ2IiHiZApAUe4716ygxagSObVsBSG3SlLip00hr0MjawkREJN8oAEmxZcTEEPLCOIKWvA2Aq1Qp4seOJ6nPfXDOGnQiIlL0KABJ8eNyEfjuYkKefwbbyZMAJPa6h/ix4zH/W4hXRESKNgUgKVYcWzcTOmoEfhvWA5B2VT3OTHmFtJatLK5MRHxFWhokJUFCgkFSEiQlGTgcJmXKmISFqYM4LxIT4dQp9+saGGhtLQpAUiwYsacJnvwCQQvmYrhcuEJCSRjzFIn9BoJD/wxECgvThMOHDQ4ehMOHbRlCSmIiJCZe/HZS0tltF9o3Le3C53vabCalSpmULg2lSrlDUfr30qXNTNvSv4eEFK3rpqakwMmTBqdOGZw8aXDihMGpU/z3/dxtRoZtSUlnX4Q33nDQrVuaZW3Qb34p2kyTgGVLCR33FLZj/wKQdHt34sdPxHXZ5RYXJyKXEhcHv/1mZ8MGOxs22Niwwc6xY+ldMCH5/vxBQSaBgZCc7O4Rcrnc/6GfOJGz4/j5ZQxFpUun/0yGbenbq1RxBwyzgC64mpp6NtCcOGFk+Pn8EHPihEF8fO7TnMNhUqWKQbVqLi+2IBd1WPrsIvnI/tefhI4egf/PPwKQVrMWcZNfJjWqvcWViUhWXC7YudPmCTobNtj54w8bLlfG/2wdDpPwcIOAABeBgSZBQRAY6A4qQUHpt8+Gl8BAk+DgjPtc6Pu5xwoMzNhrk5yMJwSc+5Xe+3H+9vSv5GSD1FSDY8cMjh3LySsS6o2XNd8YhjvApQe3c3vALtYbVqIElCtXguPHXQUW8LKiACRFT3w8Ia9MJej1VzHS0jADA0kYMYqEwcMgIMDq6kTkPzExBhs3usPOr7/a2bTJzpkzmXsWKlVy0bSpkyZNnDRt6qJhQydVqpTg+PH4Av0PNCAAKlQwqVAh+09qmu55L+cGonN7Wc5uyzh8lJBgwyzAxjkcZOiFys5XyZK5mw/lK0OBCkBSdJgm/l98TujY0dgP7Acg+cabiXthCq4rqllbm/gMl8s9D6Socjrdw0ZW/mWdlZQU2L79bNjZsMHOnj2Z//cMCjJp1MhJ06busNO0qZPLLsvYGF/5DzQ7DAOCgyE42KRSpey9KYYBZcuW4PjxOJ97H4sSBSApEmx7dhP65OMEfLMKAGeVqsRNmErKTZ0srkx8yZkz0KVLMDt2QFBQ6CW77N3byHC/n1/B1Gqa7nozDrNkNfSScdvp0+7H2u2h5wxLkMXcEzPT3JPSpd1DRXkNGKYJBw8abNx4Nuxs3WrLMAE2Xa1aZ4NO06ZO6tRx6bwEKRD6mEnhlpRE8OwZBM94GSMpCdPPj4QhD5PwyGPuP7tEzjF6dCA7dtgB9xk/iYkGhw7l7BglSmQ9HHBuaDr/y98/67kjmb8yDpU4nblPIk6nwfHjBseP5+xxAQEXmqzrPvPp/LaVKWMSGGiyfXt62HH38hw9mrl3p1Qp879hLKdnSKtUqVw3USRPFICk0LIdPkTJnnfg2P47ACntriVuyss4a11pcWXii5YudfDRR37Y7SZffmlQqlScpxclqzNezt926pQ7jJw5Y3DmjMG+fQVTd1BQVkHk/C8yBJKqVUPZvTuOmJjz55lkPF35/PkoaWnuCbtHjxocPZq3uu12k7p1XZ7A06yZkxo1zEI1fCVFmwKQFEr2P3ZQsmd37AcP4CpbjriJU0m+tVvhmhwgBWbXLoPRo91XXXv88RQ6dgzg+HGTK67I/gQLpxNOn+aC1ze51OnC554GnXG47eLDU0FBOWurYUBoKFx+uZlp7szFmCbEx2cecrv40Ju7Z8vlMrjsMhfNmrl7dZo1c9GggVOdsOLTFICk0HGsjabkPXdhO32KtFpXcvr9j3FVvcLqssRHpaTAoEFBxMcbtG6dxiOPpAA5PxvQbocyZdxhpWbN7AeLlBT3l69fCC89OIWGmlSpkv32uVyQkOB+rEhhogt6S6Hiv+IzSvW4BdvpU6Q2a8GpFasUfuSiJk0K4Lff7JQqZfLaa0nY7QX7/P7+7nDgy+EnL2w2hR8pnBSApNAInP8mYf3uwUhOJvmmTpz66DPMMuFWlyU+7Lvv7Mye7Q/AtGlJ2T4NWUSKPgUg8X2mSfDE5yjxxGMYpknivQ8Qu+AdneUlF3XsmMHQoe55P/ffn0LnztatOSQivkdzgMS3paZSYsQwAj94F4D40U+RMGJU0R1PEK9wuWD48ECOHbNRu7aT8eOTrS5JRHyMApD4rrg4Sva/F/9vv8G024l7aQZJve+1uiopBObO9eN//3MQGGgyZ05Sjs+kEpGiTwFIfJJx7Bgle9+B32+bMIODiZ37FinX32R1WVIIbN1q47nn3Gd5jR+fTJ061q44LSK+SQFIfI5t1z+Uursb9j27cYWHc3rJh6Q1aWZ1WVIIxMXBgAFBpKYa3HxzKvffn2p1SSLioxSAxKc4Nm2gZO8e2I4fx1m1Gqc/WIazpq7sLNkzdmwA//xj4/LLXUyblqSpYiJyQToLTHyG//9WUer2ztiOHye1QSNOrvxG4Uey7f/+z8G77/pjGO7r/ZQpY3VFIuLLFIDEJwS8v4SwPndhJCSQEtWe0//3OWb58laXJYXE3r0GI0e6T3l/9NEUrr7aaXFFIuLrFIDEWqZJ8LQXCRs+GMPpJOmOuzi95EPM0BJWVyaFRFoaDB4cxJkzBs2aOXnssRSrSxKRQkBzgMQ6TiehTz5O0MJ5ACQMe5T4sc/qGj+SIy+95M+vv9oJCzN5441EHPqtJiLZoF8VYo3ERMIG9ydg5XJMwyBuwhSS+g+yuiopZH7+2c60ae6lLl56KYmqVbXUhYhkjwKQFDjj5AlK3nM3fr+sxfT3J/b1eaR0vc3qsqSQOXECHnooENM06N07hdtu01IXIpJ9CkBSoGwH9lPy7m44/voTV1hJYt9+j9Q2ba0uSwoZ04RHHgnk8GEbtWo5eeEFLXUhIjmjACQFxr59GyXv7ob9yGGcl1fk9Psf46xzldVlSSG0cKEfX37ph7+/e6mLkBCrKxKRwkZngUmB8Pv5R0p1vRH7kcOk1a7DqZXfKPxIrmzfbmPcOPdSF888k0z9+lrqQkRyTgFI8l3Apx9T8q7bsZ2JJaVVG0599iWuSpWtLksKoYQEGDQokORkg44d03jwQS11ISK5owAk+SrozdcoMaAvRkoKyV1u5fTS/8MsVdrqsqSQGjcugD/+sFO+vIsZM7TUhYjkngKQ5A+Xi5BnxxI6dgyGaZLYbwCxc9+CwECrK5NC6vPPHSxa5D7lfdasJMqV0ynvIpJ7mgQt3peSQuiQAQR+tBSAuLHjSRz2SJG4wOGWLTZ27YKbbwZ/f6urKT4OHjR49FF3eB46NJlrr9VSFyKSN+oBEq8yzsRC584EfrQU0+EgdtYcEoc/WujDz7//Gjz6aAAdOwbz4IPQs2cQZ85YXZX3JSXBkiUONmywupKznE739X5OnTJo3NjJmDFa6kJE8k4BSLwnPp6St3WBb77BDA7h9DtLSb6zp9VV5UlKCrz2mh+tW4ewZIk/pmkQEAA//ujgttuC+fffwh3sznXiBNxxRxCPPBJEs2bQpUsQy5c7SLP4+oLTp/sTHe0gJMS91IV63kTEGxSAxGtKjBmJY8tvUK4cpz5bSWqHjlaXlCfffGMnKiqEZ58N5MwZg0aNnHz+eTxr1kC5ci62brXTpUswu3cX/hC0e7dBp04h/PKLg+BgE4cD1q1z0K9fEC1ahDBrlh+nThV8XevW2XnxRXfimTo1ierVNe9HRLxDAUi8IuD9JQR+8C6mzQYffoizYWOrS8q1f/4x6NUriF69gvnnHxtly7qYPj2RL79MoEULF02awIoVCVxxhYs9e2x07hzM1q2F95/Sr7/a6NQpmF27bFSp4mLVqgT27oURI5IJD3dx4ICN554LpFGjUEaNCmDnzoJp6+nTMHhwIC6XQY8eqfTooaUuRMR7Cu9vbfEZ9p1/UWLMSAASRj0BUVEWV5Q7sbHu06yvuSaEb75x4Odn8tBDKaxdG0+vXmnYzvnXUqOGyYoVCdSt6+T4cRu33hrMjz/arSs+l1ascNCtWzAxMTYaNnSycmUCkZEuKlaEJ55IYdOmeKZPT+Sqq5wkJBi89ZY/V18dwt13B/Htt3Zc+XQNQtOEkSMDOXDARrVqLqZMScqfJxKRYksBSPImMZGw/vdhJCSQ0u5aEh95zOqKcszlgnffddCqVQivv+5PaqrB9densXp1PM8+m0xYWNaPq1DB5NNPE7j66jTi4gx69gzis88Kx4mVpglvvOFHv36BJCUZ3HBDGp98kkCFChmHmAIDoVevNL77LoGPP07gpptSMQyTb791cPfdwbRrF8zChX7Ex3u3viVL/PjsMz8cDpM5cxIJDfXu8UVEFIAkT0LHjsGxYxuusuWIfW0u2AtXL8gvv9i48cZgHnkkiOPHbdSs6eK99xJYsiSRmjUvPd8kLAzeey+RLl1SSUkxePDBQBYs8CuAynPP6YSnngrgmWfcK6n37ZvCW29dPGQYBrRt6+Ttt5NYuzaegQNTCA012bnTzujR7uGx8eMDOHAg7/Oh/vrLxtix7qUunnwymcaNtdSFiHifApDkWsAnHxG0eCGmYRD7+jzMChWsLinbDh0yGDQokC5dQti82U6JEibjxyfxww/xXHddzq4xExgIc+cmcf/9KZimwZgxgUye7I/pg/N14+Ohb99A5s1zTyweNy6JyZOTceSg46p6dZPnn09m8+Y4JkxIolo1F6dPG8ye7U/z5iH06xfI2rX2XLU/KQkGDgwkIcEgKiqNhx7SUhcikj8UgCRXbLv+IXTkwwAkPPoYqVHtLa4oe5KSYNo0f9q0CeHjj/0wDJM+fVKIjo5n8ODUXJ9ibbfDlCnJjBqVDMArrwTw2GMBOH3oen3//mvQrVswX37pR0CAybx5iQwZkprrSzSVKAEPPphKdHQ8ixcn0K5dGk6nwfLlftxySzA33BDMhx86SMnBZXteeCGAbdvslC3rYtaspAzzrkREvEm/XiTnkpMJe/B+bHFnSGnVhoTHnrC6oksyTfeE37ZtQ5g0KYCEBIMWLdJYtSqBV15Jpnz5vHfXGAY89lgKL76YhM1msnix/39zbLzQgDzaudN9ptemTXbKlHHx0UeJ3HKLd86qstvhxhudLFuWyPffx9O7dwoBASabN9sZMiSIJk1CePllf44du3jSWrXKzptvuhPozJlJmeYjiYh4kwKQ5FjI+LH4bd2Mq0wZzrwxnxyNn1hg+3Ybd9wRxAMPBLFvn43LL3fx+uuJLF+eSMOG3p9fct99qcybl4S/v8nKlX7cdVcQp097/WmyLTraTufOwezb5z6jauXKBFq2zJ+uqauucjFtWjKbNsXzxBPJVKjg4t9/bUyZEkCTJiE8/HAgv/+e+dfO0aMGDz/sXupi4MAUOnb0oa4zESmSFIAkR/xXfEbwvDkAnJk1B1fFShZXdGEnTsCYMQF06BDMjz86CAgwGTEimTVr4unePS1fV+fo0iWNDz5IpEQJk+hoB7fcEsyRIwV/wcSPP3bQo0cQp04ZNG3qPs29Ro3871kpW9bk0UdT2LAhntdfT6RxYyfJyQbvvedHhw4h3H57ECtXOnA63WfhPfRQIDExNurVczJ2bHK+1yciogAk2Wbbu4cSjwwBIGHIw6R0vNHiirKWlgbz5/vRunUoCxb443IZdOmSyk8/xTNmTAohIQVTx9VXO/n00wTKl3exY4f7qtH//FMwIcg0YcYMfwYNCiIlxd3+jz9OoGzZgh1W8veH7t3T+PLLBD7/PJ7bbkvFbjf5+WcH998fRMuWITz4YCA//ui+AvWbbyYSEFCgJYpIMaUAJNmTkkLYwL7YYk+T2rQ58U8+Y3VFWfrxRzvXXRfME08EcvKkQZ06TpYtS2DBgiSuuKLg55TUq+dixYoEqld3sW+fjS5dgtm0KX//2aWlwWOPBTBhgjtJDBqUwrx5SQQF5evTXpRhQPPmLt58M4lff41n+PBkSpUy2bfPxvLl7ssGTJyYRK1amvcjIgVDAUiyJWTCePw2bsBVshSxby4EP9+61s3evQZ9+wbSvXswO3bYKV3aZPLkJP73vwTatbN2Pkm1au6rRjds6CQmxsbttwfz/ff5c72kuDjo0yeIxYv9sdlMJk1K4rnnkn3qbKpKlUzGjk3ht9/ieOmlJJo2dTJwYAo9e2qpCxEpOL49e1V8gv+qLwh+/VUAzsx4DVeVqhZXdFZ8PMyc6c9rr/mTnGxgt5vcf38qo0YlU7q01dWdVa6cySefJHD//UGsXu2gd+8gXn01iW7dvPef/uHDBr17B/H773aCgtxXUL7pJt+dTBwcDPfem8q99+paPyJS8Hzo70LxRbZDBykxbBAACQ8OIqVTF4srOmvrVhvXXhvCtGkBJCcbtGuXxrffJjBpkm+Fn3ShofDuu4ncfnsqqakGgwYF8eab3ulJ277dxs03B/P77+5r6HzySYJPhx8REaspAMmFpaURNvABbCdPktqwMfHPPG91RYB7gu/bb/vRqVMwe/faqFzZxYIFiXz0USJ16vj2sgn+/vD660n07+++OuDYsYG88ELerhr9/ffuCdaHDtmoVcvJF18k0KSJb78OIiJWUwCSCwqeOhG/ddG4Qku45/34wOk58fEwZEggjz0WSHKywU03pfLtt/F06ZK/p7V7k80GEyYk89RT7tO9Z84M4JFHAknLxWjYe+856NUriLg4g9at0/j88wRLJnuLiBQ2uQpAa9eu9VoBS5YsoUOHDtSvX58ePXqwZcuWC+6bmprKrFmz6NixI/Xr1+eWW25h9erVeTqmZM3vu/8RPONlAOKmvYqreg2LK3IvknnTTcF89JEfdrvJM88ksWhREqVKWV1ZzhkGPPxwCtOmua8a/d57ftx/fxAJCdl7vGnClCn+PPxwEGlpBt26pbJ0aaJPDv2JiPiiXAWg/v3707FjR1577TUOHz6c6ydfuXIlkyZNYsiQIXzyySfUrl2bfv36ERMTk+X+06dP54MPPuDpp59m5cqV3H333QwdOpTt27fn+piSme3oEcKGPIhhmiTe+wDJt3azuiSWLXNwww3B/PmnnQoVXHz8cSJDh+Z+HStf0bt3Km+9lUhgoMmqVQ7uvDOIkycv/piUFBg2LJCXX3b3yD3ySDKvvZbkCx10IiKFRq4C0OrVq+nTpw9fffUVHTt2pF+/fqxcuZKUnKx6CCxcuJA777yT7t27U6tWLcaPH09gYCDLli3Lcv9PP/2UQYMGERUVRZUqVejVqxdRUVEsWLAg18eU8zidlBjcH9vx46RdVY+45ydZWk5SEjz+eACDBweRkOCe6Py//yXQunXRmeB7001Oli5NpGRJk19+cXDrrcEcOpR1sjt9Gnr2DGLpUncv2MsvJ/Hkkyk+dZq7iEhhkKvT4MuUKcP999/P/fffz7Zt2/j4448ZP34848ePp2vXrtxxxx3Url37osdISUlh27ZtDBw40LPNZrPRpk0bNm3alOVjUlNT8T9vue6AgAA2btyY62NeTH70LqQf01d7LoKmv4j/T6sxg0M4M+8tjOCcXT3Pm+3bs8egX78gtmyxYxgmI0ak8PjjKdjz5xI62ZJf71/r1k6WL0/gzjuD+OMP99pdS5cmEhFxdjLz/v0GvXq57w8JMZk/P5HrrvN+EPT1z2heqX2FX1Fvo9qX92NnR56vA1S3bl3Kli1LqVKlePPNN1m2bBnvvvsujRo1Yvz48Vx55ZVZPu7kyZM4nU7Cw8MzbA8PD2fXrl1ZPqZt27a89dZbNG/enKpVqxIdHc3XX3+N0+nM9TEvJjy8RI4f4wvHzrXvv4cXJwNgvPE6pVs3zfWh8tq+zz6De+9193iEh8M77xjcdFMA4BvjPPnx/rVrB2vXwo03wp9/2ujaNYSVK6FlS9i4ETp3hiNHoGJF+Pxzg0aNgr1ew7l88jPqRWpf4VfU26j25a9cB6DU1FT+97//sWzZMtasWUO9evV45pln6Ny5MydOnGD69Ok8/PDDrFy50mvFPvXUU4wdO5abb74ZwzCoUqUK3bp1y7fhrZiYM3k6PTkrhuF+0/Pj2HlhHDtGqbt7Yne5SOrZh7ibb4PjZ3J+nDy2LzUVJk4MYNYsd09f8+ZO5s5NpFIlk+PHc348b8vv9y8kBD791N3Ts3GjnQ4dTIYNS+HVV/1JSHAv7fHee/n7evjqZ9Rb1L7Cr6i3Ue3L+7GzI1cB6Pnnn2fFihUA3HLLLTz++ONERER47g8ODmb06NG0a9fugscoXbo0drs90+TkmJgYypYtm+VjypQpw2uvvUZycjKnTp2ifPnyvPTSS1SpUiXXx7wY0yTfPnz5eewcc7kIGzIA+9EjpEVEcmbii5DH2nLTvsOHDQYMCGTdOvfHcuDAFJ5+Ohl/fx96rf6Tn+9fmTImy5Yl0K9fEN9+62DKFHev1zXXpLFgQSJhYQXzevjUZzQfqH2FX1Fvo9qXv3I1dfLvv//m6aef5scff+Spp57KEH7SlS5dmrfffvuCx/D396du3bpER0d7trlcLqKjo2ncuPFFnz8gIIAKFSqQlpbGqlWruO666/J8zOIsaNYM/L/7H2ZQELFzF1Fgy6Wf44cf3IuYrlvnoEQJ9/yW5593h5/iKCQEFi9O5M473ctE9OqVwnvvucOPiIjkXa56gBYtWnTpAzsctGjR4qL79O3bl9GjR1OvXj0aNGjAokWLSExMpFs392nXo0aNokKFCowcORKAzZs3c/ToUerUqcPRo0d59dVXcblc9O/fP9vHlIwc69YSMuk5AOImvoizzlUF+vwuF7zyij8vvuiPaRrUretk/vxEatQown/2ZJOfH8yalcRzzyVRpozV1YiIFC25CkBz5swhPDycO+64I8P2jz76iBMnTjBgwIBsHadTp06cOHGCmTNncuzYMerUqcO8efM8w1WHDx/Gds75vcnJyUyfPp39+/cTHBxMVFQUU6dOJeycP4svdUw5yzgRQ9igBzCcTpK69SCp1z0F+vzHjxs89FAg33/v/hj26ZPChAnJBOXsxLMiT+FHRMT7DNPM+Qhchw4deOmll2jSpEmG7Zs3b+bRRx/l22+/9VqBVjp+PH8maJUtWyJfjp0jpknYvXcT8NUXpNWoyalvVmOG5n1Gfnbb98svNh58MIjDh20EBZlMmZLE3Xd7b2X0/OIz718+KuptVPsKv6LeRrUv78fOjlzNATp27BjlypXLtL1MmTIcO3YsN4eUAhY0ZzYBX32BGRBA7NxFXgk/2WGa8Prrftx2WzCHD59dvLMwhB8RESk6chWALr/8cs/FB8+1YcMGypcvn+eiJH85Nv5KyPPjAIgbPxFn/QYF8rynT0PfvoGMGxdIWprBbbelsmpVAlddpZXLRUSkYOVqDlCPHj2YOHEiaWlptGrVCoDo6GhefPFFHnjgAa8WKN5lnD5F2IAHMFJTSe56G0l9+1/6QV6wdauNBx4IYu9eG35+Js89l8wDDxT+tbxERKRwylUA6t+/P6dOnWL8+PGkprpP0w0ICKB///4ZlqEQH2OalHh0GPZ9e3BWrcaZV2bm+7XWTRPeecePJ58MIDnZoEoVF/PmJdK4sXp9RETEOrkKQIZh8Pjjj/PQQw/xzz//EBgYSLVq1TKt0yW+JXDhPAJWfIrp50fs3IWYJUvl6/PFx8OoUYF8+KEfADfckMarryZSunS+Pq2IiMgl5WktsJCQEBo0KJj5I5I39q1bCH3mCQDinx5PWuPcr/OVHTt32njggUD++MOO3W7yxBMpDB2qVctFRMQ35DoAbd26lS+++ILDhw97hsHSzZo1K8+FifcYcWcIe/A+jJQUkm/qROLAIfn6fO+9B/37B5OQYFChgos330yidWvvr1ouIiKSW7kKQJ9//jmjR4+mbdu2/PTTT7Rt25bdu3cTExPD9ddf7+0aJS9Mk9DHHsax6x+clSpzZsZrF5z3k5YGSUmQkGCQlARJSQaJiZCY6L6d/j3958RE9z7n3j561MaqVQAG7dql8frrSZQvXwQvZCEiIoVargLQG2+8wRNPPEHv3r1p3LgxTz31FJUrV+aZZ57J8vpAYo3UVHjlvp0c/KYbifThdLm2JN5b0hNszg84aWnemxA9YkQyjz+egt3utUOKiIh4Ta4C0P79+4mKigLcC5AmJCRgGAb3338/9913H8OHD/dqkZI7Xyw+zcvfNAX+m+/zW/YfGxhoEhTk/h4YCEFBZ29faHv67ZtuCqRWrZQieQVTEREpGnIVgMLCwoiPjwegfPny7Ny5k8jISGJjY0lMTPRqgZJ7a5afBipzQ+jP3DCuMYFBBkFB7pASGHg2zKTfTv8eEECuJyu7L0MeyPHjXm2KiIiIV+UqADVv3pw1a9YQGRnJTTfdxIQJE1i7di1r1qyhdevW3q5RcmnN9nAA+rbYzHX36Ww9ERGRdLkKQE8//TTJyckADB48GD8/PzZu3MgNN9zA4MGDvVqg5M6xYwZ/nLwMgFZtLC5GRETEx+Q4AKWlpfH999/Ttm1bAGw2GwMGDPB6YZI3a9e6Zx/XYyulGlcl9RL7i4iIFCc5nunhcDgYN26cpwdIfNOaH93fo/gBZ0SktcWIiIj4mFxNdW3QoAE7duzwdi3iRWt/dK+11S5oPa7yFSyuRkRExLfkag5Qz549mTx5MkeOHKFu3boEBQVluL927dpeKU5y5+RJ2L4rGICrrzya7wueioiIFDa5CkAjRowA4IUXXvBsMwwD0zQxDEO9QxZbu9aBaRrUZgfhdcsRZ3VBIiIiPiZXAeh///uft+sQL1qzxj0BOoofcF6p+T8iIiLny1UAqlSpkrfrEC+Kjj4nAEXcbnE1IiIividXAej//u//Lnr/bbfdlpvDihfExsLvv7vntkfxA2lXjrG4IhEREd+TqwA0YcKEDLfT0tJITEzEz8+PoKAgBSALrVtnx+UyqMVOLg84wfGqV1hdkoiIiM/JVQBav359pm179uzh2WefpV+/fnkuSnJvzRr3WxrFDzhrXomWYxcREcksl0teZlatWjVGjhyZqXdICta583/SIiIsrkZERMQ3eS0Agfsq0f/++683Dyk5EBcHmzefnf+jM8BERESy5pXT4E3T5NixYyxZsoQmTZp4pTDJuV9+seN0GlTzP0TVlP3EagkMERGRLOUqAA0ZMiTDbcMwKFOmDK1atWL06NFeKUxyLn346xrzewDS1AMkIiKSpVwFoD/++MPbdYgXpE+Avjb1a0ybDWfNWhZXJCIi4pu8OgdIrJOQAL/9ds78nyuqQUCAtUWJiIj4qFwFoGHDhvHmm29m2j537lyGDx+e56Ik53791U5qqkGlkmeozm6cmv8jIiJyQbkKQOvXrycqKirT9muuuYZff/01z0VJzqWv/9Wu7DYM0BlgIiIiF5GrAJSQkICfn1+m7Q6Hg7g4rT1uBc8EaONHANLUAyQiInJBuQpAERERrFy5MtP2lStXUquWJt4WtKQk2LjRHYCuPfl/ADiv1EUQRURELiRXZ4E99NBDDBs2jP3799OqVSsAoqOj+fzzz5kxY4ZXC5RL27jRTnKyQflyTmofWwMoAImIiFxMrgJQhw4dmD17Nm+88QZfffUVAQEBREZGsnDhQlq0aOHtGuUS0uf/XF3nOMYxcF5eETOspMVViYiI+K5cBSCAa6+9lmuvvdaLpUhupc//aVvhT0AToEVERC4lV3OAtmzZwubNmzNt37x5M1u3bs1zUZJ9KSnuU+ABouw/AWgRVBERkUvIVQB67rnnOHz4cKbtR48e5bnnnstzUZJ9mzbZSUw0CA93Uff4akA9QCIiIpeSqwD0zz//ULdu3Uzb69Spw99//53noiT70oe/WrVy4rfzvyEwnQIvIiJyUbkKQP7+/hw/fjzT9mPHjuFw5HpakeRC+gToNs2TsO3bC2gRVBERkUvJVQC6+uqreeWVVzhz5oxnW2xsLNOmTaNNmzZeK04uLjUVfvnlvwnQlf7BME1cpUphlitncWUiIiK+LVfdNaNHj6Z37960b9+eOnXqAO4V4sPDw5k6dapXC5QL27LFRkKCQalSJg3SNgH/zf8xDIsrExER8W25CkAVKlTgs88+Y/ny5fzxxx8EBgbSvXt3OnfunOUSGZI/1qxxv32tWqXh97d7/o+WwBAREbm0XE/YCQ4OpmnTplx++eWkpqYCsHq1+yyk6667zjvVyUWlT4Bu3dqJfcNfgM4AExERyY5cBaD9+/czZMgQ/vrrLwzDwDRNjHOGXXbs2OG1AiVrTiesW/ffBOg2Thzvp58BpmsAiYiIXEquJkFPmDCBypUrs2bNGgIDA1mxYgWLFy+mXr16LF682Ns1ShZ+/93GmTMGJUqY1Kudgv0f9+UHdAaYiIjIpeUqAG3atInhw4dTpkwZbDYbNpuNZs2aMWLECF544QVv1yhZSD/9vWVLJ/4H92CkpGAGBeGqUtXiykRERHxfrgKQy+UiJCQEgNKlS/Pvv/8CUKlSJXbv3u296uSCMsz/+cs9/yet5pVgy9VbKiIiUqzkag7QlVdeyZ9//kmVKlVo2LAh8+bNw8/Pj6VLl1KlShVv1yjncblg7Vr3W9emTRr2nzX/R0REJCdy1V0wePBgXC4XAMOHD+fAgQP07t2bH374gaeeesqrBUpm27fbOHXKIDjYpEEDF46dWgVeREQkJ3LVA9SuXTvPz1dccQVffvklp06domTJkhnOBpP8kT781aKFEz8/sO/UNYBERERywmsLd5UqVcpbh5JL8Kz/1cYJpumZA6QeIBERkezRjNlCxjRh7dqzE6BtRw5jizuDabfjrFHT4upEREQKBwWgQubPP23ExNgICjJp3NiJ/a//5v9Uqw7+/hZXJyIiUjgoABUy6fN/mjVz4u9/dv6Phr9ERESyTwGokDn3+j8AjvQeIE2AFhERyTYFoELENM+bAA3Yd/53EcQrdQ0gERGR7FIAKkR27TL4918bAQEmTZqoB0hERCS3FIAKkTVr3FctaNLESWAgGKdOYjvmXobEqR4gERGRbFMAKkTSh7/S5/94rv9TsRJmaAnL6hIRESlsFIAKCdM8OwE6ff7P2SUw1PsjIiKSEwpAhcTevQaHDtnw8zNp1iy9B0hLYIiIiOSG5QFoyZIldOjQgfr169OjRw+2bNly0f3feustbrzxRho0aEBUVBQTJ04kOTnZc/+rr75KZGRkhq+bbropv5uR79J7fxo1chEc7N6mawCJiIjkjtfWAsuNlStXMmnSJMaPH0/Dhg1ZtGgR/fr148svvyQ8PDzT/suXL+fll19m4sSJNG7cmD179jBmzBgMw+CJJ57w7HfllVeycOFCz2273V4g7clP6ROg27RJ82xzpM8BUg+QiIhIjljaA7Rw4ULuvPNOunfvTq1atRg/fjyBgYEsW7Ysy/03bdpEkyZN6Nq1K5UrV6Zt27Z06dIlU6+R3W6nXLlynq8yZcoURHPy1fkXQCQxEdv+vQCkqQdIREQkRywLQCkpKWzbto02bdqcLcZmo02bNmzatCnLxzRu3Jht27Z5As/+/fv54YcfiIqKyrDf3r17adu2Lddddx0jR47k0KFD+deQAnDggMG+fTbsdpMWLf6b//P3TgzTxFW6NGbZshZXKCIiUrhYNgR28uRJnE5npqGu8PBwdu3aleVjunbtysmTJ+nVqxemaZKWlsbdd9/NoEGDPPs0aNCASZMmUb16dY4dO8bs2bPp3bs3y5cvJzQ0NEc1GkbO25XdY+bk2Om9Pw0buijx39nujr/Pzv8xbPlQaC7lpn2FSVFvHxT9Nqp9hV9Rb6Pal/djZ4elc4Byat26dcyZM4dx48bRoEED9u3bx4QJE5g9ezZDhgwByNAbVLt2bRo2bEj79u354osv6NGjR46eLzw8/66tk5Njb9zo/n7ddXbKlv3vcQf2AODXoN7ZbT4kP187X1DU2wdFv41qX+FX1Nuo9uUvywJQ6dKlsdvtxMTEZNgeExND2QsM6cyYMYNbbrnFE2QiIyNJSEjgmWeeYfDgwdhsmUf0wsLCqFatGvv27ctxjTExZzDNHD/sogzD/abn5NjffhsC2GjUKIHjx91DYCV+20oAEFe1BknHz3i3yDzITfsKk6LePij6bVT7Cr+i3ka1L+/Hzg7LApC/vz9169YlOjqajh07AuByuYiOjqZPnz5ZPiYpKSlTyEk/w8u8wKsYHx/P/v37KVeuXI5rNE3y7cOX3WMfOWKwe7cNm82kZUun5zH2cy6C6Iv/QPLztfMFRb19UPTbqPYVfkW9jWpf/rJ0CKxv376MHj2aevXq0aBBAxYtWkRiYiLdunUDYNSoUVSoUIGRI0cC0L59exYuXMhVV13lGQKbMWMG7du39wShKVOm0L59eypWrMi///7Lq6++is1mo0uXLpa1My/Sl7+oV89FWNh/G9PSsP/zt/tHnQEmIiKSY5YGoE6dOnHixAlmzpzJsWPHqFOnDvPmzfMMgR0+fDhDj8/gwYMxDIPp06dz9OhRypQpQ/v27Xn00Uc9+xw5coQRI0Zw6tQpypQpQ9OmTVm6dGmhPRX+/PW/AOx7d2OkpmIGB+OqXMWq0kRERAotyydB9+nT54JDXosXL85w2+FwMHToUIYOHXrB402bNs2r9Vnt/PW/4OwiqGk1r4Qs5j2JiIjIxel/Tx/2778GO3faMQyTVq3OXgHarkVQRURE8kQByIetXevu/alTx0Xp0me3O/78A9ASGCIiIrmlAOTD0uf/nDv8BWd7gDQBWkREJHcUgHxYpvW/AEwT+86dgHqAREREcksByEfFxBjs2OEOQK1anQ1AtkMHscXHYTocOKvXsKo8ERGRQk0ByEelz/+JiHBSrtzZK0XZ//pvAnT1GuDvb0ltIiIihZ0CkI/KcvgLcOw8uwiqiIiI5I4CkI+64ATo9GsAaf6PiIhIrikA+aBTp2DbNvdbc6EzwHQNIBERkdxTAPJB69bZMU2DGjVcVKiQcaU4zxCYeoBERERyTQHIB61Z416hpE2btAzbjRMx2I4fByCtlnqAREREcksByAddaAJ0+vwfZ+UqEBJS4HWJiIgUFQpAPubMGdiyJev5Pw7N/xEREfEKBSAf88svdlwug6pVXVSqlHH+T/o1gHQGmIiISN4oAPmYC53+DroGkIiIiLcoAPmYC02ABrDv/G8OkHqARERE8kQByIfEx8Pmze635PwJ0MTHY9+/D9Aq8CIiInmlAORD1q+3k5ZmUKmSi6pVz7v+zz/uFeBd4eGY4eFWlCciIlJkKAD5kHNPfzeMjPd5JkCr90dERCTPFIB8yMUmQNs1AVpERMRrFIB8RGIibNqUHoAyT4B2pF8EMULXABIREckrBSAfsXGjnZQUgwoVXFSvbma6P70HSENgIiIieacA5CPOHf46f/4PqanYd/0D6BR4ERERb1AA8hEXWv8LwL5nN0ZaGmZwCK5KlQu6NBERkSJHAcgHJCfDr79eZAK05wywCDJ3D4mIiEhOKQD5gE2b7CQlGZQt6+LKK12Z7tciqCIiIt6lAOQDLnb9HzjbA6T5PyIiIt6hAOQDLnb9Hzi7BpjOABMREfEOBSCLpaa6l8CArCdA43Lh0CKoIiIiXqUAZLHNm20kJBiULm1Su3bm+T+2QwcxEuIxHQ6c1apbUKGIiEjRowBksTVrHAC0apWGLYt3wzP/p0ZN8PMryNJERESKLAUgi6VPgL7Q/B+H1gATERHxOgUgC6Wlwbp1l5gA/d8aYGlaA0xERMRrFIAs9PvvNuLiDMLCTK66KvP8H9Aq8CIiIvlBAchC6ae/t2rlxG7Peh/PEJjOABMREfEaBSALRUe7J0C3bp2W5f1GTAy2mBgA0mpeWWB1iYiIFHUKQBZxOmHt2mxOgK5SFUJCCqw2ERGRok4ByCLbt9s4fdogNNSkfv0LzP/5S2uAiYiI5AcFIIukz/9p0cKJw5H1PukToLUEhoiIiHcpAFnkUtf/AXBoEVQREZF8oQBkAZfr3BXgs54ADWeHwNQDJCIi4l0KQBbYvh1OnLARFGTSsGHW83+Ii8N+8AAATl0EUURExKsUgCzwww/u782aOfH3z3ofx9/uK0C7ypbFLBNeQJWJiIgUDwpAFkgPQBeb/6PhLxERkfyjAFTATDN7Acix090DpCUwREREvE8BqID9/beNf/+FgACTxo0v3QOk+T8iIiLepwBUwNKv/9O0qZPAwAvvp2sAiYiI5B8FoAKWHoAuNvxFSgr23bsAXQNIREQkPygAFSDTzF4Asu/eheF04goJxVWxUkGVJyIiUmwoABWg3bsNjhyx4efnHgK7kAzzfwyjoMoTEREpNhSACtAvv6Sv/wXBwRfez7MKvOb/iIiI5AsFoAJUs6aLsmVdDBhw8f081wDS/B8REZF8cYF1yCU/NG/uYseOeMqWLcHx4xfez65rAImIiOQr9QD5GpfLswyGrgEkIiKSPxSAfIztwH6MxERMf3+cV1S3uhwREZEiSQHIx3gmQNeoCQ6NUIqIiOQHBSAfY/9L839ERETymwKQjzm7BIbm/4iIiOQXBSAf4/BcBFE9QCIiIvlFAciXmKYWQRURESkACkA+xDh+HNvJk5iGgbPWlVaXIyIiUmQpAPmQ9DPAXFWugKAgi6sREREpuhSAfMjZJTA0AVpERCQ/WR6AlixZQocOHahfvz49evRgy5YtF93/rbfe4sYbb6RBgwZERUUxceJEkpOT83RMX2HXIqgiIiIFwtIAtHLlSiZNmsSQIUP45JNPqF27Nv369SMmJibL/ZcvX87LL7/M0KFDWblyJRMmTGDlypW88soruT6mL9EZYCIiIgXD0gC0cOFC7rzzTrp3706tWrUYP348gYGBLFu2LMv9N23aRJMmTejatSuVK1embdu2dOnSJUMPT06P6UvSF0HVGWAiIiL5y7K1FlJSUti2bRsDBw70bLPZbLRp04ZNmzZl+ZjGjRvz2WefsWXLFho0aMD+/fv54YcfuPXWW3N9zIsxjBw/JNvHPP/YRtwZ7IcOAuCKjMiX5y4IF2pfUVHU2wdFv41qX+FX1Nuo9uX92NlhWQA6efIkTqeT8PDwDNvDw8PZtWtXlo/p2rUrJ0+epFevXpimSVpaGnfffTeDBg3K9TEvJjy8RI4fk+tj7/7D/b1CBcJrVc235y0o+fna+YKi3j4o+m1U+wq/ot5GtS9/FarVNtetW8ecOXMYN24cDRo0YN++fUyYMIHZs2czZMgQrz9fTMwZTNO7xzQM95t+/rEDftlICSClVgSxx89490kL0IXaV1QU9fZB0W+j2lf4FfU2qn15P3Z2WBaASpcujd1uzzQ5OSYmhrJly2b5mBkzZnDLLbfQo0cPACIjI0lISOCZZ55h8ODBuTrmxZgm+fbhO//YZxdBjSgSH/j8fO18QVFvHxT9Nqp9hV9Rb6Pal78smwTt7+9P3bp1iY6O9mxzuVxER0fTuHHjLB+TlJSEzZaxZLvdDoBpmrk6pq84ew0gTYAWERHJb5YOgfXt25fRo0dTr149GjRowKJFi0hMTKRbt24AjBo1igoVKjBy5EgA2rdvz8KFC7nqqqs8Q2AzZsygffv2niB0qWP6Kl0DSEREpOBYGoA6derEiRMnmDlzJseOHaNOnTrMmzfPM1x1+PDhDD0+gwcPxjAMpk+fztGjRylTpgzt27fn0UcfzfYxfVJKCvY9uwFdA0hERKQgGKZZlEcY8+b48fyZoFW2bIkMx7b/sYMy17TEFVqCmH8OFOpzH7NqX1FS1NsHRb+Nal/hV9TbqPbl/djZYflSGHLO8FdERKEOPyIiIoWFApAP8CyBofk/IiIiBUIByAek9wBpCQwREZGCoQDkAzzXANIEaBERkQKhAGQ1pxPH3+kBKMLiYkRERIoHBSCL2fbvw0hKwvT3x1m1mtXliIiIFAsKQBZzpJ8BVrMWOArV0mwiIiKFlgKQxdLn/2gCtIiISMFRALLY2SUwNP9HRESkoCgAWcxzDSCdASYiIlJgFICsZJrYd2oITEREpKApAFnI+PdfbKdPYRqGexK0iIiIFAgFIAulnwHmqnoFBAVZXI2IiEjxoQBkIft/83/SNP9HRESkQCkAWchzDSDN/xERESlQCkAW0hpgIiIi1lAAstDZVeB1DSAREZGCpABkESP2NPYjhwH1AImIiBQ0BSCLpF//x1nhMsySpawtRkREpJhRALKI5v+IiIhYRwHIIloDTERExDoKQBbxXANIp8CLiIgUOAUgi2gRVBEREesoAFkhKQnb3j2AApCIiIgVFICssHMnhsuFK6wkrvIVrK5GRESk2FEAssKOHcB/E6ANw+JiREREih8FICv8F4C0CKqIiIg1FICs4OkBUgASERGxggKQFdIDUISuASQiImIFBaCC5nTCn7oGkIiIiJUUgAqYbd9eSE7GDAjAVfUKq8sREREplhSACphnCYxaV4LdbnE1IiIixZMCUAFzpC+CqjXARERELKMAVMA8a4DpFHgRERHLKAAVsLOrwCsAiYiIWEUBqCCZJvb0ITD1AImIiFhGAagA2f49ii32NNhsOGvWsrocERGRYksBqAClz/+hRg0ICLC2GBERkWJMAagA2f/52/1DnTrWFiIiIlLMKQAVoLRGjXFWqw733Wd1KSIiIsWaw+oCipO0Rk04uX4zZcuWgONnrC5HRESk2FIPkIiIiBQ7CkAiIiJS7CgAiYiISLGjACQiIiLFjgKQiIiIFDsKQCIiIlLsKACJiIhIsaMAJCIiIsWOApCIiIgUOwpAIiIiUuwoAImIiEixowAkIiIixY4CkIiIiBQ7CkAiIiJS7DisLsCXGUb+HTM/ju0L1L7Cr6i3Ue0r/Ip6G9W+vB87W/uapml6vwQRERER36UhMBERESl2FIBERESk2FEAEhERkWJHAUhERESKHQUgERERKXYUgERERKTYUQASERGRYkcBSERERIodBSAREREpdhSAREREpNhRACpAS5YsoUOHDtSvX58ePXqwZcsWq0vymjlz5tC9e3caN25M69ateeihh9i1a5fVZeWbN998k8jISCZMmGB1KV5z9OhRHnvsMVq2bEmDBg3o2rUrW7dutbosr3E6nUyfPp0OHTrQoEEDOnbsyOzZsymsqwGtX7+eQYMG0bZtWyIjI/nmm28y3G+aJjNmzKBt27Y0aNCA+++/nz179lhTbC5drI2pqam8+OKLdO3alUaNGtG2bVtGjRrF0aNHLaw4Zy71Hp7rmWeeITIykrfeeqvgCsyj7LTvn3/+YdCgQTRt2pRGjRrRvXt3Dh06VCD1KQAVkJUrVzJp0iSGDBnCJ598Qu3atenXrx8xMTFWl+YVv/zyC71792bp0qUsXLiQtLQ0+vXrR0JCgtWled2WLVt4//33iYyMtLoUrzl9+jQ9e/bEz8+PuXPn8vnnnzN69GhKlixpdWleM3fuXN577z2eeeYZVq5cyWOPPca8efNYvHix1aXlSkJCApGRkYwbNy7L++fOncvixYt59tlnWbp0KUFBQfTr14/k5OQCrjT3LtbGpKQktm/fzuDBg/n444+ZNWsWu3fvZvDgwRZUmjuXeg/Tff3112zevJny5csXUGXecan27du3j169elGjRg0WL17MZ599xkMPPURAQEDBFGhKgbjjjjvM8ePHe247nU6zbdu25pw5cyysKv/ExMSYERER5i+//GJ1KV4VFxdn3nDDDebPP/9s9unTx3zhhResLskrXnzxRbNnz55Wl5GvBgwYYD7xxBMZtg0dOtQcOXKkRRV5T0REhPn11197brtcLvPqq682582b59kWGxtr1qtXz1yxYoUVJebZ+W3MyubNm82IiAjz4MGDBVSV91yofUeOHDHbtWtn/vXXX2b79u3NhQsXFnxxXpBV+x555BHzscces6gi01QPUAFISUlh27ZttGnTxrPNZrPRpk0bNm3aZGFl+efMmTMARaoHAeC5554jKioqw3tZFHz77bfUq1eP4cOH07p1a2677TaWLl1qdVle1bhxY9auXcvu3bsB+OOPP9iwYQPXXHONxZV534EDBzh27FiGz2mJEiVo2LBhkf2dAxAXF4dhGISFhVldile4XC4ef/xx+vXrx5VXXml1OV7lcrn4/vvvqVatGv369aN169b06NHjosOA3qYAVABOnjyJ0+kkPDw8w/bw8HCOHz9uUVX5x+VyMXHiRJo0aUJERITV5XjN559/zvbt2xk5cqTVpXjd/v37ee+996hWrRrz58+nZ8+evPDCC3zyySdWl+Y1AwYMoFOnTtx8883UrVuX2267jfvuu49bbrnF6tK87tixYwDF5ncOQHJyMi+99BKdO3cmNDTU6nK8Yu7cuTgcDu69916rS/G6mJgYEhISmDt3Lu3atWPBggVcf/31DB06lF9++aVAanAUyLNIsTJ+/Hh27tzJu+++a3UpXnP48GEmTJjAggULCm58ugCZpkm9evUYMWIEAFdddRU7d+7k/fff5/bbb7e4Ou/44osvWL58OS+//DK1atVix44dTJo0ifLlyxeZNhZXqampPPzww5imyfjx460uxyt+//133n77bT7++GMMw7C6HK9zuVwAXHfdddx///0A1KlTh40bN/L+++/TokWLfK9BAagAlC5dGrvdnmnCc0xMDGXLlrWoqvzx3HPP8f333/POO+9w2WWXWV2O12zbto2YmBi6devm2eZ0Olm/fj1Llixh69at2O12CyvMm3LlylGzZs0M22rUqMFXX31lUUXeN3XqVAYMGEDnzp0BiIyM5NChQ8yZM6fIBaBy5coB7t8x506cjYmJoXbt2laVlS9SU1N55JFHOHToEIsWLSoyvT+//vorMTExtG/f3rPN6XQyZcoU3n77bb799lsLq8u70qVL43A4Mv3eqVmzJhs2bCiQGhSACoC/vz9169YlOjqajh07Au70Gx0dTZ8+fSyuzjtM0+T555/n66+/ZvHixVSpUsXqkryqVatWLF++PMO2J554gho1avDggw8W6vAD0KRJE8/cmHR79uyhUqVKFlXkfUlJSZn+krbb7YX2NPiLqVy5MuXKlSM6Opo6deoA7vkxmzdvpmfPnhZX5z3p4Wfv3r28/fbblC5d2uqSvObWW2/NNNewX79+3HrrrRn+ECus/P39qV+/vqW/dxSACkjfvn0ZPXo09erVo0GDBixatIjExMQi8UEG97DXihUreO211wgJCfHMQShRogSBgYEWV5d3oaGhmeYzBQcHU6pUqSIxz+m+++6jZ8+evPHGG9x8881s2bKFpUuX8txzz1ldmte0b9+eN954g4oVK3qGwBYuXEj37t2tLi1X4uPj2bdvn+f2gQMH2LFjByVLlqRixYrce++9vP7661xxxRVUrlyZGTNmUL58ec8fYYXBxdpYrlw5hg8fzvbt25kzZw5Op9Pze6dkyZL4+/tbVXa2Xeo9PD/Q+fn5UbZsWWrUqFHQpebKpdrXr18/Hn30UZo3b07Lli358ccf+e6773j77bcLpD7DLIp//viod955h/nz53Ps2DHq1KnD2LFjadiwodVlecWFrokzadKkIhPyznfPPfdQu3ZtnnrqKatL8YrvvvuOV155hT179lC5cmX69u3LnXfeaXVZXhMXF8eMGTP45ptvPENDnTt3ZsiQIYXiP8vzrVu3LsvJsbfffjuTJ0/GNE1mzpzJ0qVLiY2NpWnTpowbN47q1atbUG3uXKyNQ4cO5brrrsvycW+//TYtW7bM7/Ly7FLv4fk6dOjAvffe65kz4+uy076PPvqIN998kyNHjlC9enWGDRtWYCFdAUhERESKHZ0GLyIiIsWOApCIiIgUOwpAIiIiUuwoAImIiEixowAkIiIixY4CkIiIiBQ7CkAiIiJS7CgAiYhkw7p164iMjCQ2NtbqUkTECxSAREREpNhRABIREZFiRwFIRAoFl8vFnDlz6NChAw0aNOCWW27hyy+/BM4OT33//fd07dqV+vXrc+edd/LXX39lOMZXX31F586dqVevHh06dGDBggUZ7k9JSeHFF18kKiqKevXqcf311/Phhx9m2Gfbtm1069aNhg0bcvfdd7Nr1678bbiI5AutBi8ihcKcOXP47LPPGD9+PNWqVWP9+vU8/vjjlClTxrPP1KlTeeqppyhbtizTpk1j0KBBfPXVV/j5+fH777/zyCOPMHToUDp16sSmTZsYP348pUqV8izYO2rUKH777TfGjh1L7dq1OXDgACdPnsxQx7Rp0xgzZgxlypRh3LhxPPnkk7z//vsF+lqISN4pAImIz0tJSWHOnDksXLiQxo0bA1ClShU2bNjABx984Fm1fujQoVx99dUATJ48maioKL7++ms6derEwoULad26NUOGDAGgevXq/P3338yfP59u3bqxe/duvvjiCxYuXEibNm08z3G+Rx99lBYtWgAwYMAABgwYQHJyMgEBAfn+OoiI9ygAiYjP27t3L4mJiTzwwAMZtqemplKnTh3P7UaNGnl+LlWqFNWrV/cMUe3atYvrrrsuw+ObNGnC22+/jdPpZMeOHdjtdpo3b37RWiIjIz0/lytXDoCYmBgqVqyYq7aJiDUUgETE5yUkJADuYbAKFSpkuM/f3599+/bl+TkCAwOztZ/DcfbXpmEYgHt+kogULpoELSI+r2bNmvj7+3Po0CGuuOKKDF+XX365Z7/ffvvN8/Pp06fZs2cPNWrUAKBGjRps3Lgxw3E3btxItWrVsNvtRERE4HK5WL9+fYG0SUSspR4gEfF5oaGhPPDAA0yaNAnTNGnatClnzpxh48aNhIaGeoafXnvtNUqXLk14eDjTpk2jdOnSdOzYEYAHHniAO+64g9mzZ9OpUyd+++03lixZwrhx4wCoXLkyt99+O08++SRjx44lMjKSQ4cOERMTQ6dOnSxru4jkDwUgESkUHnnkEcqUKcOcOXM4cOAAJUqU4KqrrmLQoEGeIaiRI0cyYcIE9uzZQ506dXj99dfx9/cHoG7dukyfPp2ZM2fy+uuvU65cOYYPH+45Awzg2Wef5ZVXXuHZZ5/l1KlTVKxYkYEDB1rSXhHJX4ZpmqbVRYiI5MW6deu49957Wb9+PWFhYVaXIyKFgOYAiYiISLGjACQiIiLFjobAREREpNhRD5CIiIgUOwpAIiIiUuwoAImIiEixowAkIiIixY4CkIiIiBQ7CkAiIiJS7CgAiYiISLGjACQiIiLFjgKQiIiIFDv/D3MealxfqR/UAAAAAElFTkSuQmCC\n"
          },
          "metadata": {}
        },
        {
          "output_type": "display_data",
          "data": {
            "text/plain": [
              "<Figure size 640x480 with 1 Axes>"
            ],
            "image/png": "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\n"
          },
          "metadata": {}
        }
      ]
    },
    {
      "cell_type": "markdown",
      "source": [
        "## Evaluation"
      ],
      "metadata": {
        "id": "BGq-600S7k8H"
      }
    },
    {
      "cell_type": "code",
      "source": [
        "validation_generator.reset()\n",
        "\n",
        "# Prediksi probabilitas kelas\n",
        "pred_probs = model.predict(validation_generator, verbose=1)\n",
        "\n",
        "# Mengambil prediksi label (kelas dengan probabilitas tertinggi)\n",
        "pred_classes = np.argmax(pred_probs, axis=1)\n",
        "\n",
        "# Label aktual dari generator\n",
        "true_classes = validation_generator.classes\n",
        "\n",
        "# Nama kelas dari generator\n",
        "class_labels = list(validation_generator.class_indices.keys())\n",
        "\n",
        "# Confusion Matrix\n",
        "cm = confusion_matrix(true_classes, pred_classes)\n",
        "\n",
        "# Visualisasi Confusion Matrix\n",
        "plt.figure(figsize=(8,6))\n",
        "sns.heatmap(cm, annot=True, fmt=\"d\", cmap=\"Blues\",\n",
        "            xticklabels=class_labels,\n",
        "            yticklabels=class_labels)\n",
        "plt.xlabel(\"Predicted Label\")\n",
        "plt.ylabel(\"True Label\")\n",
        "plt.title(\"Confusion Matrix\")\n",
        "plt.show()\n",
        "\n",
        "# Classification Report\n",
        "print(\"\\nClassification Report:\")\n",
        "print(classification_report(true_classes, pred_classes, target_names=class_labels, digits=4))"
      ],
      "metadata": {
        "id": "ZBbdrKFB7mO_",
        "colab": {
          "base_uri": "https://localhost:8080/",
          "height": 918
        },
        "outputId": "5283caeb-fbb3-4a78-e40a-67f57becb986"
      },
      "execution_count": 24,
      "outputs": [
        {
          "output_type": "stream",
          "name": "stdout",
          "text": [
            "\u001b[1m45/45\u001b[0m \u001b[32m━━━━━━━━━━━━━━━━━━━━\u001b[0m\u001b[37m\u001b[0m \u001b[1m9s\u001b[0m 89ms/step\n"
          ]
        },
        {
          "output_type": "display_data",
          "data": {
            "text/plain": [
              "<Figure size 800x600 with 2 Axes>"
            ],
            "image/png": "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\n"
          },
          "metadata": {}
        },
        {
          "output_type": "stream",
          "name": "stdout",
          "text": [
            "\n",
            "Classification Report:\n",
            "              precision    recall  f1-score   support\n",
            "\n",
            "  algal_spot     0.9587    0.9667    0.9627       240\n",
            "brown_blight     0.9442    0.9167    0.9302       240\n",
            " gray_blight     0.9256    0.9333    0.9295       240\n",
            "     healthy     0.9087    0.9125    0.9106       240\n",
            "  helopeltis     0.9502    0.9542    0.9522       240\n",
            "    red_spot     0.9253    0.9292    0.9272       240\n",
            "\n",
            "    accuracy                         0.9354      1440\n",
            "   macro avg     0.9355    0.9354    0.9354      1440\n",
            "weighted avg     0.9355    0.9354    0.9354      1440\n",
            "\n"
          ]
        }
      ]
    },
    {
      "cell_type": "code",
      "source": [
        "save_path = 'mymodel/'\n",
        "tf.saved_model.save(model, save_path)"
      ],
      "metadata": {
        "id": "gaHDKRcU7Byz"
      },
      "execution_count": 25,
      "outputs": []
    },
    {
      "cell_type": "code",
      "source": [
        "model.save('model_terlatih.keras')"
      ],
      "metadata": {
        "id": "7o1RdtpXxel4"
      },
      "execution_count": 26,
      "outputs": []
    },
    {
      "cell_type": "code",
      "source": [
        "model.save('model_terlatih.h5')"
      ],
      "metadata": {
        "colab": {
          "base_uri": "https://localhost:8080/"
        },
        "id": "Td8Of8Oai-Ni",
        "outputId": "57a0166b-886d-4eb5-aee8-ad5cf0b591d6"
      },
      "execution_count": 27,
      "outputs": [
        {
          "output_type": "stream",
          "name": "stderr",
          "text": [
            "WARNING:absl:You are saving your model as an HDF5 file via `model.save()` or `keras.saving.save_model(model)`. This file format is considered legacy. We recommend using instead the native Keras format, e.g. `model.save('my_model.keras')` or `keras.saving.save_model(model, 'my_model.keras')`. \n"
          ]
        }
      ]
    },
    {
      "cell_type": "code",
      "source": [
        "import tensorflow as tf\n",
        "\n",
        "# Muat model\n",
        "model = tf.keras.models.load_model('model_terlatih.h5')\n",
        "\n",
        "# Konversi ke TFLite\n",
        "converter = tf.lite.TFLiteConverter.from_keras_model(model)\n",
        "tflite_model = converter.convert()\n",
        "\n",
        "class_names = train_generator.class_indices  # atau class_names kamu\n",
        "with open(\"labels.txt\", \"w\") as f:\n",
        "    for label in class_names:\n",
        "        f.write(label + \"\\n\")\n"
      ],
      "metadata": {
        "colab": {
          "base_uri": "https://localhost:8080/"
        },
        "id": "eUp805_tjKYD",
        "outputId": "83a6ee88-8260-4aeb-f276-8e1bb6b9b784"
      },
      "execution_count": 28,
      "outputs": [
        {
          "output_type": "stream",
          "name": "stderr",
          "text": [
            "WARNING:absl:Compiled the loaded model, but the compiled metrics have yet to be built. `model.compile_metrics` will be empty until you train or evaluate the model.\n"
          ]
        },
        {
          "output_type": "stream",
          "name": "stdout",
          "text": [
            "Saved artifact at '/tmp/tmpt0p8xmbn'. The following endpoints are available:\n",
            "\n",
            "* Endpoint 'serve'\n",
            "  args_0 (POSITIONAL_ONLY): TensorSpec(shape=(None, 224, 224, 3), dtype=tf.float32, name='input_layer_1')\n",
            "Output Type:\n",
            "  TensorSpec(shape=(None, 6), dtype=tf.float32, name=None)\n",
            "Captures:\n",
            "  139853262582608: TensorSpec(shape=(), dtype=tf.resource, name=None)\n",
            "  139853262585680: TensorSpec(shape=(), dtype=tf.resource, name=None)\n",
            "  139853262585296: TensorSpec(shape=(), dtype=tf.resource, name=None)\n",
            "  139853262585488: TensorSpec(shape=(), dtype=tf.resource, name=None)\n",
            "  139853262585104: TensorSpec(shape=(), dtype=tf.resource, name=None)\n",
            "  139853262573392: TensorSpec(shape=(), dtype=tf.resource, name=None)\n",
            "  139853262584720: TensorSpec(shape=(), dtype=tf.resource, name=None)\n",
            "  139853262573584: TensorSpec(shape=(), dtype=tf.resource, name=None)\n",
            "  139853262573200: TensorSpec(shape=(), dtype=tf.resource, name=None)\n",
            "  139853262583952: TensorSpec(shape=(), dtype=tf.resource, name=None)\n",
            "  139853262914384: TensorSpec(shape=(), dtype=tf.resource, name=None)\n",
            "  139853262914576: TensorSpec(shape=(), dtype=tf.resource, name=None)\n",
            "  139853262916496: TensorSpec(shape=(), dtype=tf.resource, name=None)\n",
            "  139853262914768: TensorSpec(shape=(), dtype=tf.resource, name=None)\n",
            "  139853262916688: TensorSpec(shape=(), dtype=tf.resource, name=None)\n",
            "  139853262918032: TensorSpec(shape=(), dtype=tf.resource, name=None)\n",
            "  139853262917648: TensorSpec(shape=(), dtype=tf.resource, name=None)\n",
            "  139853262914000: TensorSpec(shape=(), dtype=tf.resource, name=None)\n",
            "  139853262917456: TensorSpec(shape=(), dtype=tf.resource, name=None)\n",
            "  139853262915152: TensorSpec(shape=(), dtype=tf.resource, name=None)\n",
            "  139853262916112: TensorSpec(shape=(), dtype=tf.resource, name=None)\n",
            "  139853198931152: TensorSpec(shape=(), dtype=tf.resource, name=None)\n",
            "  139853198930000: TensorSpec(shape=(), dtype=tf.resource, name=None)\n",
            "  139853262915920: TensorSpec(shape=(), dtype=tf.resource, name=None)\n",
            "  139853198930384: TensorSpec(shape=(), dtype=tf.resource, name=None)\n",
            "  139853198930576: TensorSpec(shape=(), dtype=tf.resource, name=None)\n",
            "  139853063366672: TensorSpec(shape=(), dtype=tf.resource, name=None)\n",
            "  139853063368976: TensorSpec(shape=(), dtype=tf.resource, name=None)\n",
            "  139853198928464: TensorSpec(shape=(), dtype=tf.resource, name=None)\n",
            "  139853063365904: TensorSpec(shape=(), dtype=tf.resource, name=None)\n",
            "  139853063367056: TensorSpec(shape=(), dtype=tf.resource, name=None)\n",
            "  139853063365136: TensorSpec(shape=(), dtype=tf.resource, name=None)\n",
            "  139853063365712: TensorSpec(shape=(), dtype=tf.resource, name=None)\n",
            "  139853063366096: TensorSpec(shape=(), dtype=tf.resource, name=None)\n",
            "  139853063369936: TensorSpec(shape=(), dtype=tf.resource, name=None)\n",
            "  139853063363408: TensorSpec(shape=(), dtype=tf.resource, name=None)\n",
            "  139853063367824: TensorSpec(shape=(), dtype=tf.resource, name=None)\n",
            "  139853063371280: TensorSpec(shape=(), dtype=tf.resource, name=None)\n",
            "  139853063371088: TensorSpec(shape=(), dtype=tf.resource, name=None)\n",
            "  139853063372432: TensorSpec(shape=(), dtype=tf.resource, name=None)\n",
            "  139853063371856: TensorSpec(shape=(), dtype=tf.resource, name=None)\n",
            "  139853063369552: TensorSpec(shape=(), dtype=tf.resource, name=None)\n",
            "  139853063368592: TensorSpec(shape=(), dtype=tf.resource, name=None)\n",
            "  139853063370512: TensorSpec(shape=(), dtype=tf.resource, name=None)\n",
            "  139853063364560: TensorSpec(shape=(), dtype=tf.resource, name=None)\n",
            "  139853063372048: TensorSpec(shape=(), dtype=tf.resource, name=None)\n",
            "  139850963551440: TensorSpec(shape=(), dtype=tf.resource, name=None)\n",
            "  139850963550480: TensorSpec(shape=(), dtype=tf.resource, name=None)\n",
            "  139850963551248: TensorSpec(shape=(), dtype=tf.resource, name=None)\n",
            "  139850963550288: TensorSpec(shape=(), dtype=tf.resource, name=None)\n",
            "  139850963552976: TensorSpec(shape=(), dtype=tf.resource, name=None)\n",
            "  139850963553360: TensorSpec(shape=(), dtype=tf.resource, name=None)\n",
            "  139850963553744: TensorSpec(shape=(), dtype=tf.resource, name=None)\n",
            "  139850963553552: TensorSpec(shape=(), dtype=tf.resource, name=None)\n",
            "  139850963550672: TensorSpec(shape=(), dtype=tf.resource, name=None)\n",
            "  139850963554896: TensorSpec(shape=(), dtype=tf.resource, name=None)\n",
            "  139850963555280: TensorSpec(shape=(), dtype=tf.resource, name=None)\n",
            "  139850963555664: TensorSpec(shape=(), dtype=tf.resource, name=None)\n",
            "  139850963555472: TensorSpec(shape=(), dtype=tf.resource, name=None)\n",
            "  139850963551824: TensorSpec(shape=(), dtype=tf.resource, name=None)\n",
            "  139850963556816: TensorSpec(shape=(), dtype=tf.resource, name=None)\n",
            "  139850963557200: TensorSpec(shape=(), dtype=tf.resource, name=None)\n",
            "  139850963557584: TensorSpec(shape=(), dtype=tf.resource, name=None)\n",
            "  139850963557392: TensorSpec(shape=(), dtype=tf.resource, name=None)\n",
            "  139850963552592: TensorSpec(shape=(), dtype=tf.resource, name=None)\n",
            "  139850963558736: TensorSpec(shape=(), dtype=tf.resource, name=None)\n",
            "  139850963559120: TensorSpec(shape=(), dtype=tf.resource, name=None)\n",
            "  139850963559504: TensorSpec(shape=(), dtype=tf.resource, name=None)\n",
            "  139850963559312: TensorSpec(shape=(), dtype=tf.resource, name=None)\n",
            "  139850963554512: TensorSpec(shape=(), dtype=tf.resource, name=None)\n",
            "  139850963560656: TensorSpec(shape=(), dtype=tf.resource, name=None)\n",
            "  139850963561040: TensorSpec(shape=(), dtype=tf.resource, name=None)\n",
            "  139850963561424: TensorSpec(shape=(), dtype=tf.resource, name=None)\n",
            "  139850963561232: TensorSpec(shape=(), dtype=tf.resource, name=None)\n",
            "  139850963556432: TensorSpec(shape=(), dtype=tf.resource, name=None)\n",
            "  139850963562576: TensorSpec(shape=(), dtype=tf.resource, name=None)\n",
            "  139850963562960: TensorSpec(shape=(), dtype=tf.resource, name=None)\n",
            "  139850963563344: TensorSpec(shape=(), dtype=tf.resource, name=None)\n",
            "  139850963563152: TensorSpec(shape=(), dtype=tf.resource, name=None)\n",
            "  139850963558352: TensorSpec(shape=(), dtype=tf.resource, name=None)\n",
            "  139850963564496: TensorSpec(shape=(), dtype=tf.resource, name=None)\n",
            "  139850963564880: TensorSpec(shape=(), dtype=tf.resource, name=None)\n",
            "  139850963565264: TensorSpec(shape=(), dtype=tf.resource, name=None)\n",
            "  139850963565072: TensorSpec(shape=(), dtype=tf.resource, name=None)\n",
            "  139850963560272: TensorSpec(shape=(), dtype=tf.resource, name=None)\n",
            "  139850963566416: TensorSpec(shape=(), dtype=tf.resource, name=None)\n",
            "  139850963562192: TensorSpec(shape=(), dtype=tf.resource, name=None)\n",
            "  139850963747472: TensorSpec(shape=(), dtype=tf.resource, name=None)\n",
            "  139850963566032: TensorSpec(shape=(), dtype=tf.resource, name=None)\n",
            "  139850963564112: TensorSpec(shape=(), dtype=tf.resource, name=None)\n",
            "  139850963748624: TensorSpec(shape=(), dtype=tf.resource, name=None)\n",
            "  139850963749008: TensorSpec(shape=(), dtype=tf.resource, name=None)\n",
            "  139850963749392: TensorSpec(shape=(), dtype=tf.resource, name=None)\n",
            "  139850963749200: TensorSpec(shape=(), dtype=tf.resource, name=None)\n",
            "  139850963747856: TensorSpec(shape=(), dtype=tf.resource, name=None)\n",
            "  139850963750544: TensorSpec(shape=(), dtype=tf.resource, name=None)\n",
            "  139850963750928: TensorSpec(shape=(), dtype=tf.resource, name=None)\n",
            "  139850963751312: TensorSpec(shape=(), dtype=tf.resource, name=None)\n",
            "  139850963751120: TensorSpec(shape=(), dtype=tf.resource, name=None)\n",
            "  139850963747088: TensorSpec(shape=(), dtype=tf.resource, name=None)\n",
            "  139850963752464: TensorSpec(shape=(), dtype=tf.resource, name=None)\n",
            "  139850963752848: TensorSpec(shape=(), dtype=tf.resource, name=None)\n",
            "  139850963753232: TensorSpec(shape=(), dtype=tf.resource, name=None)\n",
            "  139850963753040: TensorSpec(shape=(), dtype=tf.resource, name=None)\n",
            "  139850963748240: TensorSpec(shape=(), dtype=tf.resource, name=None)\n",
            "  139850963754384: TensorSpec(shape=(), dtype=tf.resource, name=None)\n",
            "  139850963754768: TensorSpec(shape=(), dtype=tf.resource, name=None)\n",
            "  139850963755152: TensorSpec(shape=(), dtype=tf.resource, name=None)\n",
            "  139850963754960: TensorSpec(shape=(), dtype=tf.resource, name=None)\n",
            "  139850963750160: TensorSpec(shape=(), dtype=tf.resource, name=None)\n",
            "  139850963756304: TensorSpec(shape=(), dtype=tf.resource, name=None)\n",
            "  139850963756688: TensorSpec(shape=(), dtype=tf.resource, name=None)\n",
            "  139850963757072: TensorSpec(shape=(), dtype=tf.resource, name=None)\n",
            "  139850963756880: TensorSpec(shape=(), dtype=tf.resource, name=None)\n",
            "  139850963752080: TensorSpec(shape=(), dtype=tf.resource, name=None)\n",
            "  139850963758224: TensorSpec(shape=(), dtype=tf.resource, name=None)\n",
            "  139850963758608: TensorSpec(shape=(), dtype=tf.resource, name=None)\n",
            "  139850963758992: TensorSpec(shape=(), dtype=tf.resource, name=None)\n",
            "  139850963758800: TensorSpec(shape=(), dtype=tf.resource, name=None)\n",
            "  139850963754000: TensorSpec(shape=(), dtype=tf.resource, name=None)\n",
            "  139850963760144: TensorSpec(shape=(), dtype=tf.resource, name=None)\n",
            "  139850963760528: TensorSpec(shape=(), dtype=tf.resource, name=None)\n",
            "  139850963760912: TensorSpec(shape=(), dtype=tf.resource, name=None)\n",
            "  139850963760720: TensorSpec(shape=(), dtype=tf.resource, name=None)\n",
            "  139850963755920: TensorSpec(shape=(), dtype=tf.resource, name=None)\n",
            "  139850963762064: TensorSpec(shape=(), dtype=tf.resource, name=None)\n",
            "  139850963761680: TensorSpec(shape=(), dtype=tf.resource, name=None)\n",
            "  139850963759760: TensorSpec(shape=(), dtype=tf.resource, name=None)\n",
            "  139850963762640: TensorSpec(shape=(), dtype=tf.resource, name=None)\n",
            "  139850963757840: TensorSpec(shape=(), dtype=tf.resource, name=None)\n",
            "  139850963761296: TensorSpec(shape=(), dtype=tf.resource, name=None)\n",
            "  139850963895504: TensorSpec(shape=(), dtype=tf.resource, name=None)\n",
            "  139850963894544: TensorSpec(shape=(), dtype=tf.resource, name=None)\n",
            "  139850963895312: TensorSpec(shape=(), dtype=tf.resource, name=None)\n",
            "  139850963894352: TensorSpec(shape=(), dtype=tf.resource, name=None)\n",
            "  139850963897040: TensorSpec(shape=(), dtype=tf.resource, name=None)\n",
            "  139850963897424: TensorSpec(shape=(), dtype=tf.resource, name=None)\n",
            "  139850963897808: TensorSpec(shape=(), dtype=tf.resource, name=None)\n",
            "  139850963897616: TensorSpec(shape=(), dtype=tf.resource, name=None)\n",
            "  139850963894736: TensorSpec(shape=(), dtype=tf.resource, name=None)\n",
            "  139850963898960: TensorSpec(shape=(), dtype=tf.resource, name=None)\n",
            "  139850963899344: TensorSpec(shape=(), dtype=tf.resource, name=None)\n",
            "  139850963899728: TensorSpec(shape=(), dtype=tf.resource, name=None)\n",
            "  139850963899536: TensorSpec(shape=(), dtype=tf.resource, name=None)\n",
            "  139850963895888: TensorSpec(shape=(), dtype=tf.resource, name=None)\n",
            "  139850963900880: TensorSpec(shape=(), dtype=tf.resource, name=None)\n",
            "  139850963901264: TensorSpec(shape=(), dtype=tf.resource, name=None)\n",
            "  139850963901648: TensorSpec(shape=(), dtype=tf.resource, name=None)\n",
            "  139850963901456: TensorSpec(shape=(), dtype=tf.resource, name=None)\n",
            "  139850963896656: TensorSpec(shape=(), dtype=tf.resource, name=None)\n",
            "  139850963902800: TensorSpec(shape=(), dtype=tf.resource, name=None)\n",
            "  139850963903184: TensorSpec(shape=(), dtype=tf.resource, name=None)\n",
            "  139850963903568: TensorSpec(shape=(), dtype=tf.resource, name=None)\n",
            "  139850963903376: TensorSpec(shape=(), dtype=tf.resource, name=None)\n",
            "  139850963898576: TensorSpec(shape=(), dtype=tf.resource, name=None)\n",
            "  139850963904720: TensorSpec(shape=(), dtype=tf.resource, name=None)\n",
            "  139850963905104: TensorSpec(shape=(), dtype=tf.resource, name=None)\n",
            "  139850963905488: TensorSpec(shape=(), dtype=tf.resource, name=None)\n",
            "  139850963905296: TensorSpec(shape=(), dtype=tf.resource, name=None)\n",
            "  139850963900496: TensorSpec(shape=(), dtype=tf.resource, name=None)\n",
            "  139850963906640: TensorSpec(shape=(), dtype=tf.resource, name=None)\n",
            "  139850963907024: TensorSpec(shape=(), dtype=tf.resource, name=None)\n",
            "  139850963907408: TensorSpec(shape=(), dtype=tf.resource, name=None)\n",
            "  139850963907216: TensorSpec(shape=(), dtype=tf.resource, name=None)\n",
            "  139850963902416: TensorSpec(shape=(), dtype=tf.resource, name=None)\n",
            "  139850963908560: TensorSpec(shape=(), dtype=tf.resource, name=None)\n",
            "  139850963908944: TensorSpec(shape=(), dtype=tf.resource, name=None)\n",
            "  139850963909328: TensorSpec(shape=(), dtype=tf.resource, name=None)\n",
            "  139850963909136: TensorSpec(shape=(), dtype=tf.resource, name=None)\n",
            "  139850963904336: TensorSpec(shape=(), dtype=tf.resource, name=None)\n",
            "  139850963910480: TensorSpec(shape=(), dtype=tf.resource, name=None)\n",
            "  139850963906256: TensorSpec(shape=(), dtype=tf.resource, name=None)\n",
            "  139850964074768: TensorSpec(shape=(), dtype=tf.resource, name=None)\n",
            "  139850963910096: TensorSpec(shape=(), dtype=tf.resource, name=None)\n",
            "  139850963908176: TensorSpec(shape=(), dtype=tf.resource, name=None)\n",
            "  139850964076304: TensorSpec(shape=(), dtype=tf.resource, name=None)\n",
            "  139850964076688: TensorSpec(shape=(), dtype=tf.resource, name=None)\n",
            "  139850964077072: TensorSpec(shape=(), dtype=tf.resource, name=None)\n",
            "  139850964076880: TensorSpec(shape=(), dtype=tf.resource, name=None)\n",
            "  139850964074960: TensorSpec(shape=(), dtype=tf.resource, name=None)\n",
            "  139850964079760: TensorSpec(shape=(), dtype=tf.resource, name=None)\n",
            "  139850964081296: TensorSpec(shape=(), dtype=tf.resource, name=None)\n",
            "  139850964080336: TensorSpec(shape=(), dtype=tf.resource, name=None)\n",
            "  139850964081104: TensorSpec(shape=(), dtype=tf.resource, name=None)\n",
            "  139850964080144: TensorSpec(shape=(), dtype=tf.resource, name=None)\n",
            "  139850964082832: TensorSpec(shape=(), dtype=tf.resource, name=None)\n",
            "  139850964079376: TensorSpec(shape=(), dtype=tf.resource, name=None)\n",
            "  139850964075920: TensorSpec(shape=(), dtype=tf.resource, name=None)\n",
            "  139850964083600: TensorSpec(shape=(), dtype=tf.resource, name=None)\n",
            "  139850964080528: TensorSpec(shape=(), dtype=tf.resource, name=None)\n",
            "  139850964078800: TensorSpec(shape=(), dtype=tf.resource, name=None)\n",
            "  139850964078608: TensorSpec(shape=(), dtype=tf.resource, name=None)\n",
            "  139850964077840: TensorSpec(shape=(), dtype=tf.resource, name=None)\n",
            "  139850964078416: TensorSpec(shape=(), dtype=tf.resource, name=None)\n",
            "  139850964074576: TensorSpec(shape=(), dtype=tf.resource, name=None)\n",
            "  139850964083792: TensorSpec(shape=(), dtype=tf.resource, name=None)\n",
            "  139850964084560: TensorSpec(shape=(), dtype=tf.resource, name=None)\n",
            "  139850964084944: TensorSpec(shape=(), dtype=tf.resource, name=None)\n",
            "  139850964084752: TensorSpec(shape=(), dtype=tf.resource, name=None)\n",
            "  139850964081680: TensorSpec(shape=(), dtype=tf.resource, name=None)\n",
            "  139850964086096: TensorSpec(shape=(), dtype=tf.resource, name=None)\n",
            "  139850964086480: TensorSpec(shape=(), dtype=tf.resource, name=None)\n",
            "  139850964086864: TensorSpec(shape=(), dtype=tf.resource, name=None)\n",
            "  139850964086672: TensorSpec(shape=(), dtype=tf.resource, name=None)\n",
            "  139850964084368: TensorSpec(shape=(), dtype=tf.resource, name=None)\n",
            "  139850964088016: TensorSpec(shape=(), dtype=tf.resource, name=None)\n",
            "  139850964088400: TensorSpec(shape=(), dtype=tf.resource, name=None)\n",
            "  139850964088784: TensorSpec(shape=(), dtype=tf.resource, name=None)\n",
            "  139850964088592: TensorSpec(shape=(), dtype=tf.resource, name=None)\n",
            "  139850964082064: TensorSpec(shape=(), dtype=tf.resource, name=None)\n",
            "  139850964089936: TensorSpec(shape=(), dtype=tf.resource, name=None)\n",
            "  139850964089552: TensorSpec(shape=(), dtype=tf.resource, name=None)\n",
            "  139850964089168: TensorSpec(shape=(), dtype=tf.resource, name=None)\n",
            "  139850964090512: TensorSpec(shape=(), dtype=tf.resource, name=None)\n",
            "  139850964085712: TensorSpec(shape=(), dtype=tf.resource, name=None)\n",
            "  139850964087632: TensorSpec(shape=(), dtype=tf.resource, name=None)\n",
            "  139850964223376: TensorSpec(shape=(), dtype=tf.resource, name=None)\n",
            "  139850964222416: TensorSpec(shape=(), dtype=tf.resource, name=None)\n",
            "  139850964223184: TensorSpec(shape=(), dtype=tf.resource, name=None)\n",
            "  139850964222224: TensorSpec(shape=(), dtype=tf.resource, name=None)\n",
            "  139850964224912: TensorSpec(shape=(), dtype=tf.resource, name=None)\n",
            "  139850964225296: TensorSpec(shape=(), dtype=tf.resource, name=None)\n",
            "  139850964225680: TensorSpec(shape=(), dtype=tf.resource, name=None)\n",
            "  139850964225488: TensorSpec(shape=(), dtype=tf.resource, name=None)\n",
            "  139850964222608: TensorSpec(shape=(), dtype=tf.resource, name=None)\n",
            "  139850964226832: TensorSpec(shape=(), dtype=tf.resource, name=None)\n",
            "  139850964227216: TensorSpec(shape=(), dtype=tf.resource, name=None)\n",
            "  139850964227600: TensorSpec(shape=(), dtype=tf.resource, name=None)\n",
            "  139850964227408: TensorSpec(shape=(), dtype=tf.resource, name=None)\n",
            "  139850964223760: TensorSpec(shape=(), dtype=tf.resource, name=None)\n",
            "  139850964228752: TensorSpec(shape=(), dtype=tf.resource, name=None)\n",
            "  139850964229136: TensorSpec(shape=(), dtype=tf.resource, name=None)\n",
            "  139850964229520: TensorSpec(shape=(), dtype=tf.resource, name=None)\n",
            "  139850964229328: TensorSpec(shape=(), dtype=tf.resource, name=None)\n",
            "  139850964224528: TensorSpec(shape=(), dtype=tf.resource, name=None)\n",
            "  139850964230672: TensorSpec(shape=(), dtype=tf.resource, name=None)\n",
            "  139850964231056: TensorSpec(shape=(), dtype=tf.resource, name=None)\n",
            "  139850964231440: TensorSpec(shape=(), dtype=tf.resource, name=None)\n",
            "  139850964231248: TensorSpec(shape=(), dtype=tf.resource, name=None)\n",
            "  139850964226448: TensorSpec(shape=(), dtype=tf.resource, name=None)\n",
            "  139850964232592: TensorSpec(shape=(), dtype=tf.resource, name=None)\n",
            "  139850964232976: TensorSpec(shape=(), dtype=tf.resource, name=None)\n",
            "  139850964233360: TensorSpec(shape=(), dtype=tf.resource, name=None)\n",
            "  139850964233168: TensorSpec(shape=(), dtype=tf.resource, name=None)\n",
            "  139850964228368: TensorSpec(shape=(), dtype=tf.resource, name=None)\n",
            "  139850964234512: TensorSpec(shape=(), dtype=tf.resource, name=None)\n",
            "  139850964234896: TensorSpec(shape=(), dtype=tf.resource, name=None)\n",
            "  139850964235280: TensorSpec(shape=(), dtype=tf.resource, name=None)\n",
            "  139850964235088: TensorSpec(shape=(), dtype=tf.resource, name=None)\n",
            "  139850964230288: TensorSpec(shape=(), dtype=tf.resource, name=None)\n",
            "  139850964236432: TensorSpec(shape=(), dtype=tf.resource, name=None)\n",
            "  139850964236816: TensorSpec(shape=(), dtype=tf.resource, name=None)\n",
            "  139850964237200: TensorSpec(shape=(), dtype=tf.resource, name=None)\n",
            "  139850964237008: TensorSpec(shape=(), dtype=tf.resource, name=None)\n",
            "  139850964232208: TensorSpec(shape=(), dtype=tf.resource, name=None)\n",
            "  139850964234128: TensorSpec(shape=(), dtype=tf.resource, name=None)\n",
            "  139850964419600: TensorSpec(shape=(), dtype=tf.resource, name=None)\n",
            "  139850964418640: TensorSpec(shape=(), dtype=tf.resource, name=None)\n",
            "  139850964236048: TensorSpec(shape=(), dtype=tf.resource, name=None)\n",
            "  139850964235664: TensorSpec(shape=(), dtype=tf.resource, name=None)\n",
            "  139850964420560: TensorSpec(shape=(), dtype=tf.resource, name=None)\n",
            "  139850964421328: TensorSpec(shape=(), dtype=tf.resource, name=None)\n",
            "  139850964421136: TensorSpec(shape=(), dtype=tf.resource, name=None)\n",
            "  139850964422096: TensorSpec(shape=(), dtype=tf.resource, name=None)\n",
            "  139850964420944: TensorSpec(shape=(), dtype=tf.resource, name=None)\n",
            "  139850964423248: TensorSpec(shape=(), dtype=tf.resource, name=None)\n",
            "  139850964422672: TensorSpec(shape=(), dtype=tf.resource, name=None)\n",
            "  139850964424208: TensorSpec(shape=(), dtype=tf.resource, name=None)\n"
          ]
        }
      ]
    },
    {
      "cell_type": "markdown",
      "source": [
        "## Inference"
      ],
      "metadata": {
        "id": "rf8Jo66K_2BS"
      }
    },
    {
      "cell_type": "code",
      "source": [
        "import tensorflow as tf\n",
        "import numpy as np\n",
        "from tensorflow.keras.preprocessing import image\n",
        "from PIL import Image\n",
        "import io\n",
        "from keras.layers import TFSMLayer\n",
        "from IPython.display import display\n",
        "\n",
        "# === Load the TensorFlow SavedModel as a Keras inference layer ===\n",
        "tfsml_layer = TFSMLayer('mymodel/', call_endpoint='serving_default')\n",
        "# Wrap it into a Keras Functional model for .predict()\n",
        "inputs = tf.keras.Input(shape=(224, 224, 3), name='input_image')\n",
        "outputs = tfsml_layer(inputs)\n",
        "model = tf.keras.Model(inputs=inputs, outputs=outputs)\n",
        "\n",
        "# Flexible preprocessing: accepts file path, bytes (from upload), or PIL Image\n",
        "def preprocess_image_input(img_input, target_size=(224, 224)):\n",
        "    if isinstance(img_input, str):\n",
        "        img = image.load_img(img_input, target_size=target_size)\n",
        "    elif isinstance(img_input, (bytes, bytearray)):\n",
        "        img = Image.open(io.BytesIO(img_input)).convert('RGB')\n",
        "        img = img.resize(target_size)\n",
        "    elif isinstance(img_input, Image.Image):\n",
        "        img = img_input.resize(target_size)\n",
        "    else:\n",
        "        raise ValueError(f\"Unsupported image input type: {type(img_input)}\")\n",
        "\n",
        "    img_array = image.img_to_array(img)\n",
        "    img_array = np.expand_dims(img_array, axis=0)\n",
        "    img_array = img_array / 255.0\n",
        "    return img_array\n",
        "\n",
        "# Utility to normalize and extract class index from predictions\n",
        "def get_class_index(preds):\n",
        "    if isinstance(preds, dict):\n",
        "        preds = next(iter(preds.values()))\n",
        "    preds = np.array(preds)\n",
        "    if preds.ndim > 1:\n",
        "        return int(np.argmax(preds, axis=1)[0])\n",
        "    return int(np.argmax(preds))\n",
        "\n",
        "def predict_from_upload(model, class_labels=None):\n",
        "    from google.colab import files\n",
        "    uploaded = files.upload()\n",
        "    for filename, file_bytes in uploaded.items():\n",
        "        # Display the uploaded image\n",
        "        pil_img = Image.open(io.BytesIO(file_bytes)).convert('RGB')\n",
        "        display(pil_img)\n",
        "\n",
        "        # Predict\n",
        "        img_array = preprocess_image_input(pil_img)\n",
        "        preds = model.predict(img_array)\n",
        "        class_idx = get_class_index(preds)\n",
        "        label = class_labels.get(class_idx, class_idx) if class_labels else class_idx\n",
        "        print(f\"File: {filename} -> Predicted: {label}\")\n",
        "\n"
      ],
      "metadata": {
        "id": "gHsUDeK454kN"
      },
      "execution_count": 34,
      "outputs": []
    },
    {
      "cell_type": "code",
      "source": [
        "class_labels = {0: \"algal_spot\", 1: \"brown_blight\", 2: \"gray_blight\", 3: \"healthy\", 4: \"helopeltis\", 5: \"red_spot\"}\n",
        "predict_from_upload(model,class_labels)"
      ],
      "metadata": {
        "colab": {
          "base_uri": "https://localhost:8080/",
          "height": 255
        },
        "id": "FsCQfBNY-RTC",
        "outputId": "6e405fdd-5cf9-4001-efb3-3e85a7f247a4"
      },
      "execution_count": 35,
      "outputs": [
        {
          "output_type": "display_data",
          "data": {
            "text/plain": [
              "<IPython.core.display.HTML object>"
            ],
            "text/html": [
              "\n",
              "     <input type=\"file\" id=\"files-16948d0d-d67e-466c-bd2b-546a557405df\" name=\"files[]\" multiple disabled\n",
              "        style=\"border:none\" />\n",
              "     <output id=\"result-16948d0d-d67e-466c-bd2b-546a557405df\">\n",
              "      Upload widget is only available when the cell has been executed in the\n",
              "      current browser session. Please rerun this cell to enable.\n",
              "      </output>\n",
              "      <script>// Copyright 2017 Google LLC\n",
              "//\n",
              "// Licensed under the Apache License, Version 2.0 (the \"License\");\n",
              "// you may not use this file except in compliance with the License.\n",
              "// You may obtain a copy of the License at\n",
              "//\n",
              "//      http://www.apache.org/licenses/LICENSE-2.0\n",
              "//\n",
              "// Unless required by applicable law or agreed to in writing, software\n",
              "// distributed under the License is distributed on an \"AS IS\" BASIS,\n",
              "// WITHOUT WARRANTIES OR CONDITIONS OF ANY KIND, either express or implied.\n",
              "// See the License for the specific language governing permissions and\n",
              "// limitations under the License.\n",
              "\n",
              "/**\n",
              " * @fileoverview Helpers for google.colab Python module.\n",
              " */\n",
              "(function(scope) {\n",
              "function span(text, styleAttributes = {}) {\n",
              "  const element = document.createElement('span');\n",
              "  element.textContent = text;\n",
              "  for (const key of Object.keys(styleAttributes)) {\n",
              "    element.style[key] = styleAttributes[key];\n",
              "  }\n",
              "  return element;\n",
              "}\n",
              "\n",
              "// Max number of bytes which will be uploaded at a time.\n",
              "const MAX_PAYLOAD_SIZE = 100 * 1024;\n",
              "\n",
              "function _uploadFiles(inputId, outputId) {\n",
              "  const steps = uploadFilesStep(inputId, outputId);\n",
              "  const outputElement = document.getElementById(outputId);\n",
              "  // Cache steps on the outputElement to make it available for the next call\n",
              "  // to uploadFilesContinue from Python.\n",
              "  outputElement.steps = steps;\n",
              "\n",
              "  return _uploadFilesContinue(outputId);\n",
              "}\n",
              "\n",
              "// This is roughly an async generator (not supported in the browser yet),\n",
              "// where there are multiple asynchronous steps and the Python side is going\n",
              "// to poll for completion of each step.\n",
              "// This uses a Promise to block the python side on completion of each step,\n",
              "// then passes the result of the previous step as the input to the next step.\n",
              "function _uploadFilesContinue(outputId) {\n",
              "  const outputElement = document.getElementById(outputId);\n",
              "  const steps = outputElement.steps;\n",
              "\n",
              "  const next = steps.next(outputElement.lastPromiseValue);\n",
              "  return Promise.resolve(next.value.promise).then((value) => {\n",
              "    // Cache the last promise value to make it available to the next\n",
              "    // step of the generator.\n",
              "    outputElement.lastPromiseValue = value;\n",
              "    return next.value.response;\n",
              "  });\n",
              "}\n",
              "\n",
              "/**\n",
              " * Generator function which is called between each async step of the upload\n",
              " * process.\n",
              " * @param {string} inputId Element ID of the input file picker element.\n",
              " * @param {string} outputId Element ID of the output display.\n",
              " * @return {!Iterable<!Object>} Iterable of next steps.\n",
              " */\n",
              "function* uploadFilesStep(inputId, outputId) {\n",
              "  const inputElement = document.getElementById(inputId);\n",
              "  inputElement.disabled = false;\n",
              "\n",
              "  const outputElement = document.getElementById(outputId);\n",
              "  outputElement.innerHTML = '';\n",
              "\n",
              "  const pickedPromise = new Promise((resolve) => {\n",
              "    inputElement.addEventListener('change', (e) => {\n",
              "      resolve(e.target.files);\n",
              "    });\n",
              "  });\n",
              "\n",
              "  const cancel = document.createElement('button');\n",
              "  inputElement.parentElement.appendChild(cancel);\n",
              "  cancel.textContent = 'Cancel upload';\n",
              "  const cancelPromise = new Promise((resolve) => {\n",
              "    cancel.onclick = () => {\n",
              "      resolve(null);\n",
              "    };\n",
              "  });\n",
              "\n",
              "  // Wait for the user to pick the files.\n",
              "  const files = yield {\n",
              "    promise: Promise.race([pickedPromise, cancelPromise]),\n",
              "    response: {\n",
              "      action: 'starting',\n",
              "    }\n",
              "  };\n",
              "\n",
              "  cancel.remove();\n",
              "\n",
              "  // Disable the input element since further picks are not allowed.\n",
              "  inputElement.disabled = true;\n",
              "\n",
              "  if (!files) {\n",
              "    return {\n",
              "      response: {\n",
              "        action: 'complete',\n",
              "      }\n",
              "    };\n",
              "  }\n",
              "\n",
              "  for (const file of files) {\n",
              "    const li = document.createElement('li');\n",
              "    li.append(span(file.name, {fontWeight: 'bold'}));\n",
              "    li.append(span(\n",
              "        `(${file.type || 'n/a'}) - ${file.size} bytes, ` +\n",
              "        `last modified: ${\n",
              "            file.lastModifiedDate ? file.lastModifiedDate.toLocaleDateString() :\n",
              "                                    'n/a'} - `));\n",
              "    const percent = span('0% done');\n",
              "    li.appendChild(percent);\n",
              "\n",
              "    outputElement.appendChild(li);\n",
              "\n",
              "    const fileDataPromise = new Promise((resolve) => {\n",
              "      const reader = new FileReader();\n",
              "      reader.onload = (e) => {\n",
              "        resolve(e.target.result);\n",
              "      };\n",
              "      reader.readAsArrayBuffer(file);\n",
              "    });\n",
              "    // Wait for the data to be ready.\n",
              "    let fileData = yield {\n",
              "      promise: fileDataPromise,\n",
              "      response: {\n",
              "        action: 'continue',\n",
              "      }\n",
              "    };\n",
              "\n",
              "    // Use a chunked sending to avoid message size limits. See b/62115660.\n",
              "    let position = 0;\n",
              "    do {\n",
              "      const length = Math.min(fileData.byteLength - position, MAX_PAYLOAD_SIZE);\n",
              "      const chunk = new Uint8Array(fileData, position, length);\n",
              "      position += length;\n",
              "\n",
              "      const base64 = btoa(String.fromCharCode.apply(null, chunk));\n",
              "      yield {\n",
              "        response: {\n",
              "          action: 'append',\n",
              "          file: file.name,\n",
              "          data: base64,\n",
              "        },\n",
              "      };\n",
              "\n",
              "      let percentDone = fileData.byteLength === 0 ?\n",
              "          100 :\n",
              "          Math.round((position / fileData.byteLength) * 100);\n",
              "      percent.textContent = `${percentDone}% done`;\n",
              "\n",
              "    } while (position < fileData.byteLength);\n",
              "  }\n",
              "\n",
              "  // All done.\n",
              "  yield {\n",
              "    response: {\n",
              "      action: 'complete',\n",
              "    }\n",
              "  };\n",
              "}\n",
              "\n",
              "scope.google = scope.google || {};\n",
              "scope.google.colab = scope.google.colab || {};\n",
              "scope.google.colab._files = {\n",
              "  _uploadFiles,\n",
              "  _uploadFilesContinue,\n",
              "};\n",
              "})(self);\n",
              "</script> "
            ]
          },
          "metadata": {}
        },
        {
          "output_type": "stream",
          "name": "stdout",
          "text": [
            "Saving 20211205_155416_aug_782.jpg to 20211205_155416_aug_782 (1).jpg\n"
          ]
        },
        {
          "output_type": "display_data",
          "data": {
            "text/plain": [
              "<PIL.Image.Image image mode=RGB size=150x150>"
            ],
            "image/png": "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\n",
            "image/jpeg": "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\n"
          },
          "metadata": {}
        },
        {
          "output_type": "stream",
          "name": "stdout",
          "text": [
            "\u001b[1m1/1\u001b[0m \u001b[32m━━━━━━━━━━━━━━━━━━━━\u001b[0m\u001b[37m\u001b[0m \u001b[1m2s\u001b[0m 2s/step\n",
            "File: 20211205_155416_aug_782 (1).jpg -> Predicted: brown_blight\n"
          ]
        }
      ]
    }
  ]
}
